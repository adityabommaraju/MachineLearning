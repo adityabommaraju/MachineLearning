{
 "cells": [
  {
   "cell_type": "code",
   "execution_count": 124,
   "id": "2bb269d9",
   "metadata": {},
   "outputs": [],
   "source": [
    "import numpy as np\n",
    "import pandas as pd\n",
    "from sklearn.preprocessing import MinMaxScaler\n",
    "import seaborn as sns\n",
    "import matplotlib.pyplot as plt"
   ]
  },
  {
   "cell_type": "code",
   "execution_count": 125,
   "id": "90657c83",
   "metadata": {},
   "outputs": [],
   "source": [
    "df = pd.read_csv('ex1data1.txt',header=None)"
   ]
  },
  {
   "cell_type": "code",
   "execution_count": 126,
   "id": "a679c8e7",
   "metadata": {},
   "outputs": [
    {
     "data": {
      "text/html": [
       "<div>\n",
       "<style scoped>\n",
       "    .dataframe tbody tr th:only-of-type {\n",
       "        vertical-align: middle;\n",
       "    }\n",
       "\n",
       "    .dataframe tbody tr th {\n",
       "        vertical-align: top;\n",
       "    }\n",
       "\n",
       "    .dataframe thead th {\n",
       "        text-align: right;\n",
       "    }\n",
       "</style>\n",
       "<table border=\"1\" class=\"dataframe\">\n",
       "  <thead>\n",
       "    <tr style=\"text-align: right;\">\n",
       "      <th></th>\n",
       "      <th>0</th>\n",
       "      <th>1</th>\n",
       "    </tr>\n",
       "  </thead>\n",
       "  <tbody>\n",
       "    <tr>\n",
       "      <th>0</th>\n",
       "      <td>6.1101</td>\n",
       "      <td>17.5920</td>\n",
       "    </tr>\n",
       "    <tr>\n",
       "      <th>1</th>\n",
       "      <td>5.5277</td>\n",
       "      <td>9.1302</td>\n",
       "    </tr>\n",
       "    <tr>\n",
       "      <th>2</th>\n",
       "      <td>8.5186</td>\n",
       "      <td>13.6620</td>\n",
       "    </tr>\n",
       "    <tr>\n",
       "      <th>3</th>\n",
       "      <td>7.0032</td>\n",
       "      <td>11.8540</td>\n",
       "    </tr>\n",
       "    <tr>\n",
       "      <th>4</th>\n",
       "      <td>5.8598</td>\n",
       "      <td>6.8233</td>\n",
       "    </tr>\n",
       "  </tbody>\n",
       "</table>\n",
       "</div>"
      ],
      "text/plain": [
       "        0        1\n",
       "0  6.1101  17.5920\n",
       "1  5.5277   9.1302\n",
       "2  8.5186  13.6620\n",
       "3  7.0032  11.8540\n",
       "4  5.8598   6.8233"
      ]
     },
     "execution_count": 126,
     "metadata": {},
     "output_type": "execute_result"
    }
   ],
   "source": [
    "df.head()"
   ]
  },
  {
   "cell_type": "code",
   "execution_count": 127,
   "id": "50d4a9fb",
   "metadata": {},
   "outputs": [],
   "source": [
    "df.columns = ['population','profit']"
   ]
  },
  {
   "cell_type": "code",
   "execution_count": 128,
   "id": "8f389e4c",
   "metadata": {},
   "outputs": [
    {
     "data": {
      "text/html": [
       "<div>\n",
       "<style scoped>\n",
       "    .dataframe tbody tr th:only-of-type {\n",
       "        vertical-align: middle;\n",
       "    }\n",
       "\n",
       "    .dataframe tbody tr th {\n",
       "        vertical-align: top;\n",
       "    }\n",
       "\n",
       "    .dataframe thead th {\n",
       "        text-align: right;\n",
       "    }\n",
       "</style>\n",
       "<table border=\"1\" class=\"dataframe\">\n",
       "  <thead>\n",
       "    <tr style=\"text-align: right;\">\n",
       "      <th></th>\n",
       "      <th>population</th>\n",
       "      <th>profit</th>\n",
       "    </tr>\n",
       "  </thead>\n",
       "  <tbody>\n",
       "    <tr>\n",
       "      <th>0</th>\n",
       "      <td>6.1101</td>\n",
       "      <td>17.5920</td>\n",
       "    </tr>\n",
       "    <tr>\n",
       "      <th>1</th>\n",
       "      <td>5.5277</td>\n",
       "      <td>9.1302</td>\n",
       "    </tr>\n",
       "    <tr>\n",
       "      <th>2</th>\n",
       "      <td>8.5186</td>\n",
       "      <td>13.6620</td>\n",
       "    </tr>\n",
       "    <tr>\n",
       "      <th>3</th>\n",
       "      <td>7.0032</td>\n",
       "      <td>11.8540</td>\n",
       "    </tr>\n",
       "    <tr>\n",
       "      <th>4</th>\n",
       "      <td>5.8598</td>\n",
       "      <td>6.8233</td>\n",
       "    </tr>\n",
       "  </tbody>\n",
       "</table>\n",
       "</div>"
      ],
      "text/plain": [
       "   population   profit\n",
       "0      6.1101  17.5920\n",
       "1      5.5277   9.1302\n",
       "2      8.5186  13.6620\n",
       "3      7.0032  11.8540\n",
       "4      5.8598   6.8233"
      ]
     },
     "execution_count": 128,
     "metadata": {},
     "output_type": "execute_result"
    }
   ],
   "source": [
    "df.head()"
   ]
  },
  {
   "cell_type": "code",
   "execution_count": 129,
   "id": "6cd0ef4d",
   "metadata": {},
   "outputs": [
    {
     "data": {
      "text/plain": [
       "Text(0, 0.5, 'Profit in $10,000s')"
      ]
     },
     "execution_count": 129,
     "metadata": {},
     "output_type": "execute_result"
    },
    {
     "data": {
      "image/png": "[encoded data removed]",
      "text/plain": [
       "<Figure size 432x288 with 1 Axes>"
      ]
     },
     "metadata": {
      "needs_background": "light"
     },
     "output_type": "display_data"
    }
   ],
   "source": [
    "ax = sns.scatterplot(x=df.population,y=df.profit,)\n",
    "plt.xlabel(\"Population of City in 10,000s\")\n",
    "plt.ylabel(\"Profit in $10,000s\")"
   ]
  },
  {
   "cell_type": "code",
   "execution_count": 130,
   "id": "9a076da4",
   "metadata": {},
   "outputs": [],
   "source": [
    "TRAIN_SIZE = 0.7 \n",
    "DF_SIZE = len(df)"
   ]
  },
  {
   "cell_type": "code",
   "execution_count": 131,
   "id": "9c4d7145",
   "metadata": {},
   "outputs": [],
   "source": [
    "df_temp = df.copy()"
   ]
  },
  {
   "cell_type": "code",
   "execution_count": 132,
   "id": "c8b3081a",
   "metadata": {},
   "outputs": [],
   "source": [
    "scaler = MinMaxScaler()\n",
    "\n",
    "df[['population']] = scaler.fit_transform(df[['population']])"
   ]
  },
  {
   "cell_type": "code",
   "execution_count": 133,
   "id": "df82fcd7",
   "metadata": {},
   "outputs": [],
   "source": [
    "X = df[['population']].to_numpy()\n",
    "y = df[['profit']].to_numpy()\n",
    "\n",
    "\n",
    "X_train = X[0:int(TRAIN_SIZE*DF_SIZE)]\n",
    "y_train = y[0:int(TRAIN_SIZE*DF_SIZE)]\n",
    "\n",
    "X_test = X[int(TRAIN_SIZE*DF_SIZE):]\n",
    "y_test = y[int(TRAIN_SIZE*DF_SIZE):]\n"
   ]
  },
  {
   "cell_type": "code",
   "execution_count": 134,
   "id": "ea3096bf",
   "metadata": {},
   "outputs": [],
   "source": [
    "### User Defined Linear Regression\n",
    "\n",
    "def estimate_coef_linear_regression(X_train, y_train):\n",
    "    \n",
    "    Theta = np.zeros(X_train.shape[1]).reshape(-1,1)\n",
    "\n",
    "    a = 0.2\n",
    "    m = X_train.shape[0]\n",
    "\n",
    "    for i in range(100000):\n",
    "        h = np.dot(X_train,Theta)\n",
    "        J = sum((h-y_train)**2)/(2*X_train.shape[0])\n",
    "        Theta = Theta - (a/m) * np.dot(X_train.transpose(),(h-y_train))\n",
    "    \n",
    "    return Theta"
   ]
  },
  {
   "cell_type": "code",
   "execution_count": 135,
   "id": "32c34fcc",
   "metadata": {},
   "outputs": [],
   "source": [
    "y_train = np.array(y_train.astype(\"float\"))\n",
    "y_test = np.array(y_test.astype(\"float\"))\n",
    "\n",
    "Theta = estimate_coef_linear_regression(X_train, y_train)"
   ]
  },
  {
   "cell_type": "code",
   "execution_count": 136,
   "id": "e1d13fd4",
   "metadata": {},
   "outputs": [
    {
     "data": {
      "text/plain": [
       "array([[25.60838157]])"
      ]
     },
     "execution_count": 136,
     "metadata": {},
     "output_type": "execute_result"
    }
   ],
   "source": [
    "Theta"
   ]
  },
  {
   "cell_type": "code",
   "execution_count": 137,
   "id": "78bbaa68",
   "metadata": {},
   "outputs": [],
   "source": [
    "y_pred = np.dot(X_test,Theta)"
   ]
  },
  {
   "cell_type": "code",
   "execution_count": 138,
   "id": "a6d6bfb8",
   "metadata": {},
   "outputs": [],
   "source": [
    "def r_squared(y_test, y_pred):\n",
    "    return 1 - ((np.sum((y_test-y_pred)**2)) / np.sum((y_test - np.mean(y_test))**2))"
   ]
  },
  {
   "cell_type": "code",
   "execution_count": 139,
   "id": "297b6ab7",
   "metadata": {},
   "outputs": [
    {
     "data": {
      "text/plain": [
       "0.7346881140759045"
      ]
     },
     "execution_count": 139,
     "metadata": {},
     "output_type": "execute_result"
    }
   ],
   "source": [
    "r_squared(y_test, y_pred)"
   ]
  },
  {
   "cell_type": "code",
   "execution_count": 140,
   "id": "a695282a",
   "metadata": {},
   "outputs": [],
   "source": [
    "#Prediction Without Feature Scaling\n",
    "\n",
    "X = df_temp[['population']].to_numpy()\n",
    "y = df_temp[['profit']].to_numpy()\n",
    "\n",
    "X_test = X[int(TRAIN_SIZE*DF_SIZE):]\n",
    "y_test = y[int(TRAIN_SIZE*DF_SIZE):]\n"
   ]
  },
  {
   "cell_type": "code",
   "execution_count": 141,
   "id": "a0be6dc2",
   "metadata": {},
   "outputs": [],
   "source": [
    "y_train = np.array(y_train.astype(\"float\"))\n",
    "y_test = np.array(y_test.astype(\"float\"))\n",
    "\n",
    "Theta = estimate_coef_linear_regression(X_train, y_train)"
   ]
  },
  {
   "cell_type": "code",
   "execution_count": 143,
   "id": "9cff2771",
   "metadata": {},
   "outputs": [
    {
     "data": {
      "text/plain": [
       "array([[25.60838157]])"
      ]
     },
     "execution_count": 143,
     "metadata": {},
     "output_type": "execute_result"
    }
   ],
   "source": [
    "Theta"
   ]
  },
  {
   "cell_type": "code",
   "execution_count": 144,
   "id": "d1e40ac9",
   "metadata": {},
   "outputs": [
    {
     "data": {
      "text/plain": [
       "-2241.7535474217243"
      ]
     },
     "execution_count": 144,
     "metadata": {},
     "output_type": "execute_result"
    }
   ],
   "source": [
    "y_pred = np.dot(X_test,Theta)\n",
    "r_squared(y_test, y_pred)"
   ]
  },
  {
   "cell_type": "code",
   "execution_count": 82,
   "id": "7a9de94f",
   "metadata": {},
   "outputs": [
    {
     "data": {
      "text/plain": [
       "LinearRegression()"
      ]
     },
     "execution_count": 82,
     "metadata": {},
     "output_type": "execute_result"
    }
   ],
   "source": [
    "from sklearn.linear_model import LinearRegression\n",
    "\n",
    "model = LinearRegression()\n",
    "model.fit(X_train,y_train)"
   ]
  },
  {
   "cell_type": "code",
   "execution_count": 83,
   "id": "5e93af25",
   "metadata": {},
   "outputs": [
    {
     "data": {
      "text/plain": [
       "0.5967311911126678"
      ]
     },
     "execution_count": 83,
     "metadata": {},
     "output_type": "execute_result"
    }
   ],
   "source": [
    "model.score(X_test,y_test)"
   ]
  },
  {
   "cell_type": "code",
   "execution_count": 84,
   "id": "fdb6409d",
   "metadata": {},
   "outputs": [
    {
     "data": {
      "text/plain": [
       "array([[19.89323332]])"
      ]
     },
     "execution_count": 84,
     "metadata": {},
     "output_type": "execute_result"
    }
   ],
   "source": [
    "model.coef_"
   ]
  },
  {
   "cell_type": "code",
   "execution_count": 85,
   "id": "206617d6",
   "metadata": {},
   "outputs": [
    {
     "data": {
      "text/plain": [
       "0.5967311911126678"
      ]
     },
     "execution_count": 85,
     "metadata": {},
     "output_type": "execute_result"
    }
   ],
   "source": [
    "model.score(X_test,y_test)"
   ]
  },
  {
   "cell_type": "code",
   "execution_count": 86,
   "id": "d8a66eb0",
   "metadata": {},
   "outputs": [],
   "source": [
    "y_pred = model.predict(X_test)"
   ]
  },
  {
   "cell_type": "code",
   "execution_count": 87,
   "id": "61ecf4e6",
   "metadata": {},
   "outputs": [
    {
     "data": {
      "text/plain": [
       "0.5967311911126678"
      ]
     },
     "execution_count": 87,
     "metadata": {},
     "output_type": "execute_result"
    }
   ],
   "source": [
    "r_squared(y_test, y_pred)"
   ]
  },
  {
   "cell_type": "code",
   "execution_count": null,
   "id": "ec02a55e",
   "metadata": {},
   "outputs": [],
   "source": []
  }
 ],
 "metadata": {
  "kernelspec": {
   "display_name": "Python 3 (ipykernel)",
   "language": "python",
   "name": "python3"
  },
  "language_info": {
   "codemirror_mode": {
    "name": "ipython",
    "version": 3
   },
   "file_extension": ".py",
   "mimetype": "text/x-python",
   "name": "python",
   "nbconvert_exporter": "python",
   "pygments_lexer": "ipython3",
   "version": "3.10.0"
  }
 },
 "nbformat": 4,
 "nbformat_minor": 5
}
