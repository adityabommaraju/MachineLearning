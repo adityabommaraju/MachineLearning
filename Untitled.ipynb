{
 "cells": [
  {
   "cell_type": "code",
   "execution_count": 174,
   "id": "bb838a9f",
   "metadata": {},
   "outputs": [],
   "source": [
    "import numpy as np\n",
    "import pandas as pd\n",
    "from sklearn.preprocessing import MinMaxScaler"
   ]
  },
  {
   "cell_type": "code",
   "execution_count": 175,
   "id": "3d5e2104",
   "metadata": {},
   "outputs": [],
   "source": [
    "df = pd.read_csv('housing.csv')"
   ]
  },
  {
   "cell_type": "code",
   "execution_count": 176,
   "id": "0d238b0e",
   "metadata": {},
   "outputs": [
    {
     "data": {
      "text/html": [
       "<div>\n",
       "<style scoped>\n",
       "    .dataframe tbody tr th:only-of-type {\n",
       "        vertical-align: middle;\n",
       "    }\n",
       "\n",
       "    .dataframe tbody tr th {\n",
       "        vertical-align: top;\n",
       "    }\n",
       "\n",
       "    .dataframe thead th {\n",
       "        text-align: right;\n",
       "    }\n",
       "</style>\n",
       "<table border=\"1\" class=\"dataframe\">\n",
       "  <thead>\n",
       "    <tr style=\"text-align: right;\">\n",
       "      <th></th>\n",
       "      <th>longitude</th>\n",
       "      <th>latitude</th>\n",
       "      <th>housing_median_age</th>\n",
       "      <th>total_rooms</th>\n",
       "      <th>total_bedrooms</th>\n",
       "      <th>population</th>\n",
       "      <th>households</th>\n",
       "      <th>median_income</th>\n",
       "      <th>median_house_value</th>\n",
       "      <th>ocean_proximity</th>\n",
       "    </tr>\n",
       "  </thead>\n",
       "  <tbody>\n",
       "    <tr>\n",
       "      <th>0</th>\n",
       "      <td>-122.23</td>\n",
       "      <td>37.88</td>\n",
       "      <td>41.0</td>\n",
       "      <td>880.0</td>\n",
       "      <td>129.0</td>\n",
       "      <td>322.0</td>\n",
       "      <td>126.0</td>\n",
       "      <td>8.3252</td>\n",
       "      <td>452600.0</td>\n",
       "      <td>NEAR BAY</td>\n",
       "    </tr>\n",
       "    <tr>\n",
       "      <th>1</th>\n",
       "      <td>-122.22</td>\n",
       "      <td>37.86</td>\n",
       "      <td>21.0</td>\n",
       "      <td>7099.0</td>\n",
       "      <td>1106.0</td>\n",
       "      <td>2401.0</td>\n",
       "      <td>1138.0</td>\n",
       "      <td>8.3014</td>\n",
       "      <td>358500.0</td>\n",
       "      <td>NEAR BAY</td>\n",
       "    </tr>\n",
       "    <tr>\n",
       "      <th>2</th>\n",
       "      <td>-122.24</td>\n",
       "      <td>37.85</td>\n",
       "      <td>52.0</td>\n",
       "      <td>1467.0</td>\n",
       "      <td>190.0</td>\n",
       "      <td>496.0</td>\n",
       "      <td>177.0</td>\n",
       "      <td>7.2574</td>\n",
       "      <td>352100.0</td>\n",
       "      <td>NEAR BAY</td>\n",
       "    </tr>\n",
       "    <tr>\n",
       "      <th>3</th>\n",
       "      <td>-122.25</td>\n",
       "      <td>37.85</td>\n",
       "      <td>52.0</td>\n",
       "      <td>1274.0</td>\n",
       "      <td>235.0</td>\n",
       "      <td>558.0</td>\n",
       "      <td>219.0</td>\n",
       "      <td>5.6431</td>\n",
       "      <td>341300.0</td>\n",
       "      <td>NEAR BAY</td>\n",
       "    </tr>\n",
       "    <tr>\n",
       "      <th>4</th>\n",
       "      <td>-122.25</td>\n",
       "      <td>37.85</td>\n",
       "      <td>52.0</td>\n",
       "      <td>1627.0</td>\n",
       "      <td>280.0</td>\n",
       "      <td>565.0</td>\n",
       "      <td>259.0</td>\n",
       "      <td>3.8462</td>\n",
       "      <td>342200.0</td>\n",
       "      <td>NEAR BAY</td>\n",
       "    </tr>\n",
       "  </tbody>\n",
       "</table>\n",
       "</div>"
      ],
      "text/plain": [
       "   longitude  latitude  housing_median_age  total_rooms  total_bedrooms  \\\n",
       "0    -122.23     37.88                41.0        880.0           129.0   \n",
       "1    -122.22     37.86                21.0       7099.0          1106.0   \n",
       "2    -122.24     37.85                52.0       1467.0           190.0   \n",
       "3    -122.25     37.85                52.0       1274.0           235.0   \n",
       "4    -122.25     37.85                52.0       1627.0           280.0   \n",
       "\n",
       "   population  households  median_income  median_house_value ocean_proximity  \n",
       "0       322.0       126.0         8.3252            452600.0        NEAR BAY  \n",
       "1      2401.0      1138.0         8.3014            358500.0        NEAR BAY  \n",
       "2       496.0       177.0         7.2574            352100.0        NEAR BAY  \n",
       "3       558.0       219.0         5.6431            341300.0        NEAR BAY  \n",
       "4       565.0       259.0         3.8462            342200.0        NEAR BAY  "
      ]
     },
     "execution_count": 176,
     "metadata": {},
     "output_type": "execute_result"
    }
   ],
   "source": [
    "df.head()"
   ]
  },
  {
   "cell_type": "code",
   "execution_count": 177,
   "id": "a91ffc3c",
   "metadata": {},
   "outputs": [],
   "source": [
    "df = df.dropna()"
   ]
  },
  {
   "cell_type": "code",
   "execution_count": 178,
   "id": "ac3359f6",
   "metadata": {},
   "outputs": [],
   "source": [
    "#df.columns"
   ]
  },
  {
   "cell_type": "code",
   "execution_count": 179,
   "id": "21838822",
   "metadata": {},
   "outputs": [],
   "source": [
    "TRAIN_SIZE = 0.7 \n",
    "VAL_SIZE = 0.2\n",
    "TEST_SIZE = 0.1\n",
    "DF_SIZE = len(df)"
   ]
  },
  {
   "cell_type": "code",
   "execution_count": 180,
   "id": "ca9695f1",
   "metadata": {},
   "outputs": [],
   "source": [
    "#X.shape[1]"
   ]
  },
  {
   "cell_type": "code",
   "execution_count": 181,
   "id": "3437b491",
   "metadata": {},
   "outputs": [],
   "source": [
    "scaler = MinMaxScaler()\n",
    "\n",
    "df[['longitude', 'latitude', 'housing_median_age', 'total_rooms',\n",
    "       'total_bedrooms', 'population', 'households', 'median_income','median_house_value']] = scaler.fit_transform(\n",
    "    df[['longitude', 'latitude', 'housing_median_age', 'total_rooms',\n",
    "       'total_bedrooms', 'population', 'households', 'median_income','median_house_value']])"
   ]
  },
  {
   "cell_type": "code",
   "execution_count": 182,
   "id": "61b3dd26",
   "metadata": {},
   "outputs": [],
   "source": [
    "df = df.sample(frac=1)\n",
    "X = df[['longitude', 'latitude', 'housing_median_age', 'total_rooms',\n",
    "       'total_bedrooms', 'population', 'households', 'median_income',]].to_numpy()\n",
    "Y = df[['median_house_value']].to_numpy()\n",
    "\n",
    "\n",
    "X_train = X[0:int(TRAIN_SIZE*DF_SIZE)]\n",
    "Y_train = Y[0:int(TRAIN_SIZE*DF_SIZE)]\n",
    "\n",
    "X_val = X[int(TRAIN_SIZE*DF_SIZE):int(TRAIN_SIZE*DF_SIZE) + int(VAL_SIZE*DF_SIZE)]\n",
    "Y_val = Y[int(TRAIN_SIZE*DF_SIZE):int(TRAIN_SIZE*DF_SIZE) + int(VAL_SIZE*DF_SIZE)]\n",
    "\n",
    "X_test = X[int(TRAIN_SIZE*DF_SIZE) + int(VAL_SIZE*DF_SIZE):]\n",
    "Y_test = Y[int(TRAIN_SIZE*DF_SIZE) + int(VAL_SIZE*DF_SIZE):]\n",
    "\n",
    "Theta = np.zeros(X.shape[1])\n"
   ]
  },
  {
   "cell_type": "code",
   "execution_count": 183,
   "id": "05b7c050",
   "metadata": {},
   "outputs": [],
   "source": [
    "Theta = Theta.reshape(X.shape[1],1)"
   ]
  },
  {
   "cell_type": "code",
   "execution_count": 184,
   "id": "a46b8321",
   "metadata": {},
   "outputs": [],
   "source": [
    "a = 0.001\n",
    "m = X_train.shape[0]"
   ]
  },
  {
   "cell_type": "code",
   "execution_count": null,
   "id": "ccc26e26",
   "metadata": {},
   "outputs": [],
   "source": []
  },
  {
   "cell_type": "code",
   "execution_count": 185,
   "id": "fbcd38a6",
   "metadata": {},
   "outputs": [],
   "source": [
    "############ Linear Regression ############\n",
    "\n",
    "a = 0.001\n",
    "m = X_train.shape[0]\n",
    "\n",
    "for i in range(10000):\n",
    "    h = np.dot(X_train,Theta)\n",
    "    J = sum((h-Y_train)**2)/(2*X_train.shape[0])\n",
    "    Theta = Theta - (a/m) * np.dot(X_train.transpose(),(h-Y_train))"
   ]
  },
  {
   "cell_type": "code",
   "execution_count": 186,
   "id": "4807daea",
   "metadata": {},
   "outputs": [
    {
     "data": {
      "text/plain": [
       "array([[0.24175498],\n",
       "       [0.1393187 ],\n",
       "       [0.25936225],\n",
       "       [0.06088622],\n",
       "       [0.06287072],\n",
       "       [0.02397723],\n",
       "       [0.06317145],\n",
       "       [0.32787273]])"
      ]
     },
     "execution_count": 186,
     "metadata": {},
     "output_type": "execute_result"
    }
   ],
   "source": [
    "Theta"
   ]
  },
  {
   "cell_type": "code",
   "execution_count": 165,
   "id": "5989fe5f",
   "metadata": {},
   "outputs": [
    {
     "data": {
      "text/plain": [
       "array([0.10622401])"
      ]
     },
     "execution_count": 165,
     "metadata": {},
     "output_type": "execute_result"
    }
   ],
   "source": []
  },
  {
   "cell_type": "code",
   "execution_count": 172,
   "id": "7a10fd24",
   "metadata": {},
   "outputs": [],
   "source": []
  },
  {
   "cell_type": "code",
   "execution_count": 173,
   "id": "5cee4d0d",
   "metadata": {},
   "outputs": [
    {
     "data": {
      "text/plain": [
       "array([[1.86074585e-04],\n",
       "       [1.22058338e-04],\n",
       "       [2.19738199e-04],\n",
       "       [2.83997642e-05],\n",
       "       [3.38282523e-05],\n",
       "       [1.56363778e-05],\n",
       "       [3.34777806e-05],\n",
       "       [1.12740403e-04]])"
      ]
     },
     "execution_count": 173,
     "metadata": {},
     "output_type": "execute_result"
    }
   ],
   "source": []
  },
  {
   "cell_type": "code",
   "execution_count": 151,
   "id": "d390f29b",
   "metadata": {},
   "outputs": [
    {
     "data": {
      "text/plain": [
       "14303"
      ]
     },
     "execution_count": 151,
     "metadata": {},
     "output_type": "execute_result"
    }
   ],
   "source": [
    "h-Y_train"
   ]
  },
  {
   "cell_type": "code",
   "execution_count": null,
   "id": "b19bd000",
   "metadata": {},
   "outputs": [],
   "source": []
  }
 ],
 "metadata": {
  "kernelspec": {
   "display_name": "Python 3 (ipykernel)",
   "language": "python",
   "name": "python3"
  },
  "language_info": {
   "codemirror_mode": {
    "name": "ipython",
    "version": 3
   },
   "file_extension": ".py",
   "mimetype": "text/x-python",
   "name": "python",
   "nbconvert_exporter": "python",
   "pygments_lexer": "ipython3",
   "version": "3.10.0"
  }
 },
 "nbformat": 4,
 "nbformat_minor": 5
}
