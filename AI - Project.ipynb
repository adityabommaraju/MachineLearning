{
 "cells": [
  {
   "cell_type": "code",
   "execution_count": 209,
   "id": "475b4c55",
   "metadata": {},
   "outputs": [],
   "source": [
    "import pandas as pd\n",
    "import numpy as np\n",
    "import seaborn as sns\n",
    "import matplotlib.pyplot as plt"
   ]
  },
  {
   "cell_type": "code",
   "execution_count": 210,
   "id": "80536495",
   "metadata": {},
   "outputs": [],
   "source": [
    "df = pd.read_csv('Coffee_Stores_Data.csv')"
   ]
  },
  {
   "cell_type": "code",
   "execution_count": 211,
   "id": "0cd85c64",
   "metadata": {},
   "outputs": [
    {
     "data": {
      "text/html": [
       "<div>\n",
       "<style scoped>\n",
       "    .dataframe tbody tr th:only-of-type {\n",
       "        vertical-align: middle;\n",
       "    }\n",
       "\n",
       "    .dataframe tbody tr th {\n",
       "        vertical-align: top;\n",
       "    }\n",
       "\n",
       "    .dataframe thead th {\n",
       "        text-align: right;\n",
       "    }\n",
       "</style>\n",
       "<table border=\"1\" class=\"dataframe\">\n",
       "  <thead>\n",
       "    <tr style=\"text-align: right;\">\n",
       "      <th></th>\n",
       "      <th>StoreID</th>\n",
       "      <th>BusinessDate</th>\n",
       "      <th>PLU</th>\n",
       "      <th>Description</th>\n",
       "      <th>ItemType</th>\n",
       "      <th>CategoryLvl1Desc</th>\n",
       "      <th>CategoryLvl2Desc</th>\n",
       "      <th>CategoryLvl3Desc</th>\n",
       "      <th>ReceivedQuantity</th>\n",
       "      <th>SoldQuantity</th>\n",
       "      <th>EndQuantity</th>\n",
       "      <th>LatestOrder</th>\n",
       "      <th>StockedOut</th>\n",
       "      <th>GroupID</th>\n",
       "      <th>MissedSales</th>\n",
       "    </tr>\n",
       "  </thead>\n",
       "  <tbody>\n",
       "    <tr>\n",
       "      <th>0</th>\n",
       "      <td>2</td>\n",
       "      <td>2019-06-29</td>\n",
       "      <td>3000227</td>\n",
       "      <td>Caprese Sandwich</td>\n",
       "      <td>Unassigned</td>\n",
       "      <td>Food</td>\n",
       "      <td>Cold Case</td>\n",
       "      <td>Ready to Eat</td>\n",
       "      <td>0.0</td>\n",
       "      <td>3.0</td>\n",
       "      <td>0.0</td>\n",
       "      <td>21</td>\n",
       "      <td>0</td>\n",
       "      <td>2.0</td>\n",
       "      <td>0.000000</td>\n",
       "    </tr>\n",
       "    <tr>\n",
       "      <th>1</th>\n",
       "      <td>2</td>\n",
       "      <td>2019-06-29</td>\n",
       "      <td>830620</td>\n",
       "      <td>Honey Raisin Bran Muffin</td>\n",
       "      <td>Core</td>\n",
       "      <td>Food</td>\n",
       "      <td>Bake Case</td>\n",
       "      <td>Muffins &amp; Scones</td>\n",
       "      <td>4.0</td>\n",
       "      <td>2.0</td>\n",
       "      <td>0.0</td>\n",
       "      <td>10</td>\n",
       "      <td>0</td>\n",
       "      <td>2.0</td>\n",
       "      <td>0.000000</td>\n",
       "    </tr>\n",
       "    <tr>\n",
       "      <th>2</th>\n",
       "      <td>2</td>\n",
       "      <td>2019-06-29</td>\n",
       "      <td>6228</td>\n",
       "      <td>Pressed Juicery Spicy Greens w Ginger</td>\n",
       "      <td>Unassigned</td>\n",
       "      <td>Food</td>\n",
       "      <td>Cold Case</td>\n",
       "      <td>Ready to Drink</td>\n",
       "      <td>0.0</td>\n",
       "      <td>1.0</td>\n",
       "      <td>9.0</td>\n",
       "      <td>13</td>\n",
       "      <td>0</td>\n",
       "      <td>2.0</td>\n",
       "      <td>0.000000</td>\n",
       "    </tr>\n",
       "    <tr>\n",
       "      <th>3</th>\n",
       "      <td>2</td>\n",
       "      <td>2019-06-29</td>\n",
       "      <td>12216</td>\n",
       "      <td>Vive Juice Shot</td>\n",
       "      <td>Unassigned</td>\n",
       "      <td>Food</td>\n",
       "      <td>Cold Case</td>\n",
       "      <td>Ready to Drink</td>\n",
       "      <td>0.0</td>\n",
       "      <td>0.0</td>\n",
       "      <td>27.0</td>\n",
       "      <td>0</td>\n",
       "      <td>0</td>\n",
       "      <td>2.0</td>\n",
       "      <td>0.000000</td>\n",
       "    </tr>\n",
       "    <tr>\n",
       "      <th>4</th>\n",
       "      <td>2</td>\n",
       "      <td>2019-06-29</td>\n",
       "      <td>3000277</td>\n",
       "      <td>Mixed Berries &amp; Granola Yogurt Parfait</td>\n",
       "      <td>Unassigned</td>\n",
       "      <td>Food</td>\n",
       "      <td>Cold Case</td>\n",
       "      <td>Ready to Eat</td>\n",
       "      <td>0.0</td>\n",
       "      <td>3.0</td>\n",
       "      <td>0.0</td>\n",
       "      <td>11</td>\n",
       "      <td>1</td>\n",
       "      <td>2.0</td>\n",
       "      <td>0.578969</td>\n",
       "    </tr>\n",
       "  </tbody>\n",
       "</table>\n",
       "</div>"
      ],
      "text/plain": [
       "   StoreID BusinessDate      PLU                             Description  \\\n",
       "0        2   2019-06-29  3000227                        Caprese Sandwich   \n",
       "1        2   2019-06-29   830620                Honey Raisin Bran Muffin   \n",
       "2        2   2019-06-29     6228   Pressed Juicery Spicy Greens w Ginger   \n",
       "3        2   2019-06-29    12216                         Vive Juice Shot   \n",
       "4        2   2019-06-29  3000277  Mixed Berries & Granola Yogurt Parfait   \n",
       "\n",
       "     ItemType CategoryLvl1Desc CategoryLvl2Desc  CategoryLvl3Desc  \\\n",
       "0  Unassigned             Food        Cold Case      Ready to Eat   \n",
       "1        Core             Food        Bake Case  Muffins & Scones   \n",
       "2  Unassigned             Food        Cold Case    Ready to Drink   \n",
       "3  Unassigned             Food        Cold Case    Ready to Drink   \n",
       "4  Unassigned             Food        Cold Case      Ready to Eat   \n",
       "\n",
       "   ReceivedQuantity  SoldQuantity  EndQuantity  LatestOrder  StockedOut  \\\n",
       "0               0.0           3.0          0.0           21           0   \n",
       "1               4.0           2.0          0.0           10           0   \n",
       "2               0.0           1.0          9.0           13           0   \n",
       "3               0.0           0.0         27.0            0           0   \n",
       "4               0.0           3.0          0.0           11           1   \n",
       "\n",
       "   GroupID  MissedSales  \n",
       "0      2.0     0.000000  \n",
       "1      2.0     0.000000  \n",
       "2      2.0     0.000000  \n",
       "3      2.0     0.000000  \n",
       "4      2.0     0.578969  "
      ]
     },
     "execution_count": 211,
     "metadata": {},
     "output_type": "execute_result"
    }
   ],
   "source": [
    "df.head()"
   ]
  },
  {
   "cell_type": "code",
   "execution_count": 212,
   "id": "be61c8aa",
   "metadata": {},
   "outputs": [
    {
     "data": {
      "text/plain": [
       "(1259776, 15)"
      ]
     },
     "execution_count": 212,
     "metadata": {},
     "output_type": "execute_result"
    }
   ],
   "source": [
    "df.shape"
   ]
  },
  {
   "cell_type": "code",
   "execution_count": 213,
   "id": "9dc4aae6",
   "metadata": {},
   "outputs": [
    {
     "data": {
      "text/plain": [
       "array([  2,   6,  10,  17,  18,  20,  21,  22,  29,  30,  32,  34,  36,\n",
       "        40,  41,  43,  48,  55,  57,  59,  60,  61,  62,  64,  65,  72,\n",
       "        73,  76,  77,  81,  82,  83,  85,  86,  93,  94,  95,  97, 101,\n",
       "       102, 103, 112, 115, 116, 117, 119, 120, 122, 123, 124, 127, 128,\n",
       "       131, 132, 134, 135, 136, 137, 138, 141, 144, 151, 164, 166, 167,\n",
       "       169, 171, 173, 176, 177, 178, 179, 181, 183, 184, 186, 189, 190,\n",
       "       191, 192, 193, 200, 201, 202, 206, 211, 216, 218, 222, 235, 243,\n",
       "       244, 248, 309, 310, 313, 314, 315, 317, 319, 328, 329, 331, 332,\n",
       "       334, 335, 336, 341, 344, 346, 348, 350, 356, 359, 363, 365, 367,\n",
       "       374, 375, 376, 377, 378, 379, 381, 383, 385, 391, 392, 393, 397,\n",
       "       400, 401], dtype=int64)"
      ]
     },
     "execution_count": 213,
     "metadata": {},
     "output_type": "execute_result"
    }
   ],
   "source": [
    "df['StoreID'].unique()"
   ]
  },
  {
   "cell_type": "code",
   "execution_count": 214,
   "id": "9d9de82f",
   "metadata": {},
   "outputs": [
    {
     "data": {
      "text/plain": [
       "132"
      ]
     },
     "execution_count": 214,
     "metadata": {},
     "output_type": "execute_result"
    }
   ],
   "source": [
    "len(df['StoreID'].unique())"
   ]
  },
  {
   "cell_type": "code",
   "execution_count": 215,
   "id": "02949837",
   "metadata": {},
   "outputs": [
    {
     "data": {
      "text/plain": [
       "array([3000227,  830620,    6228,   12216, 3000277, 3000278,  851004,\n",
       "        820602,  810407,  820801,  820902,  820224,  810703, 3000210,\n",
       "       3000166, 3000096,  820221, 3000159, 3000162, 3000181, 3000207,\n",
       "       3000209, 3000211, 3000212, 3000214, 3000024,  841402, 3000281,\n",
       "       3000297, 3000296, 3000293], dtype=int64)"
      ]
     },
     "execution_count": 215,
     "metadata": {},
     "output_type": "execute_result"
    }
   ],
   "source": [
    "df['PLU'].unique()"
   ]
  },
  {
   "cell_type": "code",
   "execution_count": 216,
   "id": "d73dbaeb",
   "metadata": {},
   "outputs": [
    {
     "data": {
      "text/plain": [
       "'2019-06-29'"
      ]
     },
     "execution_count": 216,
     "metadata": {},
     "output_type": "execute_result"
    }
   ],
   "source": [
    "df['BusinessDate'].min()"
   ]
  },
  {
   "cell_type": "code",
   "execution_count": 217,
   "id": "d395f2b0",
   "metadata": {},
   "outputs": [
    {
     "data": {
      "text/plain": [
       "'2020-06-29'"
      ]
     },
     "execution_count": 217,
     "metadata": {},
     "output_type": "execute_result"
    }
   ],
   "source": [
    "df['BusinessDate'].max()"
   ]
  },
  {
   "cell_type": "code",
   "execution_count": 218,
   "id": "08add9bf",
   "metadata": {},
   "outputs": [
    {
     "data": {
      "text/plain": [
       "array(['Unassigned', 'Core', 'Seasonal'], dtype=object)"
      ]
     },
     "execution_count": 218,
     "metadata": {},
     "output_type": "execute_result"
    }
   ],
   "source": [
    "df['ItemType'].unique()"
   ]
  },
  {
   "cell_type": "code",
   "execution_count": 219,
   "id": "e6cd0cc4",
   "metadata": {},
   "outputs": [
    {
     "data": {
      "text/plain": [
       "array(['Food'], dtype=object)"
      ]
     },
     "execution_count": 219,
     "metadata": {},
     "output_type": "execute_result"
    }
   ],
   "source": [
    "df['CategoryLvl1Desc'].unique()"
   ]
  },
  {
   "cell_type": "code",
   "execution_count": 220,
   "id": "c75051be",
   "metadata": {},
   "outputs": [
    {
     "data": {
      "text/plain": [
       "array(['Cold Case', 'Bake Case'], dtype=object)"
      ]
     },
     "execution_count": 220,
     "metadata": {},
     "output_type": "execute_result"
    }
   ],
   "source": [
    "df['CategoryLvl2Desc'].unique()"
   ]
  },
  {
   "cell_type": "code",
   "execution_count": 221,
   "id": "0497baf8",
   "metadata": {},
   "outputs": [
    {
     "data": {
      "text/plain": [
       "array(['Ready to Eat', 'Muffins & Scones', 'Ready to Drink', 'Bagels',\n",
       "       'Pastries', 'Cookies & Bars', 'Cakes & Breads'], dtype=object)"
      ]
     },
     "execution_count": 221,
     "metadata": {},
     "output_type": "execute_result"
    }
   ],
   "source": [
    "df['CategoryLvl3Desc'].unique()"
   ]
  },
  {
   "cell_type": "code",
   "execution_count": 12,
   "id": "2d108bad",
   "metadata": {},
   "outputs": [],
   "source": [
    "#products,(PLU) \n",
    "#inventory patterns \n",
    "#stock out patterns(StockedOut)\n",
    "#missed sales(MissedSales)"
   ]
  },
  {
   "cell_type": "code",
   "execution_count": 222,
   "id": "2d315e37",
   "metadata": {},
   "outputs": [
    {
     "data": {
      "text/plain": [
       "31"
      ]
     },
     "execution_count": 222,
     "metadata": {},
     "output_type": "execute_result"
    }
   ],
   "source": [
    "len(df['Description'].unique())"
   ]
  },
  {
   "cell_type": "code",
   "execution_count": 223,
   "id": "c43c32d7",
   "metadata": {},
   "outputs": [],
   "source": [
    "df_static = df[['PLU','Description','ItemType','CategoryLvl1Desc','CategoryLvl2Desc','CategoryLvl3Desc']].drop_duplicates()"
   ]
  },
  {
   "cell_type": "code",
   "execution_count": 224,
   "id": "9457d300",
   "metadata": {},
   "outputs": [
    {
     "data": {
      "text/html": [
       "<div>\n",
       "<style scoped>\n",
       "    .dataframe tbody tr th:only-of-type {\n",
       "        vertical-align: middle;\n",
       "    }\n",
       "\n",
       "    .dataframe tbody tr th {\n",
       "        vertical-align: top;\n",
       "    }\n",
       "\n",
       "    .dataframe thead th {\n",
       "        text-align: right;\n",
       "    }\n",
       "</style>\n",
       "<table border=\"1\" class=\"dataframe\">\n",
       "  <thead>\n",
       "    <tr style=\"text-align: right;\">\n",
       "      <th></th>\n",
       "      <th>PLU</th>\n",
       "      <th>Description</th>\n",
       "      <th>ItemType</th>\n",
       "      <th>CategoryLvl1Desc</th>\n",
       "      <th>CategoryLvl2Desc</th>\n",
       "      <th>CategoryLvl3Desc</th>\n",
       "    </tr>\n",
       "  </thead>\n",
       "  <tbody>\n",
       "    <tr>\n",
       "      <th>0</th>\n",
       "      <td>3000227</td>\n",
       "      <td>Caprese Sandwich</td>\n",
       "      <td>Unassigned</td>\n",
       "      <td>Food</td>\n",
       "      <td>Cold Case</td>\n",
       "      <td>Ready to Eat</td>\n",
       "    </tr>\n",
       "    <tr>\n",
       "      <th>1</th>\n",
       "      <td>830620</td>\n",
       "      <td>Honey Raisin Bran Muffin</td>\n",
       "      <td>Core</td>\n",
       "      <td>Food</td>\n",
       "      <td>Bake Case</td>\n",
       "      <td>Muffins &amp; Scones</td>\n",
       "    </tr>\n",
       "    <tr>\n",
       "      <th>2</th>\n",
       "      <td>6228</td>\n",
       "      <td>Pressed Juicery Spicy Greens w Ginger</td>\n",
       "      <td>Unassigned</td>\n",
       "      <td>Food</td>\n",
       "      <td>Cold Case</td>\n",
       "      <td>Ready to Drink</td>\n",
       "    </tr>\n",
       "    <tr>\n",
       "      <th>3</th>\n",
       "      <td>12216</td>\n",
       "      <td>Vive Juice Shot</td>\n",
       "      <td>Unassigned</td>\n",
       "      <td>Food</td>\n",
       "      <td>Cold Case</td>\n",
       "      <td>Ready to Drink</td>\n",
       "    </tr>\n",
       "    <tr>\n",
       "      <th>4</th>\n",
       "      <td>3000277</td>\n",
       "      <td>Mixed Berries &amp; Granola Yogurt Parfait</td>\n",
       "      <td>Unassigned</td>\n",
       "      <td>Food</td>\n",
       "      <td>Cold Case</td>\n",
       "      <td>Ready to Eat</td>\n",
       "    </tr>\n",
       "  </tbody>\n",
       "</table>\n",
       "</div>"
      ],
      "text/plain": [
       "       PLU                             Description    ItemType  \\\n",
       "0  3000227                        Caprese Sandwich  Unassigned   \n",
       "1   830620                Honey Raisin Bran Muffin        Core   \n",
       "2     6228   Pressed Juicery Spicy Greens w Ginger  Unassigned   \n",
       "3    12216                         Vive Juice Shot  Unassigned   \n",
       "4  3000277  Mixed Berries & Granola Yogurt Parfait  Unassigned   \n",
       "\n",
       "  CategoryLvl1Desc CategoryLvl2Desc  CategoryLvl3Desc  \n",
       "0             Food        Cold Case      Ready to Eat  \n",
       "1             Food        Bake Case  Muffins & Scones  \n",
       "2             Food        Cold Case    Ready to Drink  \n",
       "3             Food        Cold Case    Ready to Drink  \n",
       "4             Food        Cold Case      Ready to Eat  "
      ]
     },
     "execution_count": 224,
     "metadata": {},
     "output_type": "execute_result"
    }
   ],
   "source": [
    "df_static.head()"
   ]
  },
  {
   "cell_type": "code",
   "execution_count": 225,
   "id": "e142721a",
   "metadata": {},
   "outputs": [],
   "source": [
    "df_dynamic = df.drop(['Description','ItemType','CategoryLvl1Desc','CategoryLvl2Desc','CategoryLvl3Desc','GroupID'],axis=1)\n",
    "df_dynamic['BusinessDate'] = df_dynamic['BusinessDate'].apply(lambda x:int(\"\".join(x.split(\"-\")[0:2])))"
   ]
  },
  {
   "cell_type": "code",
   "execution_count": 226,
   "id": "cd98dfcd",
   "metadata": {},
   "outputs": [
    {
     "data": {
      "text/html": [
       "<div>\n",
       "<style scoped>\n",
       "    .dataframe tbody tr th:only-of-type {\n",
       "        vertical-align: middle;\n",
       "    }\n",
       "\n",
       "    .dataframe tbody tr th {\n",
       "        vertical-align: top;\n",
       "    }\n",
       "\n",
       "    .dataframe thead th {\n",
       "        text-align: right;\n",
       "    }\n",
       "</style>\n",
       "<table border=\"1\" class=\"dataframe\">\n",
       "  <thead>\n",
       "    <tr style=\"text-align: right;\">\n",
       "      <th></th>\n",
       "      <th>StoreID</th>\n",
       "      <th>BusinessDate</th>\n",
       "      <th>PLU</th>\n",
       "      <th>ReceivedQuantity</th>\n",
       "      <th>SoldQuantity</th>\n",
       "      <th>EndQuantity</th>\n",
       "      <th>LatestOrder</th>\n",
       "      <th>StockedOut</th>\n",
       "      <th>MissedSales</th>\n",
       "    </tr>\n",
       "  </thead>\n",
       "  <tbody>\n",
       "    <tr>\n",
       "      <th>0</th>\n",
       "      <td>2</td>\n",
       "      <td>201906</td>\n",
       "      <td>3000227</td>\n",
       "      <td>0.0</td>\n",
       "      <td>3.0</td>\n",
       "      <td>0.0</td>\n",
       "      <td>21</td>\n",
       "      <td>0</td>\n",
       "      <td>0.000000</td>\n",
       "    </tr>\n",
       "    <tr>\n",
       "      <th>1</th>\n",
       "      <td>2</td>\n",
       "      <td>201906</td>\n",
       "      <td>830620</td>\n",
       "      <td>4.0</td>\n",
       "      <td>2.0</td>\n",
       "      <td>0.0</td>\n",
       "      <td>10</td>\n",
       "      <td>0</td>\n",
       "      <td>0.000000</td>\n",
       "    </tr>\n",
       "    <tr>\n",
       "      <th>2</th>\n",
       "      <td>2</td>\n",
       "      <td>201906</td>\n",
       "      <td>6228</td>\n",
       "      <td>0.0</td>\n",
       "      <td>1.0</td>\n",
       "      <td>9.0</td>\n",
       "      <td>13</td>\n",
       "      <td>0</td>\n",
       "      <td>0.000000</td>\n",
       "    </tr>\n",
       "    <tr>\n",
       "      <th>3</th>\n",
       "      <td>2</td>\n",
       "      <td>201906</td>\n",
       "      <td>12216</td>\n",
       "      <td>0.0</td>\n",
       "      <td>0.0</td>\n",
       "      <td>27.0</td>\n",
       "      <td>0</td>\n",
       "      <td>0</td>\n",
       "      <td>0.000000</td>\n",
       "    </tr>\n",
       "    <tr>\n",
       "      <th>4</th>\n",
       "      <td>2</td>\n",
       "      <td>201906</td>\n",
       "      <td>3000277</td>\n",
       "      <td>0.0</td>\n",
       "      <td>3.0</td>\n",
       "      <td>0.0</td>\n",
       "      <td>11</td>\n",
       "      <td>1</td>\n",
       "      <td>0.578969</td>\n",
       "    </tr>\n",
       "  </tbody>\n",
       "</table>\n",
       "</div>"
      ],
      "text/plain": [
       "   StoreID  BusinessDate      PLU  ReceivedQuantity  SoldQuantity  \\\n",
       "0        2        201906  3000227               0.0           3.0   \n",
       "1        2        201906   830620               4.0           2.0   \n",
       "2        2        201906     6228               0.0           1.0   \n",
       "3        2        201906    12216               0.0           0.0   \n",
       "4        2        201906  3000277               0.0           3.0   \n",
       "\n",
       "   EndQuantity  LatestOrder  StockedOut  MissedSales  \n",
       "0          0.0           21           0     0.000000  \n",
       "1          0.0           10           0     0.000000  \n",
       "2          9.0           13           0     0.000000  \n",
       "3         27.0            0           0     0.000000  \n",
       "4          0.0           11           1     0.578969  "
      ]
     },
     "execution_count": 226,
     "metadata": {},
     "output_type": "execute_result"
    }
   ],
   "source": [
    "df_dynamic.head()"
   ]
  },
  {
   "cell_type": "code",
   "execution_count": 227,
   "id": "8d9282e0",
   "metadata": {},
   "outputs": [
    {
     "data": {
      "text/plain": [
       "(1259776, 9)"
      ]
     },
     "execution_count": 227,
     "metadata": {},
     "output_type": "execute_result"
    }
   ],
   "source": [
    "df_dynamic.shape"
   ]
  },
  {
   "cell_type": "code",
   "execution_count": 228,
   "id": "4baf22fe",
   "metadata": {},
   "outputs": [
    {
     "data": {
      "text/plain": [
       "(1049006, 9)"
      ]
     },
     "execution_count": 228,
     "metadata": {},
     "output_type": "execute_result"
    }
   ],
   "source": [
    "df_dynamic.drop_duplicates().shape"
   ]
  },
  {
   "cell_type": "code",
   "execution_count": 229,
   "id": "4f995364",
   "metadata": {},
   "outputs": [],
   "source": [
    "#Top Sales Stores\n",
    "df_store_SQ = pd.DataFrame(df_dynamic.groupby(['StoreID'])['SoldQuantity'].sum()).sort_values(by=['SoldQuantity'],ascending=False)"
   ]
  },
  {
   "cell_type": "code",
   "execution_count": 230,
   "id": "ab21e34f",
   "metadata": {},
   "outputs": [
    {
     "data": {
      "text/plain": [
       "<AxesSubplot:xlabel='SoldQuantity', ylabel='Count'>"
      ]
     },
     "execution_count": 230,
     "metadata": {},
     "output_type": "execute_result"
    },
    {
     "data": {
      "image/png": "[encoded data removed]",
      "text/plain": [
       "<Figure size 432x288 with 1 Axes>"
      ]
     },
     "metadata": {},
     "output_type": "display_data"
    }
   ],
   "source": [
    "sns.histplot(df_store_SQ.SoldQuantity)"
   ]
  },
  {
   "cell_type": "code",
   "execution_count": 231,
   "id": "abe47fcd",
   "metadata": {},
   "outputs": [],
   "source": [
    "#Top Sales inv\n",
    "df_inv_SQ = pd.DataFrame(df_dynamic.groupby(['PLU'])['SoldQuantity'].sum()).sort_values(by=['SoldQuantity'],ascending=False).reset_index()"
   ]
  },
  {
   "cell_type": "code",
   "execution_count": 232,
   "id": "7a2aa4b4",
   "metadata": {},
   "outputs": [
    {
     "data": {
      "text/plain": [
       "<AxesSubplot:xlabel='SoldQuantity', ylabel='Count'>"
      ]
     },
     "execution_count": 232,
     "metadata": {},
     "output_type": "execute_result"
    },
    {
     "data": {
      "image/png": "[encoded data removed]",
      "text/plain": [
       "<Figure size 432x288 with 1 Axes>"
      ]
     },
     "metadata": {},
     "output_type": "display_data"
    }
   ],
   "source": [
    "sns.histplot(df_inv_SQ.SoldQuantity)"
   ]
  },
  {
   "cell_type": "code",
   "execution_count": 233,
   "id": "ad44535c",
   "metadata": {},
   "outputs": [
    {
     "data": {
      "image/png": "[encoded data removed]",
      "text/plain": [
       "<Figure size 1080x360 with 1 Axes>"
      ]
     },
     "metadata": {},
     "output_type": "display_data"
    }
   ],
   "source": [
    "plt.figure(figsize=(15,5))\n",
    "ax = sns.barplot(x=\"PLU\", y=\"SoldQuantity\", data=df_inv_SQ)"
   ]
  },
  {
   "cell_type": "code",
   "execution_count": 234,
   "id": "2c095693",
   "metadata": {},
   "outputs": [
    {
     "data": {
      "image/png": "[encoded data removed]",
      "text/plain": [
       "<Figure size 576x432 with 2 Axes>"
      ]
     },
     "metadata": {},
     "output_type": "display_data"
    }
   ],
   "source": [
    "fig, ax = plt.subplots(figsize=(8,6))\n",
    "\n",
    "df_temp = df_dynamic[['BusinessDate','ReceivedQuantity', 'SoldQuantity',\n",
    "       'EndQuantity', 'StockedOut', 'MissedSales']]\n",
    "\n",
    "corrMatrix = df_temp.corr()\n",
    "sns.heatmap(corrMatrix, annot=True)\n",
    "plt.show()"
   ]
  },
  {
   "cell_type": "code",
   "execution_count": 235,
   "id": "7913f2f6",
   "metadata": {},
   "outputs": [
    {
     "data": {
      "text/html": [
       "<div>\n",
       "<style scoped>\n",
       "    .dataframe tbody tr th:only-of-type {\n",
       "        vertical-align: middle;\n",
       "    }\n",
       "\n",
       "    .dataframe tbody tr th {\n",
       "        vertical-align: top;\n",
       "    }\n",
       "\n",
       "    .dataframe thead th {\n",
       "        text-align: right;\n",
       "    }\n",
       "</style>\n",
       "<table border=\"1\" class=\"dataframe\">\n",
       "  <thead>\n",
       "    <tr style=\"text-align: right;\">\n",
       "      <th></th>\n",
       "      <th>StoreID</th>\n",
       "      <th>BusinessDate</th>\n",
       "      <th>PLU</th>\n",
       "      <th>ReceivedQuantity</th>\n",
       "      <th>SoldQuantity</th>\n",
       "      <th>EndQuantity</th>\n",
       "      <th>LatestOrder</th>\n",
       "      <th>StockedOut</th>\n",
       "      <th>MissedSales</th>\n",
       "    </tr>\n",
       "  </thead>\n",
       "  <tbody>\n",
       "    <tr>\n",
       "      <th>0</th>\n",
       "      <td>2</td>\n",
       "      <td>201906</td>\n",
       "      <td>3000227</td>\n",
       "      <td>0.0</td>\n",
       "      <td>3.0</td>\n",
       "      <td>0.0</td>\n",
       "      <td>21</td>\n",
       "      <td>0</td>\n",
       "      <td>0.000000</td>\n",
       "    </tr>\n",
       "    <tr>\n",
       "      <th>1</th>\n",
       "      <td>2</td>\n",
       "      <td>201906</td>\n",
       "      <td>830620</td>\n",
       "      <td>4.0</td>\n",
       "      <td>2.0</td>\n",
       "      <td>0.0</td>\n",
       "      <td>10</td>\n",
       "      <td>0</td>\n",
       "      <td>0.000000</td>\n",
       "    </tr>\n",
       "    <tr>\n",
       "      <th>2</th>\n",
       "      <td>2</td>\n",
       "      <td>201906</td>\n",
       "      <td>6228</td>\n",
       "      <td>0.0</td>\n",
       "      <td>1.0</td>\n",
       "      <td>9.0</td>\n",
       "      <td>13</td>\n",
       "      <td>0</td>\n",
       "      <td>0.000000</td>\n",
       "    </tr>\n",
       "    <tr>\n",
       "      <th>3</th>\n",
       "      <td>2</td>\n",
       "      <td>201906</td>\n",
       "      <td>12216</td>\n",
       "      <td>0.0</td>\n",
       "      <td>0.0</td>\n",
       "      <td>27.0</td>\n",
       "      <td>0</td>\n",
       "      <td>0</td>\n",
       "      <td>0.000000</td>\n",
       "    </tr>\n",
       "    <tr>\n",
       "      <th>4</th>\n",
       "      <td>2</td>\n",
       "      <td>201906</td>\n",
       "      <td>3000277</td>\n",
       "      <td>0.0</td>\n",
       "      <td>3.0</td>\n",
       "      <td>0.0</td>\n",
       "      <td>11</td>\n",
       "      <td>1</td>\n",
       "      <td>0.578969</td>\n",
       "    </tr>\n",
       "  </tbody>\n",
       "</table>\n",
       "</div>"
      ],
      "text/plain": [
       "   StoreID  BusinessDate      PLU  ReceivedQuantity  SoldQuantity  \\\n",
       "0        2        201906  3000227               0.0           3.0   \n",
       "1        2        201906   830620               4.0           2.0   \n",
       "2        2        201906     6228               0.0           1.0   \n",
       "3        2        201906    12216               0.0           0.0   \n",
       "4        2        201906  3000277               0.0           3.0   \n",
       "\n",
       "   EndQuantity  LatestOrder  StockedOut  MissedSales  \n",
       "0          0.0           21           0     0.000000  \n",
       "1          0.0           10           0     0.000000  \n",
       "2          9.0           13           0     0.000000  \n",
       "3         27.0            0           0     0.000000  \n",
       "4          0.0           11           1     0.578969  "
      ]
     },
     "execution_count": 235,
     "metadata": {},
     "output_type": "execute_result"
    }
   ],
   "source": [
    "df_dynamic.head()"
   ]
  },
  {
   "cell_type": "code",
   "execution_count": 236,
   "id": "e2d44f37",
   "metadata": {},
   "outputs": [],
   "source": [
    "df_temp = pd.DataFrame(df_dynamic.groupby(['BusinessDate'])['SoldQuantity'].sum()).sort_values(by=['BusinessDate'],ascending=True).reset_index()"
   ]
  },
  {
   "cell_type": "code",
   "execution_count": 237,
   "id": "fe4a70fb",
   "metadata": {},
   "outputs": [
    {
     "data": {
      "text/html": [
       "<div>\n",
       "<style scoped>\n",
       "    .dataframe tbody tr th:only-of-type {\n",
       "        vertical-align: middle;\n",
       "    }\n",
       "\n",
       "    .dataframe tbody tr th {\n",
       "        vertical-align: top;\n",
       "    }\n",
       "\n",
       "    .dataframe thead th {\n",
       "        text-align: right;\n",
       "    }\n",
       "</style>\n",
       "<table border=\"1\" class=\"dataframe\">\n",
       "  <thead>\n",
       "    <tr style=\"text-align: right;\">\n",
       "      <th></th>\n",
       "      <th>BusinessDate</th>\n",
       "      <th>SoldQuantity</th>\n",
       "    </tr>\n",
       "  </thead>\n",
       "  <tbody>\n",
       "    <tr>\n",
       "      <th>0</th>\n",
       "      <td>201906</td>\n",
       "      <td>21823.0</td>\n",
       "    </tr>\n",
       "    <tr>\n",
       "      <th>1</th>\n",
       "      <td>201907</td>\n",
       "      <td>375855.0</td>\n",
       "    </tr>\n",
       "    <tr>\n",
       "      <th>2</th>\n",
       "      <td>201908</td>\n",
       "      <td>393403.0</td>\n",
       "    </tr>\n",
       "    <tr>\n",
       "      <th>3</th>\n",
       "      <td>201909</td>\n",
       "      <td>372529.0</td>\n",
       "    </tr>\n",
       "    <tr>\n",
       "      <th>4</th>\n",
       "      <td>201910</td>\n",
       "      <td>388288.0</td>\n",
       "    </tr>\n",
       "    <tr>\n",
       "      <th>5</th>\n",
       "      <td>201911</td>\n",
       "      <td>389199.0</td>\n",
       "    </tr>\n",
       "    <tr>\n",
       "      <th>6</th>\n",
       "      <td>201912</td>\n",
       "      <td>401845.0</td>\n",
       "    </tr>\n",
       "    <tr>\n",
       "      <th>7</th>\n",
       "      <td>202001</td>\n",
       "      <td>411074.0</td>\n",
       "    </tr>\n",
       "    <tr>\n",
       "      <th>8</th>\n",
       "      <td>202002</td>\n",
       "      <td>400989.0</td>\n",
       "    </tr>\n",
       "    <tr>\n",
       "      <th>9</th>\n",
       "      <td>202003</td>\n",
       "      <td>321544.0</td>\n",
       "    </tr>\n",
       "    <tr>\n",
       "      <th>10</th>\n",
       "      <td>202004</td>\n",
       "      <td>186989.0</td>\n",
       "    </tr>\n",
       "    <tr>\n",
       "      <th>11</th>\n",
       "      <td>202005</td>\n",
       "      <td>230329.0</td>\n",
       "    </tr>\n",
       "    <tr>\n",
       "      <th>12</th>\n",
       "      <td>202006</td>\n",
       "      <td>266285.0</td>\n",
       "    </tr>\n",
       "  </tbody>\n",
       "</table>\n",
       "</div>"
      ],
      "text/plain": [
       "    BusinessDate  SoldQuantity\n",
       "0         201906       21823.0\n",
       "1         201907      375855.0\n",
       "2         201908      393403.0\n",
       "3         201909      372529.0\n",
       "4         201910      388288.0\n",
       "5         201911      389199.0\n",
       "6         201912      401845.0\n",
       "7         202001      411074.0\n",
       "8         202002      400989.0\n",
       "9         202003      321544.0\n",
       "10        202004      186989.0\n",
       "11        202005      230329.0\n",
       "12        202006      266285.0"
      ]
     },
     "execution_count": 237,
     "metadata": {},
     "output_type": "execute_result"
    }
   ],
   "source": [
    "df_temp"
   ]
  },
  {
   "cell_type": "code",
   "execution_count": 238,
   "id": "9b131ea5",
   "metadata": {},
   "outputs": [
    {
     "data": {
      "image/png": "[encoded data removed]",
      "text/plain": [
       "<Figure size 1080x432 with 1 Axes>"
      ]
     },
     "metadata": {},
     "output_type": "display_data"
    }
   ],
   "source": [
    "plt.figure(figsize=(15,6))\n",
    "plt.xlabel(\"Year-Month\")\n",
    "plt.ylabel(\"No of Sales\")\n",
    "ax = plt.plot(df_temp['BusinessDate'].astype('string'),df_temp['SoldQuantity'],)"
   ]
  },
  {
   "cell_type": "code",
   "execution_count": 245,
   "id": "1731be41",
   "metadata": {},
   "outputs": [],
   "source": [
    "df_temp = pd.DataFrame(df_dynamic.groupby(['BusinessDate','PLU'])['SoldQuantity'].sum()).sort_values(by=['BusinessDate'],ascending=True).reset_index()"
   ]
  },
  {
   "cell_type": "code",
   "execution_count": 246,
   "id": "c9b3043b",
   "metadata": {},
   "outputs": [
    {
     "data": {
      "text/plain": [
       "<AxesSubplot:xlabel='BusinessDate', ylabel='SoldQuantity'>"
      ]
     },
     "execution_count": 246,
     "metadata": {},
     "output_type": "execute_result"
    },
    {
     "data": {
      "image/png": "[encoded data removed]",
      "text/plain": [
       "<Figure size 1080x432 with 1 Axes>"
      ]
     },
     "metadata": {},
     "output_type": "display_data"
    }
   ],
   "source": [
    "plt.figure(figsize=(15,6))\n",
    "sns.set_style('whitegrid')\n",
    "sns.boxplot(x='BusinessDate',y=\"SoldQuantity\",data=df_temp)"
   ]
  },
  {
   "cell_type": "code",
   "execution_count": 249,
   "id": "8d698849",
   "metadata": {},
   "outputs": [],
   "source": [
    "df_temp = pd.DataFrame(df_dynamic.groupby(['BusinessDate','PLU'])['ReceivedQuantity'].sum()).sort_values(by=['BusinessDate'],ascending=True).reset_index()"
   ]
  },
  {
   "cell_type": "code",
   "execution_count": 250,
   "id": "832ea002",
   "metadata": {},
   "outputs": [
    {
     "data": {
      "text/plain": [
       "<AxesSubplot:xlabel='BusinessDate', ylabel='ReceivedQuantity'>"
      ]
     },
     "execution_count": 250,
     "metadata": {},
     "output_type": "execute_result"
    },
    {
     "data": {
      "image/png": "[encoded data removed]",
      "text/plain": [
       "<Figure size 1080x432 with 1 Axes>"
      ]
     },
     "metadata": {},
     "output_type": "display_data"
    }
   ],
   "source": [
    "plt.figure(figsize=(15,6))\n",
    "sns.set_style('whitegrid')\n",
    "sns.boxplot(x='BusinessDate',y=\"ReceivedQuantity\",data=df_temp)"
   ]
  },
  {
   "cell_type": "code",
   "execution_count": 251,
   "id": "de052175",
   "metadata": {},
   "outputs": [],
   "source": [
    "df_temp = pd.DataFrame(df_dynamic.groupby(['BusinessDate','PLU'])['EndQuantity'].sum()).sort_values(by=['BusinessDate'],ascending=True).reset_index()"
   ]
  },
  {
   "cell_type": "code",
   "execution_count": 253,
   "id": "177ee5d5",
   "metadata": {},
   "outputs": [
    {
     "data": {
      "text/plain": [
       "<AxesSubplot:xlabel='BusinessDate', ylabel='EndQuantity'>"
      ]
     },
     "execution_count": 253,
     "metadata": {},
     "output_type": "execute_result"
    },
    {
     "data": {
      "image/png": "[encoded data removed]",
      "text/plain": [
       "<Figure size 1080x432 with 1 Axes>"
      ]
     },
     "metadata": {},
     "output_type": "display_data"
    }
   ],
   "source": [
    "plt.figure(figsize=(15,6))\n",
    "sns.set_style('whitegrid')\n",
    "sns.boxplot(x='BusinessDate',y=\"EndQuantity\",data=df_temp)"
   ]
  },
  {
   "cell_type": "code",
   "execution_count": 254,
   "id": "744343f0",
   "metadata": {},
   "outputs": [],
   "source": [
    "df_temp = pd.DataFrame(df_dynamic.groupby(['BusinessDate','PLU'])['StockedOut'].sum()).sort_values(by=['BusinessDate'],ascending=True).reset_index()"
   ]
  },
  {
   "cell_type": "code",
   "execution_count": 255,
   "id": "da24383d",
   "metadata": {},
   "outputs": [
    {
     "data": {
      "text/plain": [
       "<AxesSubplot:xlabel='BusinessDate', ylabel='StockedOut'>"
      ]
     },
     "execution_count": 255,
     "metadata": {},
     "output_type": "execute_result"
    },
    {
     "data": {
      "image/png": "[encoded data removed]",
      "text/plain": [
       "<Figure size 1080x432 with 1 Axes>"
      ]
     },
     "metadata": {},
     "output_type": "display_data"
    }
   ],
   "source": [
    "plt.figure(figsize=(15,6))\n",
    "sns.set_style('whitegrid')\n",
    "sns.boxplot(x='BusinessDate',y=\"StockedOut\",data=df_temp)"
   ]
  },
  {
   "cell_type": "code",
   "execution_count": null,
   "id": "d48d73fd",
   "metadata": {},
   "outputs": [],
   "source": []
  }
 ],
 "metadata": {
  "kernelspec": {
   "display_name": "Python 3 (ipykernel)",
   "language": "python",
   "name": "python3"
  },
  "language_info": {
   "codemirror_mode": {
    "name": "ipython",
    "version": 3
   },
   "file_extension": ".py",
   "mimetype": "text/x-python",
   "name": "python",
   "nbconvert_exporter": "python",
   "pygments_lexer": "ipython3",
   "version": "3.10.0"
  }
 },
 "nbformat": 4,
 "nbformat_minor": 5
}
