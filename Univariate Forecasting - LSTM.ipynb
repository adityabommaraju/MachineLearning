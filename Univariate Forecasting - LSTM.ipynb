{
 "cells": [
  {
   "cell_type": "code",
   "execution_count": 226,
   "id": "e87c23b3",
   "metadata": {},
   "outputs": [],
   "source": [
    "import numpy as np\n",
    "from tensorflow.keras.models import Sequential\n",
    "from tensorflow.keras.layers import LSTM\n",
    "from tensorflow.keras.layers import Dense, Dropout\n",
    "import pandas as pd\n",
    "from matplotlib import pyplot as plt\n",
    "from sklearn.preprocessing import StandardScaler\n",
    "import seaborn as sns"
   ]
  },
  {
   "cell_type": "code",
   "execution_count": 216,
   "id": "63f5214b",
   "metadata": {},
   "outputs": [],
   "source": [
    "df = pd.read_csv('Coffee_Stores_Data.csv')"
   ]
  },
  {
   "cell_type": "code",
   "execution_count": 217,
   "id": "f858b607",
   "metadata": {},
   "outputs": [
    {
     "data": {
      "text/html": [
       "<div>\n",
       "<style scoped>\n",
       "    .dataframe tbody tr th:only-of-type {\n",
       "        vertical-align: middle;\n",
       "    }\n",
       "\n",
       "    .dataframe tbody tr th {\n",
       "        vertical-align: top;\n",
       "    }\n",
       "\n",
       "    .dataframe thead th {\n",
       "        text-align: right;\n",
       "    }\n",
       "</style>\n",
       "<table border=\"1\" class=\"dataframe\">\n",
       "  <thead>\n",
       "    <tr style=\"text-align: right;\">\n",
       "      <th></th>\n",
       "      <th>StoreID</th>\n",
       "      <th>BusinessDate</th>\n",
       "      <th>PLU</th>\n",
       "      <th>Description</th>\n",
       "      <th>ItemType</th>\n",
       "      <th>CategoryLvl1Desc</th>\n",
       "      <th>CategoryLvl2Desc</th>\n",
       "      <th>CategoryLvl3Desc</th>\n",
       "      <th>ReceivedQuantity</th>\n",
       "      <th>SoldQuantity</th>\n",
       "      <th>EndQuantity</th>\n",
       "      <th>LatestOrder</th>\n",
       "      <th>StockedOut</th>\n",
       "      <th>GroupID</th>\n",
       "      <th>MissedSales</th>\n",
       "    </tr>\n",
       "  </thead>\n",
       "  <tbody>\n",
       "    <tr>\n",
       "      <th>0</th>\n",
       "      <td>2</td>\n",
       "      <td>2019-06-29</td>\n",
       "      <td>3000227</td>\n",
       "      <td>Caprese Sandwich</td>\n",
       "      <td>Unassigned</td>\n",
       "      <td>Food</td>\n",
       "      <td>Cold Case</td>\n",
       "      <td>Ready to Eat</td>\n",
       "      <td>0.0</td>\n",
       "      <td>3.0</td>\n",
       "      <td>0.0</td>\n",
       "      <td>21</td>\n",
       "      <td>0</td>\n",
       "      <td>2.0</td>\n",
       "      <td>0.000000</td>\n",
       "    </tr>\n",
       "    <tr>\n",
       "      <th>1</th>\n",
       "      <td>2</td>\n",
       "      <td>2019-06-29</td>\n",
       "      <td>830620</td>\n",
       "      <td>Honey Raisin Bran Muffin</td>\n",
       "      <td>Core</td>\n",
       "      <td>Food</td>\n",
       "      <td>Bake Case</td>\n",
       "      <td>Muffins &amp; Scones</td>\n",
       "      <td>4.0</td>\n",
       "      <td>2.0</td>\n",
       "      <td>0.0</td>\n",
       "      <td>10</td>\n",
       "      <td>0</td>\n",
       "      <td>2.0</td>\n",
       "      <td>0.000000</td>\n",
       "    </tr>\n",
       "    <tr>\n",
       "      <th>2</th>\n",
       "      <td>2</td>\n",
       "      <td>2019-06-29</td>\n",
       "      <td>6228</td>\n",
       "      <td>Pressed Juicery Spicy Greens w Ginger</td>\n",
       "      <td>Unassigned</td>\n",
       "      <td>Food</td>\n",
       "      <td>Cold Case</td>\n",
       "      <td>Ready to Drink</td>\n",
       "      <td>0.0</td>\n",
       "      <td>1.0</td>\n",
       "      <td>9.0</td>\n",
       "      <td>13</td>\n",
       "      <td>0</td>\n",
       "      <td>2.0</td>\n",
       "      <td>0.000000</td>\n",
       "    </tr>\n",
       "    <tr>\n",
       "      <th>3</th>\n",
       "      <td>2</td>\n",
       "      <td>2019-06-29</td>\n",
       "      <td>12216</td>\n",
       "      <td>Vive Juice Shot</td>\n",
       "      <td>Unassigned</td>\n",
       "      <td>Food</td>\n",
       "      <td>Cold Case</td>\n",
       "      <td>Ready to Drink</td>\n",
       "      <td>0.0</td>\n",
       "      <td>0.0</td>\n",
       "      <td>27.0</td>\n",
       "      <td>0</td>\n",
       "      <td>0</td>\n",
       "      <td>2.0</td>\n",
       "      <td>0.000000</td>\n",
       "    </tr>\n",
       "    <tr>\n",
       "      <th>4</th>\n",
       "      <td>2</td>\n",
       "      <td>2019-06-29</td>\n",
       "      <td>3000277</td>\n",
       "      <td>Mixed Berries &amp; Granola Yogurt Parfait</td>\n",
       "      <td>Unassigned</td>\n",
       "      <td>Food</td>\n",
       "      <td>Cold Case</td>\n",
       "      <td>Ready to Eat</td>\n",
       "      <td>0.0</td>\n",
       "      <td>3.0</td>\n",
       "      <td>0.0</td>\n",
       "      <td>11</td>\n",
       "      <td>1</td>\n",
       "      <td>2.0</td>\n",
       "      <td>0.578969</td>\n",
       "    </tr>\n",
       "  </tbody>\n",
       "</table>\n",
       "</div>"
      ],
      "text/plain": [
       "   StoreID BusinessDate      PLU                             Description  \\\n",
       "0        2   2019-06-29  3000227                        Caprese Sandwich   \n",
       "1        2   2019-06-29   830620                Honey Raisin Bran Muffin   \n",
       "2        2   2019-06-29     6228   Pressed Juicery Spicy Greens w Ginger   \n",
       "3        2   2019-06-29    12216                         Vive Juice Shot   \n",
       "4        2   2019-06-29  3000277  Mixed Berries & Granola Yogurt Parfait   \n",
       "\n",
       "     ItemType CategoryLvl1Desc CategoryLvl2Desc  CategoryLvl3Desc  \\\n",
       "0  Unassigned             Food        Cold Case      Ready to Eat   \n",
       "1        Core             Food        Bake Case  Muffins & Scones   \n",
       "2  Unassigned             Food        Cold Case    Ready to Drink   \n",
       "3  Unassigned             Food        Cold Case    Ready to Drink   \n",
       "4  Unassigned             Food        Cold Case      Ready to Eat   \n",
       "\n",
       "   ReceivedQuantity  SoldQuantity  EndQuantity  LatestOrder  StockedOut  \\\n",
       "0               0.0           3.0          0.0           21           0   \n",
       "1               4.0           2.0          0.0           10           0   \n",
       "2               0.0           1.0          9.0           13           0   \n",
       "3               0.0           0.0         27.0            0           0   \n",
       "4               0.0           3.0          0.0           11           1   \n",
       "\n",
       "   GroupID  MissedSales  \n",
       "0      2.0     0.000000  \n",
       "1      2.0     0.000000  \n",
       "2      2.0     0.000000  \n",
       "3      2.0     0.000000  \n",
       "4      2.0     0.578969  "
      ]
     },
     "execution_count": 217,
     "metadata": {},
     "output_type": "execute_result"
    }
   ],
   "source": [
    "df.head()"
   ]
  },
  {
   "cell_type": "code",
   "execution_count": 219,
   "id": "ea06cc5a",
   "metadata": {},
   "outputs": [],
   "source": [
    "# df.groupby(['PLU']).count().sort_values(by=['StoreID'],ascending=False)"
   ]
  },
  {
   "cell_type": "code",
   "execution_count": 220,
   "id": "2d7a923e",
   "metadata": {},
   "outputs": [
    {
     "data": {
      "text/plain": [
       "Index(['StoreID', 'BusinessDate', 'PLU', 'Description', 'ItemType',\n",
       "       'CategoryLvl1Desc', 'CategoryLvl2Desc', 'CategoryLvl3Desc',\n",
       "       'ReceivedQuantity', 'SoldQuantity', 'EndQuantity', 'LatestOrder',\n",
       "       'StockedOut', 'GroupID', 'MissedSales'],\n",
       "      dtype='object')"
      ]
     },
     "execution_count": 220,
     "metadata": {},
     "output_type": "execute_result"
    }
   ],
   "source": [
    "df.columns"
   ]
  },
  {
   "cell_type": "code",
   "execution_count": 224,
   "id": "20d04b53",
   "metadata": {},
   "outputs": [],
   "source": [
    "df_18 = df[(((df['PLU']==810407) & (df['StoreID']==18) | (df['StoreID']==117) | (df['StoreID']==332)))].copy()\n",
    "# df_18['DayOfMonth'] = df_18['BusinessDate'].apply(lambda x:(pd.Timestamp(x)).day).astype(str)\n",
    "# df_18['DayOfWeek'] = df_18['BusinessDate'].apply(lambda x:(pd.Timestamp(x)).day_of_week).astype(str)\n",
    "# df_18['Month'] = df_18['BusinessDate'].apply(lambda x:(pd.Timestamp(x)).month).astype(str)\n",
    "# df_18['Year'] = df_18['BusinessDate'].apply(lambda x:(pd.Timestamp(x)).year).astype(str)\n",
    "df_18['StoreID'] = df_18['StoreID'].astype(str)\n",
    "df_18['PLU'] = df_18['PLU'].astype(str)\n",
    "df_18.drop(['PLU','BusinessDate','Description', 'ItemType',\n",
    "       'CategoryLvl1Desc', 'CategoryLvl2Desc', 'CategoryLvl3Desc',\n",
    "       'ReceivedQuantity','EndQuantity', 'LatestOrder',\n",
    "       'StockedOut', 'GroupID', 'MissedSales'],axis=1,inplace=True)"
   ]
  },
  {
   "cell_type": "code",
   "execution_count": 225,
   "id": "ecea4dd8",
   "metadata": {},
   "outputs": [
    {
     "data": {
      "text/html": [
       "<div>\n",
       "<style scoped>\n",
       "    .dataframe tbody tr th:only-of-type {\n",
       "        vertical-align: middle;\n",
       "    }\n",
       "\n",
       "    .dataframe tbody tr th {\n",
       "        vertical-align: top;\n",
       "    }\n",
       "\n",
       "    .dataframe thead th {\n",
       "        text-align: right;\n",
       "    }\n",
       "</style>\n",
       "<table border=\"1\" class=\"dataframe\">\n",
       "  <thead>\n",
       "    <tr style=\"text-align: right;\">\n",
       "      <th></th>\n",
       "      <th>StoreID</th>\n",
       "      <th>PLU</th>\n",
       "      <th>CategoryLvl2Desc</th>\n",
       "      <th>CategoryLvl3Desc</th>\n",
       "      <th>ReceivedQuantity</th>\n",
       "      <th>SoldQuantity</th>\n",
       "      <th>EndQuantity</th>\n",
       "      <th>LatestOrder</th>\n",
       "      <th>StockedOut</th>\n",
       "      <th>MissedSales</th>\n",
       "    </tr>\n",
       "  </thead>\n",
       "  <tbody>\n",
       "    <tr>\n",
       "      <th>39461</th>\n",
       "      <td>18</td>\n",
       "      <td>3000227</td>\n",
       "      <td>Cold Case</td>\n",
       "      <td>Ready to Eat</td>\n",
       "      <td>4.0</td>\n",
       "      <td>1.0</td>\n",
       "      <td>4.0</td>\n",
       "      <td>9</td>\n",
       "      <td>0</td>\n",
       "      <td>0.00000</td>\n",
       "    </tr>\n",
       "    <tr>\n",
       "      <th>39462</th>\n",
       "      <td>18</td>\n",
       "      <td>830620</td>\n",
       "      <td>Bake Case</td>\n",
       "      <td>Muffins &amp; Scones</td>\n",
       "      <td>2.0</td>\n",
       "      <td>1.0</td>\n",
       "      <td>0.0</td>\n",
       "      <td>7</td>\n",
       "      <td>1</td>\n",
       "      <td>2.56395</td>\n",
       "    </tr>\n",
       "    <tr>\n",
       "      <th>39463</th>\n",
       "      <td>18</td>\n",
       "      <td>6228</td>\n",
       "      <td>Cold Case</td>\n",
       "      <td>Ready to Drink</td>\n",
       "      <td>6.0</td>\n",
       "      <td>0.0</td>\n",
       "      <td>8.0</td>\n",
       "      <td>0</td>\n",
       "      <td>0</td>\n",
       "      <td>0.00000</td>\n",
       "    </tr>\n",
       "    <tr>\n",
       "      <th>39464</th>\n",
       "      <td>18</td>\n",
       "      <td>12216</td>\n",
       "      <td>Cold Case</td>\n",
       "      <td>Ready to Drink</td>\n",
       "      <td>0.0</td>\n",
       "      <td>0.0</td>\n",
       "      <td>3.0</td>\n",
       "      <td>0</td>\n",
       "      <td>0</td>\n",
       "      <td>0.00000</td>\n",
       "    </tr>\n",
       "    <tr>\n",
       "      <th>39465</th>\n",
       "      <td>18</td>\n",
       "      <td>3000277</td>\n",
       "      <td>Cold Case</td>\n",
       "      <td>Ready to Eat</td>\n",
       "      <td>4.0</td>\n",
       "      <td>3.0</td>\n",
       "      <td>4.0</td>\n",
       "      <td>16</td>\n",
       "      <td>0</td>\n",
       "      <td>0.00000</td>\n",
       "    </tr>\n",
       "  </tbody>\n",
       "</table>\n",
       "</div>"
      ],
      "text/plain": [
       "      StoreID      PLU CategoryLvl2Desc  CategoryLvl3Desc  ReceivedQuantity  \\\n",
       "39461      18  3000227        Cold Case      Ready to Eat               4.0   \n",
       "39462      18   830620        Bake Case  Muffins & Scones               2.0   \n",
       "39463      18     6228        Cold Case    Ready to Drink               6.0   \n",
       "39464      18    12216        Cold Case    Ready to Drink               0.0   \n",
       "39465      18  3000277        Cold Case      Ready to Eat               4.0   \n",
       "\n",
       "       SoldQuantity  EndQuantity  LatestOrder  StockedOut  MissedSales  \n",
       "39461           1.0          4.0            9           0      0.00000  \n",
       "39462           1.0          0.0            7           1      2.56395  \n",
       "39463           0.0          8.0            0           0      0.00000  \n",
       "39464           0.0          3.0            0           0      0.00000  \n",
       "39465           3.0          4.0           16           0      0.00000  "
      ]
     },
     "execution_count": 225,
     "metadata": {},
     "output_type": "execute_result"
    }
   ],
   "source": [
    "df_18.head()"
   ]
  },
  {
   "cell_type": "code",
   "execution_count": 223,
   "id": "5320fee5",
   "metadata": {},
   "outputs": [
    {
     "data": {
      "text/plain": [
       "Index(['StoreID', 'SoldQuantity'], dtype='object')"
      ]
     },
     "execution_count": 223,
     "metadata": {},
     "output_type": "execute_result"
    }
   ],
   "source": [
    "df_18.columns"
   ]
  },
  {
   "cell_type": "code",
   "execution_count": 180,
   "id": "9e5cb962",
   "metadata": {},
   "outputs": [],
   "source": [
    "df_18 = pd.get_dummies(df_18,['StoreID'])"
   ]
  },
  {
   "cell_type": "code",
   "execution_count": 181,
   "id": "4a9b4210",
   "metadata": {},
   "outputs": [
    {
     "data": {
      "text/plain": [
       "Index(['SoldQuantity', 'StoreID_117', 'StoreID_18', 'StoreID_332'], dtype='object')"
      ]
     },
     "execution_count": 181,
     "metadata": {},
     "output_type": "execute_result"
    }
   ],
   "source": [
    "df_18.columns"
   ]
  },
  {
   "cell_type": "code",
   "execution_count": 182,
   "id": "439291f9",
   "metadata": {},
   "outputs": [],
   "source": [
    "df_18 = df_18.astype(float)"
   ]
  },
  {
   "cell_type": "code",
   "execution_count": 183,
   "id": "c5b72be1",
   "metadata": {},
   "outputs": [],
   "source": [
    "# df_18[df_18['MissedSales'].isna()] = 0.0"
   ]
  },
  {
   "cell_type": "code",
   "execution_count": 184,
   "id": "f0575bd4",
   "metadata": {},
   "outputs": [
    {
     "name": "stdout",
     "output_type": "stream",
     "text": [
      "1259761   2020-06-27\n",
      "1259762   2020-06-27\n",
      "1259763   2020-06-28\n",
      "1259764   2020-06-28\n",
      "1259765   2020-06-28\n",
      "1259766   2020-06-28\n",
      "1259767   2020-06-28\n",
      "1259768   2020-06-28\n",
      "1259769   2020-06-28\n",
      "1259770   2020-06-29\n",
      "1259771   2020-06-29\n",
      "1259772   2020-06-29\n",
      "1259773   2020-06-29\n",
      "1259774   2020-06-29\n",
      "1259775   2020-06-29\n",
      "Name: BusinessDate, dtype: datetime64[ns]\n"
     ]
    }
   ],
   "source": [
    "train_dates = pd.to_datetime(df['BusinessDate'])\n",
    "print(train_dates.tail(15))"
   ]
  },
  {
   "cell_type": "code",
   "execution_count": 185,
   "id": "fafce944",
   "metadata": {},
   "outputs": [],
   "source": [
    "df_18_X = df_18.drop(['SoldQuantity'],axis=1)\n",
    "# df_18_y = df_18['SoldQuantity']"
   ]
  },
  {
   "cell_type": "code",
   "execution_count": 186,
   "id": "a844ae1a",
   "metadata": {},
   "outputs": [],
   "source": [
    "# fig, ax = plt.subplots(figsize=(18,8))\n",
    "\n",
    "# df_temp = df_18_X[['ReceivedQuantity', 'EndQuantity', 'StockedOut',\n",
    "#        'MissedSales', 'DayOfMonth', 'DayOfWeek', 'Month', 'Year',\n",
    "#        'ItemType_Seasonal', 'ItemType_Unassigned',\n",
    "#        'CategoryLvl3Desc_Bagels', 'CategoryLvl3Desc_Cakes & Breads',\n",
    "#        'CategoryLvl3Desc_Cookies & Bars', 'CategoryLvl3Desc_Muffins & Scones',\n",
    "#        'CategoryLvl3Desc_Pastries', 'CategoryLvl3Desc_Ready to Drink',\n",
    "#        'CategoryLvl3Desc_Ready to Eat']]\n",
    "# corrMatrix = df_temp.corr()\n",
    "# sns.heatmap(corrMatrix, annot=True)\n",
    "# plt.show()"
   ]
  },
  {
   "cell_type": "code",
   "execution_count": 187,
   "id": "2c8943b1",
   "metadata": {},
   "outputs": [],
   "source": [
    "# df_18 = df_18.drop(['CategoryLvl2Desc_Cold Case','CategoryLvl2Desc_Bake Case'],axis=1)\n",
    "# df_18 = df_18.drop(['GroupID','CategoryLvl2Desc_Bake Case','CategoryLvl2Desc_Cold Case','ItemType_Core',],axis=1)"
   ]
  },
  {
   "cell_type": "code",
   "execution_count": 188,
   "id": "1ae6e17d",
   "metadata": {},
   "outputs": [
    {
     "data": {
      "text/plain": [
       "Index(['SoldQuantity', 'StoreID_117', 'StoreID_18', 'StoreID_332'], dtype='object')"
      ]
     },
     "execution_count": 188,
     "metadata": {},
     "output_type": "execute_result"
    }
   ],
   "source": [
    "df_18.columns"
   ]
  },
  {
   "cell_type": "code",
   "execution_count": 189,
   "id": "e726c33f",
   "metadata": {},
   "outputs": [],
   "source": [
    "df_18 = df_18[['SoldQuantity', 'StoreID_117', 'StoreID_18', 'StoreID_332']]"
   ]
  },
  {
   "cell_type": "code",
   "execution_count": 190,
   "id": "d2c9056b",
   "metadata": {},
   "outputs": [],
   "source": [
    "from sklearn.preprocessing import StandardScaler,MinMaxScaler\n",
    "\n",
    "scaler = StandardScaler()\n",
    "\n",
    "df_18_scaled = scaler.fit_transform(\n",
    "    df_18[['SoldQuantity', 'StoreID_117', 'StoreID_18', 'StoreID_332']])"
   ]
  },
  {
   "cell_type": "code",
   "execution_count": 191,
   "id": "945e9834",
   "metadata": {},
   "outputs": [],
   "source": [
    "# import sklearn.preprocessing as preprocessing\n",
    "# df_18_scaled = preprocessing.normalize(df_18_scaled, norm='l2')"
   ]
  },
  {
   "cell_type": "code",
   "execution_count": 192,
   "id": "0223763b",
   "metadata": {},
   "outputs": [],
   "source": [
    "trainX = []\n",
    "trainY = []\n",
    "\n",
    "n_future = 1   # Number of days we want to look into the future based on the past days.\n",
    "n_past = 14 # Number of past days we want to use to predict the future."
   ]
  },
  {
   "cell_type": "code",
   "execution_count": 193,
   "id": "7a422b50",
   "metadata": {},
   "outputs": [],
   "source": [
    "for i in range(n_past, len(df_18) - n_future +1):\n",
    "    trainX.append(df_18_scaled[i - n_past:i, 0:df_18.shape[1]])\n",
    "    trainY.append(df_18_scaled[i + n_future - 1:i + n_future, 0])"
   ]
  },
  {
   "cell_type": "code",
   "execution_count": 194,
   "id": "0eac17b2",
   "metadata": {},
   "outputs": [
    {
     "name": "stdout",
     "output_type": "stream",
     "text": [
      "trainX shape == (21100, 14, 4).\n",
      "trainY shape == (21100, 1).\n"
     ]
    }
   ],
   "source": [
    "trainX, trainY = np.array(trainX), np.array(trainY)\n",
    "\n",
    "print('trainX shape == {}.'.format(trainX.shape))\n",
    "print('trainY shape == {}.'.format(trainY.shape))"
   ]
  },
  {
   "cell_type": "code",
   "execution_count": 198,
   "id": "fc9d109b",
   "metadata": {},
   "outputs": [
    {
     "name": "stdout",
     "output_type": "stream",
     "text": [
      "Model: \"sequential_5\"\n",
      "_________________________________________________________________\n",
      " Layer (type)                Output Shape              Param #   \n",
      "=================================================================\n",
      " lstm_10 (LSTM)              (None, 14, 64)            17664     \n",
      "                                                                 \n",
      " lstm_11 (LSTM)              (None, 32)                12416     \n",
      "                                                                 \n",
      " dropout_5 (Dropout)         (None, 32)                0         \n",
      "                                                                 \n",
      " dense_5 (Dense)             (None, 1)                 33        \n",
      "                                                                 \n",
      "=================================================================\n",
      "Total params: 30,113\n",
      "Trainable params: 30,113\n",
      "Non-trainable params: 0\n",
      "_________________________________________________________________\n"
     ]
    }
   ],
   "source": [
    "from tensorflow.keras.losses import MeanSquaredError,CategoricalCrossentropy\n",
    "from tensorflow.keras.metrics import RootMeanSquaredError\n",
    "from tensorflow.keras.optimizers import Adam\n",
    "\n",
    "model = Sequential()\n",
    "model.add(LSTM(64, activation='relu', input_shape=(trainX.shape[1], trainX.shape[2]), return_sequences=True))\n",
    "model.add(LSTM(32, activation='relu', return_sequences=False))\n",
    "# model.add(LSTM(32, activation='relu', return_sequences=False))\n",
    "# model.add(Dense(8, 'relu'))\n",
    "# model.add(Dense(1, 'linear'))\n",
    "model.add(Dropout(0.2))\n",
    "model.add(Dense(trainY.shape[1]))\n",
    "\n",
    "model.compile(loss=MeanSquaredError(), optimizer=Adam(learning_rate=0.001), metrics='accuracy')\n",
    "model.summary()"
   ]
  },
  {
   "cell_type": "code",
   "execution_count": 199,
   "id": "32ce27a5",
   "metadata": {},
   "outputs": [],
   "source": [
    "# NN_model = Sequential()\n",
    "\n",
    "# # The Input Layer :\n",
    "# NN_model.add(Dense(128, kernel_initializer='normal',input_shape=(trainX.shape[1], trainX.shape[2]), activation='relu'))\n",
    "\n",
    "# # The Hidden Layers :\n",
    "# NN_model.add(Dense(256, kernel_initializer='normal',activation='relu'))\n",
    "# NN_model.add(Dense(256, kernel_initializer='normal',activation='relu'))\n",
    "# NN_model.add(Dense(256, kernel_initializer='normal',activation='relu'))\n",
    "\n",
    "# # The Output Layer :\n",
    "# NN_model.add(Dense(1, kernel_initializer='normal',activation='linear'))\n",
    "\n",
    "# # Compile the network :\n",
    "# NN_model.compile(loss=MeanSquaredError(), optimizer=Adam(learning_rate=0.001), metrics=[RootMeanSquaredError()])\n",
    "# NN_model.summary()"
   ]
  },
  {
   "cell_type": "code",
   "execution_count": 200,
   "id": "a87bcd5b",
   "metadata": {},
   "outputs": [
    {
     "name": "stdout",
     "output_type": "stream",
     "text": [
      "Epoch 1/10\n",
      "4/4 - 8s - loss: 0.8861 - accuracy: 0.0000e+00 - val_loss: 1.1683 - val_accuracy: 0.0000e+00 - 8s/epoch - 2s/step\n",
      "Epoch 2/10\n",
      "4/4 - 3s - loss: 0.7984 - accuracy: 0.0000e+00 - val_loss: 1.1816 - val_accuracy: 0.0000e+00 - 3s/epoch - 661ms/step\n",
      "Epoch 3/10\n",
      "4/4 - 3s - loss: 0.7447 - accuracy: 0.0000e+00 - val_loss: 1.2765 - val_accuracy: 0.0000e+00 - 3s/epoch - 666ms/step\n",
      "Epoch 4/10\n",
      "4/4 - 3s - loss: 0.7396 - accuracy: 0.0000e+00 - val_loss: 1.2997 - val_accuracy: 0.0000e+00 - 3s/epoch - 674ms/step\n",
      "Epoch 5/10\n",
      "4/4 - 3s - loss: 0.7368 - accuracy: 0.0000e+00 - val_loss: 1.2463 - val_accuracy: 0.0000e+00 - 3s/epoch - 718ms/step\n",
      "Epoch 6/10\n",
      "4/4 - 3s - loss: 0.7299 - accuracy: 0.0000e+00 - val_loss: 1.2304 - val_accuracy: 0.0000e+00 - 3s/epoch - 661ms/step\n",
      "Epoch 7/10\n",
      "4/4 - 3s - loss: 0.7248 - accuracy: 0.0000e+00 - val_loss: 1.2534 - val_accuracy: 0.0000e+00 - 3s/epoch - 669ms/step\n",
      "Epoch 8/10\n",
      "4/4 - 3s - loss: 0.7230 - accuracy: 0.0000e+00 - val_loss: 1.3024 - val_accuracy: 0.0000e+00 - 3s/epoch - 661ms/step\n",
      "Epoch 9/10\n",
      "4/4 - 3s - loss: 0.7212 - accuracy: 0.0000e+00 - val_loss: 1.3039 - val_accuracy: 0.0000e+00 - 3s/epoch - 680ms/step\n",
      "Epoch 10/10\n",
      "4/4 - 3s - loss: 0.7146 - accuracy: 0.0000e+00 - val_loss: 1.2905 - val_accuracy: 0.0000e+00 - 3s/epoch - 662ms/step\n"
     ]
    }
   ],
   "source": [
    "history = model.fit(trainX, trainY, epochs=10,batch_size=5000,validation_split=0.2, verbose=2)"
   ]
  },
  {
   "cell_type": "code",
   "execution_count": 201,
   "id": "16ed7798",
   "metadata": {},
   "outputs": [
    {
     "data": {
      "text/plain": [
       "<matplotlib.legend.Legend at 0x2599258ef80>"
      ]
     },
     "execution_count": 201,
     "metadata": {},
     "output_type": "execute_result"
    },
    {
     "data": {
      "image/png": "[encoded data removed]",
      "text/plain": [
       "<Figure size 432x288 with 1 Axes>"
      ]
     },
     "metadata": {
      "needs_background": "light"
     },
     "output_type": "display_data"
    }
   ],
   "source": [
    "plt.plot(history.history['loss'], label='Training loss')\n",
    "plt.plot(history.history['val_loss'], label='Validation loss')\n",
    "plt.legend()"
   ]
  },
  {
   "cell_type": "code",
   "execution_count": 202,
   "id": "1a09a388",
   "metadata": {},
   "outputs": [
    {
     "ename": "KeyError",
     "evalue": "'root_mean_squared_error'",
     "output_type": "error",
     "traceback": [
      "\u001b[1;31m---------------------------------------------------------------------------\u001b[0m",
      "\u001b[1;31mKeyError\u001b[0m                                  Traceback (most recent call last)",
      "Input \u001b[1;32mIn [202]\u001b[0m, in \u001b[0;36m<module>\u001b[1;34m\u001b[0m\n\u001b[1;32m----> 1\u001b[0m plt\u001b[38;5;241m.\u001b[39mplot(\u001b[43mhistory\u001b[49m\u001b[38;5;241;43m.\u001b[39;49m\u001b[43mhistory\u001b[49m\u001b[43m[\u001b[49m\u001b[38;5;124;43m'\u001b[39;49m\u001b[38;5;124;43mroot_mean_squared_error\u001b[39;49m\u001b[38;5;124;43m'\u001b[39;49m\u001b[43m]\u001b[49m, label\u001b[38;5;241m=\u001b[39m\u001b[38;5;124m'\u001b[39m\u001b[38;5;124mTraining loss\u001b[39m\u001b[38;5;124m'\u001b[39m)\n\u001b[0;32m      2\u001b[0m plt\u001b[38;5;241m.\u001b[39mplot(history\u001b[38;5;241m.\u001b[39mhistory[\u001b[38;5;124m'\u001b[39m\u001b[38;5;124mval_root_mean_squared_error\u001b[39m\u001b[38;5;124m'\u001b[39m], label\u001b[38;5;241m=\u001b[39m\u001b[38;5;124m'\u001b[39m\u001b[38;5;124mValidation loss\u001b[39m\u001b[38;5;124m'\u001b[39m)\n\u001b[0;32m      3\u001b[0m plt\u001b[38;5;241m.\u001b[39mlegend()\n",
      "\u001b[1;31mKeyError\u001b[0m: 'root_mean_squared_error'"
     ]
    }
   ],
   "source": [
    "plt.plot(history.history['root_mean_squared_error'], label='Training loss')\n",
    "plt.plot(history.history['val_root_mean_squared_error'], label='Validation loss')\n",
    "plt.legend()"
   ]
  },
  {
   "cell_type": "code",
   "execution_count": 120,
   "id": "ed0da929",
   "metadata": {},
   "outputs": [],
   "source": [
    "# cols = df.columns"
   ]
  },
  {
   "cell_type": "code",
   "execution_count": 203,
   "id": "63818636",
   "metadata": {},
   "outputs": [],
   "source": [
    "from pandas.tseries.holiday import USFederalHolidayCalendar\n",
    "from pandas.tseries.offsets import CustomBusinessDay\n",
    "us_bd = CustomBusinessDay(calendar=USFederalHolidayCalendar())"
   ]
  },
  {
   "cell_type": "code",
   "execution_count": 204,
   "id": "2403b8f5",
   "metadata": {},
   "outputs": [],
   "source": [
    "n_past = 16\n",
    "n_days_for_prediction=15"
   ]
  },
  {
   "cell_type": "code",
   "execution_count": 205,
   "id": "5d602a09",
   "metadata": {},
   "outputs": [
    {
     "name": "stdout",
     "output_type": "stream",
     "text": [
      "[Timestamp('2020-06-29 00:00:00', freq='C'), Timestamp('2020-06-30 00:00:00', freq='C'), Timestamp('2020-07-01 00:00:00', freq='C'), Timestamp('2020-07-02 00:00:00', freq='C'), Timestamp('2020-07-06 00:00:00', freq='C'), Timestamp('2020-07-07 00:00:00', freq='C'), Timestamp('2020-07-08 00:00:00', freq='C'), Timestamp('2020-07-09 00:00:00', freq='C'), Timestamp('2020-07-10 00:00:00', freq='C'), Timestamp('2020-07-13 00:00:00', freq='C'), Timestamp('2020-07-14 00:00:00', freq='C'), Timestamp('2020-07-15 00:00:00', freq='C'), Timestamp('2020-07-16 00:00:00', freq='C'), Timestamp('2020-07-17 00:00:00', freq='C'), Timestamp('2020-07-20 00:00:00', freq='C')]\n"
     ]
    }
   ],
   "source": [
    "predict_period_dates = pd.date_range(list(train_dates)[-n_past], periods=n_days_for_prediction, freq=us_bd).tolist()\n",
    "print(predict_period_dates)"
   ]
  },
  {
   "cell_type": "code",
   "execution_count": 206,
   "id": "dd48e238",
   "metadata": {},
   "outputs": [
    {
     "name": "stdout",
     "output_type": "stream",
     "text": [
      "WARNING:tensorflow:5 out of the last 7 calls to <function Model.make_predict_function.<locals>.predict_function at 0x0000025992509870> triggered tf.function retracing. Tracing is expensive and the excessive number of tracings could be due to (1) creating @tf.function repeatedly in a loop, (2) passing tensors with different shapes, (3) passing Python objects instead of tensors. For (1), please define your @tf.function outside of the loop. For (2), @tf.function has experimental_relax_shapes=True option that relaxes argument shapes that can avoid unnecessary retracing. For (3), please refer to https://www.tensorflow.org/guide/function#controlling_retracing and https://www.tensorflow.org/api_docs/python/tf/function for  more details.\n"
     ]
    }
   ],
   "source": [
    "prediction = model.predict(trainX[-n_days_for_prediction:])"
   ]
  },
  {
   "cell_type": "code",
   "execution_count": 207,
   "id": "e0c94655",
   "metadata": {},
   "outputs": [
    {
     "data": {
      "text/plain": [
       "array([[0.5638935 ],\n",
       "       [0.5672061 ],\n",
       "       [0.5416452 ],\n",
       "       [0.5274698 ],\n",
       "       [0.523164  ],\n",
       "       [0.5322679 ],\n",
       "       [0.55432665],\n",
       "       [0.5691362 ],\n",
       "       [0.58460635],\n",
       "       [0.60766184],\n",
       "       [0.61532634],\n",
       "       [0.6785438 ],\n",
       "       [0.66730267],\n",
       "       [0.67066354],\n",
       "       [0.63599324]], dtype=float32)"
      ]
     },
     "execution_count": 207,
     "metadata": {},
     "output_type": "execute_result"
    }
   ],
   "source": [
    "prediction"
   ]
  },
  {
   "cell_type": "code",
   "execution_count": 227,
   "id": "97efb3e6",
   "metadata": {},
   "outputs": [
    {
     "ename": "ValueError",
     "evalue": "operands could not be broadcast together with shapes (15,10) (4,) (15,10) ",
     "output_type": "error",
     "traceback": [
      "\u001b[1;31m---------------------------------------------------------------------------\u001b[0m",
      "\u001b[1;31mValueError\u001b[0m                                Traceback (most recent call last)",
      "Input \u001b[1;32mIn [227]\u001b[0m, in \u001b[0;36m<module>\u001b[1;34m\u001b[0m\n\u001b[0;32m      1\u001b[0m prediction_copies \u001b[38;5;241m=\u001b[39m np\u001b[38;5;241m.\u001b[39mrepeat(prediction, df_18\u001b[38;5;241m.\u001b[39mshape[\u001b[38;5;241m1\u001b[39m], axis\u001b[38;5;241m=\u001b[39m\u001b[38;5;241m-\u001b[39m\u001b[38;5;241m1\u001b[39m)\n\u001b[1;32m----> 2\u001b[0m y_pred_future \u001b[38;5;241m=\u001b[39m \u001b[43mscaler\u001b[49m\u001b[38;5;241;43m.\u001b[39;49m\u001b[43minverse_transform\u001b[49m\u001b[43m(\u001b[49m\u001b[43mprediction_copies\u001b[49m\u001b[43m)\u001b[49m[:,\u001b[38;5;241m0\u001b[39m]\n",
      "File \u001b[1;32m~\\AppData\\Local\\Programs\\Python\\Python310\\lib\\site-packages\\sklearn\\preprocessing\\_data.py:1035\u001b[0m, in \u001b[0;36mStandardScaler.inverse_transform\u001b[1;34m(self, X, copy)\u001b[0m\n\u001b[0;32m   1033\u001b[0m \u001b[38;5;28;01melse\u001b[39;00m:\n\u001b[0;32m   1034\u001b[0m     \u001b[38;5;28;01mif\u001b[39;00m \u001b[38;5;28mself\u001b[39m\u001b[38;5;241m.\u001b[39mwith_std:\n\u001b[1;32m-> 1035\u001b[0m         X \u001b[38;5;241m*\u001b[39m\u001b[38;5;241m=\u001b[39m \u001b[38;5;28mself\u001b[39m\u001b[38;5;241m.\u001b[39mscale_\n\u001b[0;32m   1036\u001b[0m     \u001b[38;5;28;01mif\u001b[39;00m \u001b[38;5;28mself\u001b[39m\u001b[38;5;241m.\u001b[39mwith_mean:\n\u001b[0;32m   1037\u001b[0m         X \u001b[38;5;241m+\u001b[39m\u001b[38;5;241m=\u001b[39m \u001b[38;5;28mself\u001b[39m\u001b[38;5;241m.\u001b[39mmean_\n",
      "\u001b[1;31mValueError\u001b[0m: operands could not be broadcast together with shapes (15,10) (4,) (15,10) "
     ]
    }
   ],
   "source": [
    "prediction_copies = np.repeat(prediction, df_18.shape[1], axis=-1)\n",
    "y_pred_future = scaler.inverse_transform(prediction_copies)[:,0]"
   ]
  },
  {
   "cell_type": "code",
   "execution_count": 209,
   "id": "f1f3c615",
   "metadata": {},
   "outputs": [
    {
     "data": {
      "text/plain": [
       "array([5.1799436, 5.1904345, 5.1094837, 5.06459  , 5.050954 , 5.079786 ,\n",
       "       5.1496453, 5.196547 , 5.245541 , 5.3185577, 5.342831 , 5.54304  ,\n",
       "       5.507439 , 5.518083 , 5.4082828], dtype=float32)"
      ]
     },
     "execution_count": 209,
     "metadata": {},
     "output_type": "execute_result"
    }
   ],
   "source": [
    "y_pred_future"
   ]
  },
  {
   "cell_type": "code",
   "execution_count": 210,
   "id": "0345c1c2",
   "metadata": {},
   "outputs": [],
   "source": [
    "forecast_dates = []\n",
    "for time_i in predict_period_dates:\n",
    "    forecast_dates.append(time_i.date())"
   ]
  },
  {
   "cell_type": "code",
   "execution_count": 211,
   "id": "f1da8cba",
   "metadata": {},
   "outputs": [],
   "source": [
    "df_forecast = pd.DataFrame({'Date':np.array(forecast_dates), 'SoldQuantity':y_pred_future})\n",
    "df_forecast['Date']=pd.to_datetime(df_forecast['Date'])"
   ]
  },
  {
   "cell_type": "code",
   "execution_count": 212,
   "id": "d03b7072",
   "metadata": {},
   "outputs": [
    {
     "name": "stderr",
     "output_type": "stream",
     "text": [
      "C:\\Users\\029338502\\AppData\\Local\\Temp\\ipykernel_7120\\3612205673.py:5: SettingWithCopyWarning: \n",
      "A value is trying to be set on a copy of a slice from a DataFrame.\n",
      "Try using .loc[row_indexer,col_indexer] = value instead\n",
      "\n",
      "See the caveats in the documentation: https://pandas.pydata.org/pandas-docs/stable/user_guide/indexing.html#returning-a-view-versus-a-copy\n",
      "  original['Date']=pd.to_datetime(original['Date'])\n"
     ]
    }
   ],
   "source": [
    "temp = df[(((df['PLU']==810407) & (df['StoreID']==18) | (df['StoreID']==117) | (df['StoreID']==332)))]\n",
    "df_18['Date'] = temp['BusinessDate']\n",
    "\n",
    "original = df_18[['Date', 'SoldQuantity']]\n",
    "original['Date']=pd.to_datetime(original['Date'])"
   ]
  },
  {
   "cell_type": "code",
   "execution_count": 213,
   "id": "1539440a",
   "metadata": {},
   "outputs": [],
   "source": [
    "original = original.loc[original['Date'] >= '2019-10-01']"
   ]
  },
  {
   "cell_type": "code",
   "execution_count": 214,
   "id": "fbff8dfe",
   "metadata": {},
   "outputs": [
    {
     "data": {
      "text/plain": [
       "<AxesSubplot:>"
      ]
     },
     "execution_count": 214,
     "metadata": {},
     "output_type": "execute_result"
    },
    {
     "data": {
      "image/png": "[encoded data removed]",
      "text/plain": [
       "<Figure size 1296x576 with 1 Axes>"
      ]
     },
     "metadata": {
      "needs_background": "light"
     },
     "output_type": "display_data"
    }
   ],
   "source": [
    "fig, ax = plt.subplots(figsize=(18,8))\n",
    "\n",
    "sns.lineplot(x = original['Date'].values, y = original['SoldQuantity'].values)\n",
    "sns.lineplot(x = df_forecast['Date'].values, y = df_forecast['SoldQuantity'].values)"
   ]
  },
  {
   "cell_type": "code",
   "execution_count": null,
   "id": "6a53eb9b",
   "metadata": {},
   "outputs": [],
   "source": []
  },
  {
   "cell_type": "code",
   "execution_count": null,
   "id": "39638ca3",
   "metadata": {},
   "outputs": [],
   "source": []
  },
  {
   "cell_type": "code",
   "execution_count": null,
   "id": "9228386f",
   "metadata": {},
   "outputs": [],
   "source": [
    "df_18 = df[df['StoreID'] == 18].copy()\n",
    "# df_18['DayOfMonth'] = df_18['BusinessDate'].apply(lambda x:(pd.Timestamp(x)).day)\n",
    "# df_18['DayOfWeek'] = df_18['BusinessDate'].apply(lambda x:(pd.Timestamp(x)).day_of_week)\n",
    "# df_18['Month'] = df_18['BusinessDate'].apply(lambda x:(pd.Timestamp(x)).month)\n",
    "# df_18['Year'] = df_18['BusinessDate'].apply(lambda x:(pd.Timestamp(x)).year)\n",
    "df_18.drop(['StoreID','Description','LatestOrder','CategoryLvl1Desc'],axis=1,inplace=True)"
   ]
  },
  {
   "cell_type": "code",
   "execution_count": 7,
   "id": "6db407b5",
   "metadata": {},
   "outputs": [
    {
     "ename": "ValueError",
     "evalue": "could not convert string to float: '2019-06-29'",
     "output_type": "error",
     "traceback": [
      "\u001b[1;31m---------------------------------------------------------------------------\u001b[0m",
      "\u001b[1;31mValueError\u001b[0m                                Traceback (most recent call last)",
      "Input \u001b[1;32mIn [7]\u001b[0m, in \u001b[0;36m<module>\u001b[1;34m\u001b[0m\n\u001b[1;32m----> 1\u001b[0m df_for_training \u001b[38;5;241m=\u001b[39m \u001b[43mdf\u001b[49m\u001b[43m[\u001b[49m\u001b[43mcols\u001b[49m\u001b[43m]\u001b[49m\u001b[38;5;241;43m.\u001b[39;49m\u001b[43mastype\u001b[49m\u001b[43m(\u001b[49m\u001b[38;5;28;43mfloat\u001b[39;49m\u001b[43m)\u001b[49m\n",
      "File \u001b[1;32m~\\AppData\\Local\\Programs\\Python\\Python310\\lib\\site-packages\\pandas\\core\\generic.py:5920\u001b[0m, in \u001b[0;36mNDFrame.astype\u001b[1;34m(self, dtype, copy, errors)\u001b[0m\n\u001b[0;32m   5913\u001b[0m     results \u001b[38;5;241m=\u001b[39m [\n\u001b[0;32m   5914\u001b[0m         \u001b[38;5;28mself\u001b[39m\u001b[38;5;241m.\u001b[39miloc[:, i]\u001b[38;5;241m.\u001b[39mastype(dtype, copy\u001b[38;5;241m=\u001b[39mcopy)\n\u001b[0;32m   5915\u001b[0m         \u001b[38;5;28;01mfor\u001b[39;00m i \u001b[38;5;129;01min\u001b[39;00m \u001b[38;5;28mrange\u001b[39m(\u001b[38;5;28mlen\u001b[39m(\u001b[38;5;28mself\u001b[39m\u001b[38;5;241m.\u001b[39mcolumns))\n\u001b[0;32m   5916\u001b[0m     ]\n\u001b[0;32m   5918\u001b[0m \u001b[38;5;28;01melse\u001b[39;00m:\n\u001b[0;32m   5919\u001b[0m     \u001b[38;5;66;03m# else, only a single dtype is given\u001b[39;00m\n\u001b[1;32m-> 5920\u001b[0m     new_data \u001b[38;5;241m=\u001b[39m \u001b[38;5;28;43mself\u001b[39;49m\u001b[38;5;241;43m.\u001b[39;49m\u001b[43m_mgr\u001b[49m\u001b[38;5;241;43m.\u001b[39;49m\u001b[43mastype\u001b[49m\u001b[43m(\u001b[49m\u001b[43mdtype\u001b[49m\u001b[38;5;241;43m=\u001b[39;49m\u001b[43mdtype\u001b[49m\u001b[43m,\u001b[49m\u001b[43m \u001b[49m\u001b[43mcopy\u001b[49m\u001b[38;5;241;43m=\u001b[39;49m\u001b[43mcopy\u001b[49m\u001b[43m,\u001b[49m\u001b[43m \u001b[49m\u001b[43merrors\u001b[49m\u001b[38;5;241;43m=\u001b[39;49m\u001b[43merrors\u001b[49m\u001b[43m)\u001b[49m\n\u001b[0;32m   5921\u001b[0m     \u001b[38;5;28;01mreturn\u001b[39;00m \u001b[38;5;28mself\u001b[39m\u001b[38;5;241m.\u001b[39m_constructor(new_data)\u001b[38;5;241m.\u001b[39m__finalize__(\u001b[38;5;28mself\u001b[39m, method\u001b[38;5;241m=\u001b[39m\u001b[38;5;124m\"\u001b[39m\u001b[38;5;124mastype\u001b[39m\u001b[38;5;124m\"\u001b[39m)\n\u001b[0;32m   5923\u001b[0m \u001b[38;5;66;03m# GH 33113: handle empty frame or series\u001b[39;00m\n",
      "File \u001b[1;32m~\\AppData\\Local\\Programs\\Python\\Python310\\lib\\site-packages\\pandas\\core\\internals\\managers.py:419\u001b[0m, in \u001b[0;36mBaseBlockManager.astype\u001b[1;34m(self, dtype, copy, errors)\u001b[0m\n\u001b[0;32m    418\u001b[0m \u001b[38;5;28;01mdef\u001b[39;00m \u001b[38;5;21mastype\u001b[39m(\u001b[38;5;28mself\u001b[39m: T, dtype, copy: \u001b[38;5;28mbool\u001b[39m \u001b[38;5;241m=\u001b[39m \u001b[38;5;28;01mFalse\u001b[39;00m, errors: \u001b[38;5;28mstr\u001b[39m \u001b[38;5;241m=\u001b[39m \u001b[38;5;124m\"\u001b[39m\u001b[38;5;124mraise\u001b[39m\u001b[38;5;124m\"\u001b[39m) \u001b[38;5;241m-\u001b[39m\u001b[38;5;241m>\u001b[39m T:\n\u001b[1;32m--> 419\u001b[0m     \u001b[38;5;28;01mreturn\u001b[39;00m \u001b[38;5;28;43mself\u001b[39;49m\u001b[38;5;241;43m.\u001b[39;49m\u001b[43mapply\u001b[49m\u001b[43m(\u001b[49m\u001b[38;5;124;43m\"\u001b[39;49m\u001b[38;5;124;43mastype\u001b[39;49m\u001b[38;5;124;43m\"\u001b[39;49m\u001b[43m,\u001b[49m\u001b[43m \u001b[49m\u001b[43mdtype\u001b[49m\u001b[38;5;241;43m=\u001b[39;49m\u001b[43mdtype\u001b[49m\u001b[43m,\u001b[49m\u001b[43m \u001b[49m\u001b[43mcopy\u001b[49m\u001b[38;5;241;43m=\u001b[39;49m\u001b[43mcopy\u001b[49m\u001b[43m,\u001b[49m\u001b[43m \u001b[49m\u001b[43merrors\u001b[49m\u001b[38;5;241;43m=\u001b[39;49m\u001b[43merrors\u001b[49m\u001b[43m)\u001b[49m\n",
      "File \u001b[1;32m~\\AppData\\Local\\Programs\\Python\\Python310\\lib\\site-packages\\pandas\\core\\internals\\managers.py:304\u001b[0m, in \u001b[0;36mBaseBlockManager.apply\u001b[1;34m(self, f, align_keys, ignore_failures, **kwargs)\u001b[0m\n\u001b[0;32m    302\u001b[0m         applied \u001b[38;5;241m=\u001b[39m b\u001b[38;5;241m.\u001b[39mapply(f, \u001b[38;5;241m*\u001b[39m\u001b[38;5;241m*\u001b[39mkwargs)\n\u001b[0;32m    303\u001b[0m     \u001b[38;5;28;01melse\u001b[39;00m:\n\u001b[1;32m--> 304\u001b[0m         applied \u001b[38;5;241m=\u001b[39m \u001b[38;5;28mgetattr\u001b[39m(b, f)(\u001b[38;5;241m*\u001b[39m\u001b[38;5;241m*\u001b[39mkwargs)\n\u001b[0;32m    305\u001b[0m \u001b[38;5;28;01mexcept\u001b[39;00m (\u001b[38;5;167;01mTypeError\u001b[39;00m, \u001b[38;5;167;01mNotImplementedError\u001b[39;00m):\n\u001b[0;32m    306\u001b[0m     \u001b[38;5;28;01mif\u001b[39;00m \u001b[38;5;129;01mnot\u001b[39;00m ignore_failures:\n",
      "File \u001b[1;32m~\\AppData\\Local\\Programs\\Python\\Python310\\lib\\site-packages\\pandas\\core\\internals\\blocks.py:582\u001b[0m, in \u001b[0;36mBlock.astype\u001b[1;34m(self, dtype, copy, errors)\u001b[0m\n\u001b[0;32m    564\u001b[0m \u001b[38;5;124;03m\"\"\"\u001b[39;00m\n\u001b[0;32m    565\u001b[0m \u001b[38;5;124;03mCoerce to the new dtype.\u001b[39;00m\n\u001b[0;32m    566\u001b[0m \n\u001b[1;32m   (...)\u001b[0m\n\u001b[0;32m    578\u001b[0m \u001b[38;5;124;03mBlock\u001b[39;00m\n\u001b[0;32m    579\u001b[0m \u001b[38;5;124;03m\"\"\"\u001b[39;00m\n\u001b[0;32m    580\u001b[0m values \u001b[38;5;241m=\u001b[39m \u001b[38;5;28mself\u001b[39m\u001b[38;5;241m.\u001b[39mvalues\n\u001b[1;32m--> 582\u001b[0m new_values \u001b[38;5;241m=\u001b[39m \u001b[43mastype_array_safe\u001b[49m\u001b[43m(\u001b[49m\u001b[43mvalues\u001b[49m\u001b[43m,\u001b[49m\u001b[43m \u001b[49m\u001b[43mdtype\u001b[49m\u001b[43m,\u001b[49m\u001b[43m \u001b[49m\u001b[43mcopy\u001b[49m\u001b[38;5;241;43m=\u001b[39;49m\u001b[43mcopy\u001b[49m\u001b[43m,\u001b[49m\u001b[43m \u001b[49m\u001b[43merrors\u001b[49m\u001b[38;5;241;43m=\u001b[39;49m\u001b[43merrors\u001b[49m\u001b[43m)\u001b[49m\n\u001b[0;32m    584\u001b[0m new_values \u001b[38;5;241m=\u001b[39m maybe_coerce_values(new_values)\n\u001b[0;32m    585\u001b[0m newb \u001b[38;5;241m=\u001b[39m \u001b[38;5;28mself\u001b[39m\u001b[38;5;241m.\u001b[39mmake_block(new_values)\n",
      "File \u001b[1;32m~\\AppData\\Local\\Programs\\Python\\Python310\\lib\\site-packages\\pandas\\core\\dtypes\\cast.py:1292\u001b[0m, in \u001b[0;36mastype_array_safe\u001b[1;34m(values, dtype, copy, errors)\u001b[0m\n\u001b[0;32m   1289\u001b[0m     dtype \u001b[38;5;241m=\u001b[39m dtype\u001b[38;5;241m.\u001b[39mnumpy_dtype\n\u001b[0;32m   1291\u001b[0m \u001b[38;5;28;01mtry\u001b[39;00m:\n\u001b[1;32m-> 1292\u001b[0m     new_values \u001b[38;5;241m=\u001b[39m \u001b[43mastype_array\u001b[49m\u001b[43m(\u001b[49m\u001b[43mvalues\u001b[49m\u001b[43m,\u001b[49m\u001b[43m \u001b[49m\u001b[43mdtype\u001b[49m\u001b[43m,\u001b[49m\u001b[43m \u001b[49m\u001b[43mcopy\u001b[49m\u001b[38;5;241;43m=\u001b[39;49m\u001b[43mcopy\u001b[49m\u001b[43m)\u001b[49m\n\u001b[0;32m   1293\u001b[0m \u001b[38;5;28;01mexcept\u001b[39;00m (\u001b[38;5;167;01mValueError\u001b[39;00m, \u001b[38;5;167;01mTypeError\u001b[39;00m):\n\u001b[0;32m   1294\u001b[0m     \u001b[38;5;66;03m# e.g. astype_nansafe can fail on object-dtype of strings\u001b[39;00m\n\u001b[0;32m   1295\u001b[0m     \u001b[38;5;66;03m#  trying to convert to float\u001b[39;00m\n\u001b[0;32m   1296\u001b[0m     \u001b[38;5;28;01mif\u001b[39;00m errors \u001b[38;5;241m==\u001b[39m \u001b[38;5;124m\"\u001b[39m\u001b[38;5;124mignore\u001b[39m\u001b[38;5;124m\"\u001b[39m:\n",
      "File \u001b[1;32m~\\AppData\\Local\\Programs\\Python\\Python310\\lib\\site-packages\\pandas\\core\\dtypes\\cast.py:1237\u001b[0m, in \u001b[0;36mastype_array\u001b[1;34m(values, dtype, copy)\u001b[0m\n\u001b[0;32m   1234\u001b[0m     values \u001b[38;5;241m=\u001b[39m values\u001b[38;5;241m.\u001b[39mastype(dtype, copy\u001b[38;5;241m=\u001b[39mcopy)\n\u001b[0;32m   1236\u001b[0m \u001b[38;5;28;01melse\u001b[39;00m:\n\u001b[1;32m-> 1237\u001b[0m     values \u001b[38;5;241m=\u001b[39m \u001b[43mastype_nansafe\u001b[49m\u001b[43m(\u001b[49m\u001b[43mvalues\u001b[49m\u001b[43m,\u001b[49m\u001b[43m \u001b[49m\u001b[43mdtype\u001b[49m\u001b[43m,\u001b[49m\u001b[43m \u001b[49m\u001b[43mcopy\u001b[49m\u001b[38;5;241;43m=\u001b[39;49m\u001b[43mcopy\u001b[49m\u001b[43m)\u001b[49m\n\u001b[0;32m   1239\u001b[0m \u001b[38;5;66;03m# in pandas we don't store numpy str dtypes, so convert to object\u001b[39;00m\n\u001b[0;32m   1240\u001b[0m \u001b[38;5;28;01mif\u001b[39;00m \u001b[38;5;28misinstance\u001b[39m(dtype, np\u001b[38;5;241m.\u001b[39mdtype) \u001b[38;5;129;01mand\u001b[39;00m \u001b[38;5;28missubclass\u001b[39m(values\u001b[38;5;241m.\u001b[39mdtype\u001b[38;5;241m.\u001b[39mtype, \u001b[38;5;28mstr\u001b[39m):\n",
      "File \u001b[1;32m~\\AppData\\Local\\Programs\\Python\\Python310\\lib\\site-packages\\pandas\\core\\dtypes\\cast.py:1098\u001b[0m, in \u001b[0;36mastype_nansafe\u001b[1;34m(arr, dtype, copy, skipna)\u001b[0m\n\u001b[0;32m   1096\u001b[0m \u001b[38;5;28;01mif\u001b[39;00m arr\u001b[38;5;241m.\u001b[39mndim \u001b[38;5;241m>\u001b[39m \u001b[38;5;241m1\u001b[39m:\n\u001b[0;32m   1097\u001b[0m     flat \u001b[38;5;241m=\u001b[39m arr\u001b[38;5;241m.\u001b[39mravel()\n\u001b[1;32m-> 1098\u001b[0m     result \u001b[38;5;241m=\u001b[39m \u001b[43mastype_nansafe\u001b[49m\u001b[43m(\u001b[49m\u001b[43mflat\u001b[49m\u001b[43m,\u001b[49m\u001b[43m \u001b[49m\u001b[43mdtype\u001b[49m\u001b[43m,\u001b[49m\u001b[43m \u001b[49m\u001b[43mcopy\u001b[49m\u001b[38;5;241;43m=\u001b[39;49m\u001b[43mcopy\u001b[49m\u001b[43m,\u001b[49m\u001b[43m \u001b[49m\u001b[43mskipna\u001b[49m\u001b[38;5;241;43m=\u001b[39;49m\u001b[43mskipna\u001b[49m\u001b[43m)\u001b[49m\n\u001b[0;32m   1099\u001b[0m     \u001b[38;5;66;03m# error: Item \"ExtensionArray\" of \"Union[ExtensionArray, ndarray]\" has no\u001b[39;00m\n\u001b[0;32m   1100\u001b[0m     \u001b[38;5;66;03m# attribute \"reshape\"\u001b[39;00m\n\u001b[0;32m   1101\u001b[0m     \u001b[38;5;28;01mreturn\u001b[39;00m result\u001b[38;5;241m.\u001b[39mreshape(arr\u001b[38;5;241m.\u001b[39mshape)  \u001b[38;5;66;03m# type: ignore[union-attr]\u001b[39;00m\n",
      "File \u001b[1;32m~\\AppData\\Local\\Programs\\Python\\Python310\\lib\\site-packages\\pandas\\core\\dtypes\\cast.py:1181\u001b[0m, in \u001b[0;36mastype_nansafe\u001b[1;34m(arr, dtype, copy, skipna)\u001b[0m\n\u001b[0;32m   1177\u001b[0m     \u001b[38;5;28;01mraise\u001b[39;00m \u001b[38;5;167;01mValueError\u001b[39;00m(msg)\n\u001b[0;32m   1179\u001b[0m \u001b[38;5;28;01mif\u001b[39;00m copy \u001b[38;5;129;01mor\u001b[39;00m is_object_dtype(arr\u001b[38;5;241m.\u001b[39mdtype) \u001b[38;5;129;01mor\u001b[39;00m is_object_dtype(dtype):\n\u001b[0;32m   1180\u001b[0m     \u001b[38;5;66;03m# Explicit copy, or required since NumPy can't view from / to object.\u001b[39;00m\n\u001b[1;32m-> 1181\u001b[0m     \u001b[38;5;28;01mreturn\u001b[39;00m \u001b[43marr\u001b[49m\u001b[38;5;241;43m.\u001b[39;49m\u001b[43mastype\u001b[49m\u001b[43m(\u001b[49m\u001b[43mdtype\u001b[49m\u001b[43m,\u001b[49m\u001b[43m \u001b[49m\u001b[43mcopy\u001b[49m\u001b[38;5;241;43m=\u001b[39;49m\u001b[38;5;28;43;01mTrue\u001b[39;49;00m\u001b[43m)\u001b[49m\n\u001b[0;32m   1183\u001b[0m \u001b[38;5;28;01mreturn\u001b[39;00m arr\u001b[38;5;241m.\u001b[39mastype(dtype, copy\u001b[38;5;241m=\u001b[39mcopy)\n",
      "\u001b[1;31mValueError\u001b[0m: could not convert string to float: '2019-06-29'"
     ]
    }
   ],
   "source": [
    "df_for_training = df[cols].astype(float)"
   ]
  },
  {
   "cell_type": "code",
   "execution_count": 808,
   "id": "f0370b01",
   "metadata": {},
   "outputs": [
    {
     "data": {
      "text/html": [
       "<div>\n",
       "<style scoped>\n",
       "    .dataframe tbody tr th:only-of-type {\n",
       "        vertical-align: middle;\n",
       "    }\n",
       "\n",
       "    .dataframe tbody tr th {\n",
       "        vertical-align: top;\n",
       "    }\n",
       "\n",
       "    .dataframe thead th {\n",
       "        text-align: right;\n",
       "    }\n",
       "</style>\n",
       "<table border=\"1\" class=\"dataframe\">\n",
       "  <thead>\n",
       "    <tr style=\"text-align: right;\">\n",
       "      <th></th>\n",
       "      <th>SoldQuantity</th>\n",
       "      <th>StoreID_117</th>\n",
       "      <th>StoreID_18</th>\n",
       "      <th>StoreID_332</th>\n",
       "    </tr>\n",
       "  </thead>\n",
       "  <tbody>\n",
       "    <tr>\n",
       "      <th>39469</th>\n",
       "      <td>7.0</td>\n",
       "      <td>0.0</td>\n",
       "      <td>1.0</td>\n",
       "      <td>0.0</td>\n",
       "    </tr>\n",
       "    <tr>\n",
       "      <th>39496</th>\n",
       "      <td>9.0</td>\n",
       "      <td>0.0</td>\n",
       "      <td>1.0</td>\n",
       "      <td>0.0</td>\n",
       "    </tr>\n",
       "    <tr>\n",
       "      <th>39522</th>\n",
       "      <td>6.0</td>\n",
       "      <td>0.0</td>\n",
       "      <td>1.0</td>\n",
       "      <td>0.0</td>\n",
       "    </tr>\n",
       "    <tr>\n",
       "      <th>39548</th>\n",
       "      <td>7.0</td>\n",
       "      <td>0.0</td>\n",
       "      <td>1.0</td>\n",
       "      <td>0.0</td>\n",
       "    </tr>\n",
       "    <tr>\n",
       "      <th>39575</th>\n",
       "      <td>8.0</td>\n",
       "      <td>0.0</td>\n",
       "      <td>1.0</td>\n",
       "      <td>0.0</td>\n",
       "    </tr>\n",
       "  </tbody>\n",
       "</table>\n",
       "</div>"
      ],
      "text/plain": [
       "       SoldQuantity  StoreID_117  StoreID_18  StoreID_332\n",
       "39469           7.0          0.0         1.0          0.0\n",
       "39496           9.0          0.0         1.0          0.0\n",
       "39522           6.0          0.0         1.0          0.0\n",
       "39548           7.0          0.0         1.0          0.0\n",
       "39575           8.0          0.0         1.0          0.0"
      ]
     },
     "execution_count": 808,
     "metadata": {},
     "output_type": "execute_result"
    }
   ],
   "source": [
    "df_18.head()"
   ]
  },
  {
   "cell_type": "code",
   "execution_count": 928,
   "id": "3a8d141e",
   "metadata": {},
   "outputs": [],
   "source": []
  },
  {
   "cell_type": "code",
   "execution_count": 929,
   "id": "207e379f",
   "metadata": {},
   "outputs": [],
   "source": [
    "data_temp = df_18.copy()"
   ]
  },
  {
   "cell_type": "code",
   "execution_count": 930,
   "id": "7b0dadf8",
   "metadata": {},
   "outputs": [],
   "source": [
    "df_18['Date'] = temp['BusinessDate']"
   ]
  },
  {
   "cell_type": "code",
   "execution_count": 931,
   "id": "787adb3e",
   "metadata": {},
   "outputs": [
    {
     "data": {
      "text/html": [
       "<div>\n",
       "<style scoped>\n",
       "    .dataframe tbody tr th:only-of-type {\n",
       "        vertical-align: middle;\n",
       "    }\n",
       "\n",
       "    .dataframe tbody tr th {\n",
       "        vertical-align: top;\n",
       "    }\n",
       "\n",
       "    .dataframe thead th {\n",
       "        text-align: right;\n",
       "    }\n",
       "</style>\n",
       "<table border=\"1\" class=\"dataframe\">\n",
       "  <thead>\n",
       "    <tr style=\"text-align: right;\">\n",
       "      <th></th>\n",
       "      <th>ReceivedQuantity</th>\n",
       "      <th>SoldQuantity</th>\n",
       "      <th>EndQuantity</th>\n",
       "      <th>LatestOrder</th>\n",
       "      <th>StockedOut</th>\n",
       "      <th>MissedSales</th>\n",
       "      <th>StoreID_117</th>\n",
       "      <th>StoreID_18</th>\n",
       "      <th>StoreID_332</th>\n",
       "      <th>PLU_12216</th>\n",
       "      <th>...</th>\n",
       "      <th>Month_2</th>\n",
       "      <th>Month_3</th>\n",
       "      <th>Month_4</th>\n",
       "      <th>Month_5</th>\n",
       "      <th>Month_6</th>\n",
       "      <th>Month_7</th>\n",
       "      <th>Month_8</th>\n",
       "      <th>Month_9</th>\n",
       "      <th>Year_2019</th>\n",
       "      <th>Year_2020</th>\n",
       "    </tr>\n",
       "  </thead>\n",
       "  <tbody>\n",
       "    <tr>\n",
       "      <th>39461</th>\n",
       "      <td>4.0</td>\n",
       "      <td>1.0</td>\n",
       "      <td>4.0</td>\n",
       "      <td>9.0</td>\n",
       "      <td>0.0</td>\n",
       "      <td>0.000000</td>\n",
       "      <td>0.0</td>\n",
       "      <td>1.0</td>\n",
       "      <td>0.0</td>\n",
       "      <td>0.0</td>\n",
       "      <td>...</td>\n",
       "      <td>0.0</td>\n",
       "      <td>0.0</td>\n",
       "      <td>0.0</td>\n",
       "      <td>0.0</td>\n",
       "      <td>1.0</td>\n",
       "      <td>0.0</td>\n",
       "      <td>0.0</td>\n",
       "      <td>0.0</td>\n",
       "      <td>1.0</td>\n",
       "      <td>0.0</td>\n",
       "    </tr>\n",
       "    <tr>\n",
       "      <th>39462</th>\n",
       "      <td>2.0</td>\n",
       "      <td>1.0</td>\n",
       "      <td>0.0</td>\n",
       "      <td>7.0</td>\n",
       "      <td>1.0</td>\n",
       "      <td>2.563950</td>\n",
       "      <td>0.0</td>\n",
       "      <td>1.0</td>\n",
       "      <td>0.0</td>\n",
       "      <td>0.0</td>\n",
       "      <td>...</td>\n",
       "      <td>0.0</td>\n",
       "      <td>0.0</td>\n",
       "      <td>0.0</td>\n",
       "      <td>0.0</td>\n",
       "      <td>1.0</td>\n",
       "      <td>0.0</td>\n",
       "      <td>0.0</td>\n",
       "      <td>0.0</td>\n",
       "      <td>1.0</td>\n",
       "      <td>0.0</td>\n",
       "    </tr>\n",
       "    <tr>\n",
       "      <th>39463</th>\n",
       "      <td>6.0</td>\n",
       "      <td>0.0</td>\n",
       "      <td>8.0</td>\n",
       "      <td>0.0</td>\n",
       "      <td>0.0</td>\n",
       "      <td>0.000000</td>\n",
       "      <td>0.0</td>\n",
       "      <td>1.0</td>\n",
       "      <td>0.0</td>\n",
       "      <td>0.0</td>\n",
       "      <td>...</td>\n",
       "      <td>0.0</td>\n",
       "      <td>0.0</td>\n",
       "      <td>0.0</td>\n",
       "      <td>0.0</td>\n",
       "      <td>1.0</td>\n",
       "      <td>0.0</td>\n",
       "      <td>0.0</td>\n",
       "      <td>0.0</td>\n",
       "      <td>1.0</td>\n",
       "      <td>0.0</td>\n",
       "    </tr>\n",
       "    <tr>\n",
       "      <th>39464</th>\n",
       "      <td>0.0</td>\n",
       "      <td>0.0</td>\n",
       "      <td>3.0</td>\n",
       "      <td>0.0</td>\n",
       "      <td>0.0</td>\n",
       "      <td>0.000000</td>\n",
       "      <td>0.0</td>\n",
       "      <td>1.0</td>\n",
       "      <td>0.0</td>\n",
       "      <td>1.0</td>\n",
       "      <td>...</td>\n",
       "      <td>0.0</td>\n",
       "      <td>0.0</td>\n",
       "      <td>0.0</td>\n",
       "      <td>0.0</td>\n",
       "      <td>1.0</td>\n",
       "      <td>0.0</td>\n",
       "      <td>0.0</td>\n",
       "      <td>0.0</td>\n",
       "      <td>1.0</td>\n",
       "      <td>0.0</td>\n",
       "    </tr>\n",
       "    <tr>\n",
       "      <th>39465</th>\n",
       "      <td>4.0</td>\n",
       "      <td>3.0</td>\n",
       "      <td>4.0</td>\n",
       "      <td>16.0</td>\n",
       "      <td>0.0</td>\n",
       "      <td>0.000000</td>\n",
       "      <td>0.0</td>\n",
       "      <td>1.0</td>\n",
       "      <td>0.0</td>\n",
       "      <td>0.0</td>\n",
       "      <td>...</td>\n",
       "      <td>0.0</td>\n",
       "      <td>0.0</td>\n",
       "      <td>0.0</td>\n",
       "      <td>0.0</td>\n",
       "      <td>1.0</td>\n",
       "      <td>0.0</td>\n",
       "      <td>0.0</td>\n",
       "      <td>0.0</td>\n",
       "      <td>1.0</td>\n",
       "      <td>0.0</td>\n",
       "    </tr>\n",
       "    <tr>\n",
       "      <th>...</th>\n",
       "      <td>...</td>\n",
       "      <td>...</td>\n",
       "      <td>...</td>\n",
       "      <td>...</td>\n",
       "      <td>...</td>\n",
       "      <td>...</td>\n",
       "      <td>...</td>\n",
       "      <td>...</td>\n",
       "      <td>...</td>\n",
       "      <td>...</td>\n",
       "      <td>...</td>\n",
       "      <td>...</td>\n",
       "      <td>...</td>\n",
       "      <td>...</td>\n",
       "      <td>...</td>\n",
       "      <td>...</td>\n",
       "      <td>...</td>\n",
       "      <td>...</td>\n",
       "      <td>...</td>\n",
       "      <td>...</td>\n",
       "      <td>...</td>\n",
       "    </tr>\n",
       "    <tr>\n",
       "      <th>998044</th>\n",
       "      <td>0.0</td>\n",
       "      <td>15.0</td>\n",
       "      <td>5.0</td>\n",
       "      <td>14.0</td>\n",
       "      <td>0.0</td>\n",
       "      <td>0.000000</td>\n",
       "      <td>0.0</td>\n",
       "      <td>0.0</td>\n",
       "      <td>1.0</td>\n",
       "      <td>0.0</td>\n",
       "      <td>...</td>\n",
       "      <td>0.0</td>\n",
       "      <td>0.0</td>\n",
       "      <td>0.0</td>\n",
       "      <td>0.0</td>\n",
       "      <td>1.0</td>\n",
       "      <td>0.0</td>\n",
       "      <td>0.0</td>\n",
       "      <td>0.0</td>\n",
       "      <td>0.0</td>\n",
       "      <td>1.0</td>\n",
       "    </tr>\n",
       "    <tr>\n",
       "      <th>998045</th>\n",
       "      <td>0.0</td>\n",
       "      <td>2.0</td>\n",
       "      <td>1.0</td>\n",
       "      <td>13.0</td>\n",
       "      <td>0.0</td>\n",
       "      <td>0.000000</td>\n",
       "      <td>0.0</td>\n",
       "      <td>0.0</td>\n",
       "      <td>1.0</td>\n",
       "      <td>0.0</td>\n",
       "      <td>...</td>\n",
       "      <td>0.0</td>\n",
       "      <td>0.0</td>\n",
       "      <td>0.0</td>\n",
       "      <td>0.0</td>\n",
       "      <td>1.0</td>\n",
       "      <td>0.0</td>\n",
       "      <td>0.0</td>\n",
       "      <td>0.0</td>\n",
       "      <td>0.0</td>\n",
       "      <td>1.0</td>\n",
       "    </tr>\n",
       "    <tr>\n",
       "      <th>998046</th>\n",
       "      <td>0.0</td>\n",
       "      <td>10.0</td>\n",
       "      <td>5.0</td>\n",
       "      <td>18.0</td>\n",
       "      <td>0.0</td>\n",
       "      <td>0.000000</td>\n",
       "      <td>0.0</td>\n",
       "      <td>0.0</td>\n",
       "      <td>1.0</td>\n",
       "      <td>0.0</td>\n",
       "      <td>...</td>\n",
       "      <td>0.0</td>\n",
       "      <td>0.0</td>\n",
       "      <td>0.0</td>\n",
       "      <td>0.0</td>\n",
       "      <td>1.0</td>\n",
       "      <td>0.0</td>\n",
       "      <td>0.0</td>\n",
       "      <td>0.0</td>\n",
       "      <td>0.0</td>\n",
       "      <td>1.0</td>\n",
       "    </tr>\n",
       "    <tr>\n",
       "      <th>998047</th>\n",
       "      <td>0.0</td>\n",
       "      <td>4.0</td>\n",
       "      <td>0.0</td>\n",
       "      <td>13.0</td>\n",
       "      <td>1.0</td>\n",
       "      <td>3.282873</td>\n",
       "      <td>0.0</td>\n",
       "      <td>0.0</td>\n",
       "      <td>1.0</td>\n",
       "      <td>0.0</td>\n",
       "      <td>...</td>\n",
       "      <td>0.0</td>\n",
       "      <td>0.0</td>\n",
       "      <td>0.0</td>\n",
       "      <td>0.0</td>\n",
       "      <td>1.0</td>\n",
       "      <td>0.0</td>\n",
       "      <td>0.0</td>\n",
       "      <td>0.0</td>\n",
       "      <td>0.0</td>\n",
       "      <td>1.0</td>\n",
       "    </tr>\n",
       "    <tr>\n",
       "      <th>998048</th>\n",
       "      <td>0.0</td>\n",
       "      <td>5.0</td>\n",
       "      <td>8.0</td>\n",
       "      <td>10.0</td>\n",
       "      <td>0.0</td>\n",
       "      <td>0.000000</td>\n",
       "      <td>0.0</td>\n",
       "      <td>0.0</td>\n",
       "      <td>1.0</td>\n",
       "      <td>0.0</td>\n",
       "      <td>...</td>\n",
       "      <td>0.0</td>\n",
       "      <td>0.0</td>\n",
       "      <td>0.0</td>\n",
       "      <td>0.0</td>\n",
       "      <td>1.0</td>\n",
       "      <td>0.0</td>\n",
       "      <td>0.0</td>\n",
       "      <td>0.0</td>\n",
       "      <td>0.0</td>\n",
       "      <td>1.0</td>\n",
       "    </tr>\n",
       "  </tbody>\n",
       "</table>\n",
       "<p>31056 rows × 68 columns</p>\n",
       "</div>"
      ],
      "text/plain": [
       "        ReceivedQuantity  SoldQuantity  EndQuantity  LatestOrder  StockedOut  \\\n",
       "39461                4.0           1.0          4.0          9.0         0.0   \n",
       "39462                2.0           1.0          0.0          7.0         1.0   \n",
       "39463                6.0           0.0          8.0          0.0         0.0   \n",
       "39464                0.0           0.0          3.0          0.0         0.0   \n",
       "39465                4.0           3.0          4.0         16.0         0.0   \n",
       "...                  ...           ...          ...          ...         ...   \n",
       "998044               0.0          15.0          5.0         14.0         0.0   \n",
       "998045               0.0           2.0          1.0         13.0         0.0   \n",
       "998046               0.0          10.0          5.0         18.0         0.0   \n",
       "998047               0.0           4.0          0.0         13.0         1.0   \n",
       "998048               0.0           5.0          8.0         10.0         0.0   \n",
       "\n",
       "        MissedSales  StoreID_117  StoreID_18  StoreID_332  PLU_12216  ...  \\\n",
       "39461      0.000000          0.0         1.0          0.0        0.0  ...   \n",
       "39462      2.563950          0.0         1.0          0.0        0.0  ...   \n",
       "39463      0.000000          0.0         1.0          0.0        0.0  ...   \n",
       "39464      0.000000          0.0         1.0          0.0        1.0  ...   \n",
       "39465      0.000000          0.0         1.0          0.0        0.0  ...   \n",
       "...             ...          ...         ...          ...        ...  ...   \n",
       "998044     0.000000          0.0         0.0          1.0        0.0  ...   \n",
       "998045     0.000000          0.0         0.0          1.0        0.0  ...   \n",
       "998046     0.000000          0.0         0.0          1.0        0.0  ...   \n",
       "998047     3.282873          0.0         0.0          1.0        0.0  ...   \n",
       "998048     0.000000          0.0         0.0          1.0        0.0  ...   \n",
       "\n",
       "        Month_2  Month_3  Month_4  Month_5  Month_6  Month_7  Month_8  \\\n",
       "39461       0.0      0.0      0.0      0.0      1.0      0.0      0.0   \n",
       "39462       0.0      0.0      0.0      0.0      1.0      0.0      0.0   \n",
       "39463       0.0      0.0      0.0      0.0      1.0      0.0      0.0   \n",
       "39464       0.0      0.0      0.0      0.0      1.0      0.0      0.0   \n",
       "39465       0.0      0.0      0.0      0.0      1.0      0.0      0.0   \n",
       "...         ...      ...      ...      ...      ...      ...      ...   \n",
       "998044      0.0      0.0      0.0      0.0      1.0      0.0      0.0   \n",
       "998045      0.0      0.0      0.0      0.0      1.0      0.0      0.0   \n",
       "998046      0.0      0.0      0.0      0.0      1.0      0.0      0.0   \n",
       "998047      0.0      0.0      0.0      0.0      1.0      0.0      0.0   \n",
       "998048      0.0      0.0      0.0      0.0      1.0      0.0      0.0   \n",
       "\n",
       "        Month_9  Year_2019  Year_2020  \n",
       "39461       0.0        1.0        0.0  \n",
       "39462       0.0        1.0        0.0  \n",
       "39463       0.0        1.0        0.0  \n",
       "39464       0.0        1.0        0.0  \n",
       "39465       0.0        1.0        0.0  \n",
       "...         ...        ...        ...  \n",
       "998044      0.0        0.0        1.0  \n",
       "998045      0.0        0.0        1.0  \n",
       "998046      0.0        0.0        1.0  \n",
       "998047      0.0        0.0        1.0  \n",
       "998048      0.0        0.0        1.0  \n",
       "\n",
       "[31056 rows x 68 columns]"
      ]
     },
     "execution_count": 931,
     "metadata": {},
     "output_type": "execute_result"
    }
   ],
   "source": [
    "data_temp"
   ]
  },
  {
   "cell_type": "code",
   "execution_count": null,
   "id": "c3ee96bd",
   "metadata": {},
   "outputs": [],
   "source": []
  }
 ],
 "metadata": {
  "kernelspec": {
   "display_name": "Python 3 (ipykernel)",
   "language": "python",
   "name": "python3"
  },
  "language_info": {
   "codemirror_mode": {
    "name": "ipython",
    "version": 3
   },
   "file_extension": ".py",
   "mimetype": "text/x-python",
   "name": "python",
   "nbconvert_exporter": "python",
   "pygments_lexer": "ipython3",
   "version": "3.10.0"
  }
 },
 "nbformat": 4,
 "nbformat_minor": 5
}
