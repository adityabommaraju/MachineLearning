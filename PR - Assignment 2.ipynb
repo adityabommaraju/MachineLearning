{
 "cells": [
  {
   "cell_type": "code",
   "execution_count": 427,
   "id": "7ab0de4b",
   "metadata": {},
   "outputs": [],
   "source": [
    "import numpy as np\n",
    "import pandas as pd\n",
    "from sklearn.preprocessing import MinMaxScaler\n",
    "import seaborn as sns\n",
    "import matplotlib.pyplot as plt\n",
    "pd.set_option('display.float_format', lambda x: '%.3f' % x)"
   ]
  },
  {
   "cell_type": "code",
   "execution_count": 428,
   "id": "4af9743f",
   "metadata": {},
   "outputs": [],
   "source": [
    "df = pd.read_csv(\"cereal.csv\",sep=\";\")"
   ]
  },
  {
   "cell_type": "code",
   "execution_count": 429,
   "id": "d713f111",
   "metadata": {},
   "outputs": [
    {
     "data": {
      "text/html": [
       "<div>\n",
       "<style scoped>\n",
       "    .dataframe tbody tr th:only-of-type {\n",
       "        vertical-align: middle;\n",
       "    }\n",
       "\n",
       "    .dataframe tbody tr th {\n",
       "        vertical-align: top;\n",
       "    }\n",
       "\n",
       "    .dataframe thead th {\n",
       "        text-align: right;\n",
       "    }\n",
       "</style>\n",
       "<table border=\"1\" class=\"dataframe\">\n",
       "  <thead>\n",
       "    <tr style=\"text-align: right;\">\n",
       "      <th></th>\n",
       "      <th>name</th>\n",
       "      <th>mfr</th>\n",
       "      <th>type</th>\n",
       "      <th>calories</th>\n",
       "      <th>protein</th>\n",
       "      <th>fat</th>\n",
       "      <th>sodium</th>\n",
       "      <th>fiber</th>\n",
       "      <th>carbo</th>\n",
       "      <th>sugars</th>\n",
       "      <th>potass</th>\n",
       "      <th>vitamins</th>\n",
       "      <th>shelf</th>\n",
       "      <th>weight</th>\n",
       "      <th>cups</th>\n",
       "      <th>rating</th>\n",
       "    </tr>\n",
       "  </thead>\n",
       "  <tbody>\n",
       "    <tr>\n",
       "      <th>0</th>\n",
       "      <td>String</td>\n",
       "      <td>Categorical</td>\n",
       "      <td>Categorical</td>\n",
       "      <td>Int</td>\n",
       "      <td>Int</td>\n",
       "      <td>Int</td>\n",
       "      <td>Int</td>\n",
       "      <td>Float</td>\n",
       "      <td>Float</td>\n",
       "      <td>Int</td>\n",
       "      <td>Int</td>\n",
       "      <td>Int</td>\n",
       "      <td>Int</td>\n",
       "      <td>Float</td>\n",
       "      <td>Float</td>\n",
       "      <td>Float</td>\n",
       "    </tr>\n",
       "    <tr>\n",
       "      <th>1</th>\n",
       "      <td>100% Bran</td>\n",
       "      <td>N</td>\n",
       "      <td>C</td>\n",
       "      <td>70</td>\n",
       "      <td>4</td>\n",
       "      <td>1</td>\n",
       "      <td>130</td>\n",
       "      <td>10</td>\n",
       "      <td>5</td>\n",
       "      <td>6</td>\n",
       "      <td>280</td>\n",
       "      <td>25</td>\n",
       "      <td>3</td>\n",
       "      <td>1</td>\n",
       "      <td>0.33</td>\n",
       "      <td>68.402973</td>\n",
       "    </tr>\n",
       "    <tr>\n",
       "      <th>2</th>\n",
       "      <td>100% Natural Bran</td>\n",
       "      <td>Q</td>\n",
       "      <td>C</td>\n",
       "      <td>120</td>\n",
       "      <td>3</td>\n",
       "      <td>5</td>\n",
       "      <td>15</td>\n",
       "      <td>2</td>\n",
       "      <td>8</td>\n",
       "      <td>8</td>\n",
       "      <td>135</td>\n",
       "      <td>0</td>\n",
       "      <td>3</td>\n",
       "      <td>1</td>\n",
       "      <td>1</td>\n",
       "      <td>33.983679</td>\n",
       "    </tr>\n",
       "    <tr>\n",
       "      <th>3</th>\n",
       "      <td>All-Bran</td>\n",
       "      <td>K</td>\n",
       "      <td>C</td>\n",
       "      <td>70</td>\n",
       "      <td>4</td>\n",
       "      <td>1</td>\n",
       "      <td>260</td>\n",
       "      <td>9</td>\n",
       "      <td>7</td>\n",
       "      <td>5</td>\n",
       "      <td>320</td>\n",
       "      <td>25</td>\n",
       "      <td>3</td>\n",
       "      <td>1</td>\n",
       "      <td>0.33</td>\n",
       "      <td>59.425505</td>\n",
       "    </tr>\n",
       "    <tr>\n",
       "      <th>4</th>\n",
       "      <td>All-Bran with Extra Fiber</td>\n",
       "      <td>K</td>\n",
       "      <td>C</td>\n",
       "      <td>50</td>\n",
       "      <td>4</td>\n",
       "      <td>0</td>\n",
       "      <td>140</td>\n",
       "      <td>14</td>\n",
       "      <td>8</td>\n",
       "      <td>0</td>\n",
       "      <td>330</td>\n",
       "      <td>25</td>\n",
       "      <td>3</td>\n",
       "      <td>1</td>\n",
       "      <td>0.5</td>\n",
       "      <td>93.704912</td>\n",
       "    </tr>\n",
       "  </tbody>\n",
       "</table>\n",
       "</div>"
      ],
      "text/plain": [
       "                        name          mfr         type calories protein  fat  \\\n",
       "0                     String  Categorical  Categorical      Int     Int  Int   \n",
       "1                  100% Bran            N            C       70       4    1   \n",
       "2          100% Natural Bran            Q            C      120       3    5   \n",
       "3                   All-Bran            K            C       70       4    1   \n",
       "4  All-Bran with Extra Fiber            K            C       50       4    0   \n",
       "\n",
       "  sodium  fiber  carbo sugars potass vitamins shelf weight   cups     rating  \n",
       "0    Int  Float  Float    Int    Int      Int   Int  Float  Float      Float  \n",
       "1    130     10      5      6    280       25     3      1   0.33  68.402973  \n",
       "2     15      2      8      8    135        0     3      1      1  33.983679  \n",
       "3    260      9      7      5    320       25     3      1   0.33  59.425505  \n",
       "4    140     14      8      0    330       25     3      1    0.5  93.704912  "
      ]
     },
     "execution_count": 429,
     "metadata": {},
     "output_type": "execute_result"
    }
   ],
   "source": [
    "df.head()"
   ]
  },
  {
   "cell_type": "code",
   "execution_count": 430,
   "id": "cb68b429",
   "metadata": {},
   "outputs": [],
   "source": [
    "df = df.iloc[1:]\n",
    "df.drop([\"name\"],axis=1,inplace=True)"
   ]
  },
  {
   "cell_type": "code",
   "execution_count": 431,
   "id": "345632f7",
   "metadata": {},
   "outputs": [
    {
     "data": {
      "text/html": [
       "<div>\n",
       "<style scoped>\n",
       "    .dataframe tbody tr th:only-of-type {\n",
       "        vertical-align: middle;\n",
       "    }\n",
       "\n",
       "    .dataframe tbody tr th {\n",
       "        vertical-align: top;\n",
       "    }\n",
       "\n",
       "    .dataframe thead th {\n",
       "        text-align: right;\n",
       "    }\n",
       "</style>\n",
       "<table border=\"1\" class=\"dataframe\">\n",
       "  <thead>\n",
       "    <tr style=\"text-align: right;\">\n",
       "      <th></th>\n",
       "      <th>mfr</th>\n",
       "      <th>type</th>\n",
       "      <th>calories</th>\n",
       "      <th>protein</th>\n",
       "      <th>fat</th>\n",
       "      <th>sodium</th>\n",
       "      <th>fiber</th>\n",
       "      <th>carbo</th>\n",
       "      <th>sugars</th>\n",
       "      <th>potass</th>\n",
       "      <th>vitamins</th>\n",
       "      <th>shelf</th>\n",
       "      <th>weight</th>\n",
       "      <th>cups</th>\n",
       "      <th>rating</th>\n",
       "    </tr>\n",
       "  </thead>\n",
       "  <tbody>\n",
       "    <tr>\n",
       "      <th>1</th>\n",
       "      <td>N</td>\n",
       "      <td>C</td>\n",
       "      <td>70</td>\n",
       "      <td>4</td>\n",
       "      <td>1</td>\n",
       "      <td>130</td>\n",
       "      <td>10</td>\n",
       "      <td>5</td>\n",
       "      <td>6</td>\n",
       "      <td>280</td>\n",
       "      <td>25</td>\n",
       "      <td>3</td>\n",
       "      <td>1</td>\n",
       "      <td>0.33</td>\n",
       "      <td>68.402973</td>\n",
       "    </tr>\n",
       "    <tr>\n",
       "      <th>2</th>\n",
       "      <td>Q</td>\n",
       "      <td>C</td>\n",
       "      <td>120</td>\n",
       "      <td>3</td>\n",
       "      <td>5</td>\n",
       "      <td>15</td>\n",
       "      <td>2</td>\n",
       "      <td>8</td>\n",
       "      <td>8</td>\n",
       "      <td>135</td>\n",
       "      <td>0</td>\n",
       "      <td>3</td>\n",
       "      <td>1</td>\n",
       "      <td>1</td>\n",
       "      <td>33.983679</td>\n",
       "    </tr>\n",
       "    <tr>\n",
       "      <th>3</th>\n",
       "      <td>K</td>\n",
       "      <td>C</td>\n",
       "      <td>70</td>\n",
       "      <td>4</td>\n",
       "      <td>1</td>\n",
       "      <td>260</td>\n",
       "      <td>9</td>\n",
       "      <td>7</td>\n",
       "      <td>5</td>\n",
       "      <td>320</td>\n",
       "      <td>25</td>\n",
       "      <td>3</td>\n",
       "      <td>1</td>\n",
       "      <td>0.33</td>\n",
       "      <td>59.425505</td>\n",
       "    </tr>\n",
       "    <tr>\n",
       "      <th>4</th>\n",
       "      <td>K</td>\n",
       "      <td>C</td>\n",
       "      <td>50</td>\n",
       "      <td>4</td>\n",
       "      <td>0</td>\n",
       "      <td>140</td>\n",
       "      <td>14</td>\n",
       "      <td>8</td>\n",
       "      <td>0</td>\n",
       "      <td>330</td>\n",
       "      <td>25</td>\n",
       "      <td>3</td>\n",
       "      <td>1</td>\n",
       "      <td>0.5</td>\n",
       "      <td>93.704912</td>\n",
       "    </tr>\n",
       "    <tr>\n",
       "      <th>5</th>\n",
       "      <td>R</td>\n",
       "      <td>C</td>\n",
       "      <td>110</td>\n",
       "      <td>2</td>\n",
       "      <td>2</td>\n",
       "      <td>200</td>\n",
       "      <td>1</td>\n",
       "      <td>14</td>\n",
       "      <td>8</td>\n",
       "      <td>-1</td>\n",
       "      <td>25</td>\n",
       "      <td>3</td>\n",
       "      <td>1</td>\n",
       "      <td>0.75</td>\n",
       "      <td>34.384843</td>\n",
       "    </tr>\n",
       "  </tbody>\n",
       "</table>\n",
       "</div>"
      ],
      "text/plain": [
       "  mfr type calories protein fat sodium fiber carbo sugars potass vitamins  \\\n",
       "1   N    C       70       4   1    130    10     5      6    280       25   \n",
       "2   Q    C      120       3   5     15     2     8      8    135        0   \n",
       "3   K    C       70       4   1    260     9     7      5    320       25   \n",
       "4   K    C       50       4   0    140    14     8      0    330       25   \n",
       "5   R    C      110       2   2    200     1    14      8     -1       25   \n",
       "\n",
       "  shelf weight  cups     rating  \n",
       "1     3      1  0.33  68.402973  \n",
       "2     3      1     1  33.983679  \n",
       "3     3      1  0.33  59.425505  \n",
       "4     3      1   0.5  93.704912  \n",
       "5     3      1  0.75  34.384843  "
      ]
     },
     "execution_count": 431,
     "metadata": {},
     "output_type": "execute_result"
    }
   ],
   "source": [
    "df.head()"
   ]
  },
  {
   "cell_type": "code",
   "execution_count": 460,
   "id": "3ff408af",
   "metadata": {},
   "outputs": [
    {
     "data": {
      "text/html": [
       "<div>\n",
       "<style scoped>\n",
       "    .dataframe tbody tr th:only-of-type {\n",
       "        vertical-align: middle;\n",
       "    }\n",
       "\n",
       "    .dataframe tbody tr th {\n",
       "        vertical-align: top;\n",
       "    }\n",
       "\n",
       "    .dataframe thead th {\n",
       "        text-align: right;\n",
       "    }\n",
       "</style>\n",
       "<table border=\"1\" class=\"dataframe\">\n",
       "  <thead>\n",
       "    <tr style=\"text-align: right;\">\n",
       "      <th></th>\n",
       "      <th>calories</th>\n",
       "      <th>protein</th>\n",
       "      <th>fat</th>\n",
       "      <th>sodium</th>\n",
       "      <th>fiber</th>\n",
       "      <th>carbo</th>\n",
       "      <th>sugars</th>\n",
       "      <th>potass</th>\n",
       "      <th>vitamins</th>\n",
       "      <th>shelf</th>\n",
       "      <th>...</th>\n",
       "      <th>sodium2</th>\n",
       "      <th>mfr_A</th>\n",
       "      <th>mfr_G</th>\n",
       "      <th>mfr_K</th>\n",
       "      <th>mfr_N</th>\n",
       "      <th>mfr_P</th>\n",
       "      <th>mfr_Q</th>\n",
       "      <th>mfr_R</th>\n",
       "      <th>type_C</th>\n",
       "      <th>type_H</th>\n",
       "    </tr>\n",
       "  </thead>\n",
       "  <tbody>\n",
       "    <tr>\n",
       "      <th>1</th>\n",
       "      <td>70.000</td>\n",
       "      <td>4.000</td>\n",
       "      <td>1.000</td>\n",
       "      <td>130.000</td>\n",
       "      <td>10.000</td>\n",
       "      <td>5.000</td>\n",
       "      <td>6.000</td>\n",
       "      <td>280.000</td>\n",
       "      <td>25.000</td>\n",
       "      <td>3.000</td>\n",
       "      <td>...</td>\n",
       "      <td>257.999</td>\n",
       "      <td>0</td>\n",
       "      <td>0</td>\n",
       "      <td>0</td>\n",
       "      <td>1</td>\n",
       "      <td>0</td>\n",
       "      <td>0</td>\n",
       "      <td>0</td>\n",
       "      <td>1</td>\n",
       "      <td>0</td>\n",
       "    </tr>\n",
       "    <tr>\n",
       "      <th>2</th>\n",
       "      <td>120.000</td>\n",
       "      <td>3.000</td>\n",
       "      <td>5.000</td>\n",
       "      <td>15.000</td>\n",
       "      <td>2.000</td>\n",
       "      <td>8.000</td>\n",
       "      <td>8.000</td>\n",
       "      <td>135.000</td>\n",
       "      <td>0.000</td>\n",
       "      <td>3.000</td>\n",
       "      <td>...</td>\n",
       "      <td>27.347</td>\n",
       "      <td>0</td>\n",
       "      <td>0</td>\n",
       "      <td>0</td>\n",
       "      <td>0</td>\n",
       "      <td>0</td>\n",
       "      <td>1</td>\n",
       "      <td>0</td>\n",
       "      <td>1</td>\n",
       "      <td>0</td>\n",
       "    </tr>\n",
       "    <tr>\n",
       "      <th>3</th>\n",
       "      <td>70.000</td>\n",
       "      <td>4.000</td>\n",
       "      <td>1.000</td>\n",
       "      <td>260.000</td>\n",
       "      <td>9.000</td>\n",
       "      <td>7.000</td>\n",
       "      <td>5.000</td>\n",
       "      <td>320.000</td>\n",
       "      <td>25.000</td>\n",
       "      <td>3.000</td>\n",
       "      <td>...</td>\n",
       "      <td>520.468</td>\n",
       "      <td>0</td>\n",
       "      <td>0</td>\n",
       "      <td>1</td>\n",
       "      <td>0</td>\n",
       "      <td>0</td>\n",
       "      <td>0</td>\n",
       "      <td>0</td>\n",
       "      <td>1</td>\n",
       "      <td>0</td>\n",
       "    </tr>\n",
       "    <tr>\n",
       "      <th>4</th>\n",
       "      <td>50.000</td>\n",
       "      <td>4.000</td>\n",
       "      <td>0.000</td>\n",
       "      <td>140.000</td>\n",
       "      <td>14.000</td>\n",
       "      <td>8.000</td>\n",
       "      <td>0.000</td>\n",
       "      <td>330.000</td>\n",
       "      <td>25.000</td>\n",
       "      <td>3.000</td>\n",
       "      <td>...</td>\n",
       "      <td>280.786</td>\n",
       "      <td>0</td>\n",
       "      <td>0</td>\n",
       "      <td>1</td>\n",
       "      <td>0</td>\n",
       "      <td>0</td>\n",
       "      <td>0</td>\n",
       "      <td>0</td>\n",
       "      <td>1</td>\n",
       "      <td>0</td>\n",
       "    </tr>\n",
       "    <tr>\n",
       "      <th>5</th>\n",
       "      <td>110.000</td>\n",
       "      <td>2.000</td>\n",
       "      <td>2.000</td>\n",
       "      <td>200.000</td>\n",
       "      <td>1.000</td>\n",
       "      <td>14.000</td>\n",
       "      <td>8.000</td>\n",
       "      <td>-1.000</td>\n",
       "      <td>25.000</td>\n",
       "      <td>3.000</td>\n",
       "      <td>...</td>\n",
       "      <td>399.224</td>\n",
       "      <td>0</td>\n",
       "      <td>0</td>\n",
       "      <td>0</td>\n",
       "      <td>0</td>\n",
       "      <td>0</td>\n",
       "      <td>0</td>\n",
       "      <td>1</td>\n",
       "      <td>1</td>\n",
       "      <td>0</td>\n",
       "    </tr>\n",
       "  </tbody>\n",
       "</table>\n",
       "<p>5 rows × 23 columns</p>\n",
       "</div>"
      ],
      "text/plain": [
       "   calories  protein   fat  sodium  fiber  carbo  sugars  potass  vitamins  \\\n",
       "1    70.000    4.000 1.000 130.000 10.000  5.000   6.000 280.000    25.000   \n",
       "2   120.000    3.000 5.000  15.000  2.000  8.000   8.000 135.000     0.000   \n",
       "3    70.000    4.000 1.000 260.000  9.000  7.000   5.000 320.000    25.000   \n",
       "4    50.000    4.000 0.000 140.000 14.000  8.000   0.000 330.000    25.000   \n",
       "5   110.000    2.000 2.000 200.000  1.000 14.000   8.000  -1.000    25.000   \n",
       "\n",
       "   shelf  ...  sodium2  mfr_A  mfr_G  mfr_K  mfr_N  mfr_P  mfr_Q  mfr_R  \\\n",
       "1  3.000  ...  257.999      0      0      0      1      0      0      0   \n",
       "2  3.000  ...   27.347      0      0      0      0      0      1      0   \n",
       "3  3.000  ...  520.468      0      0      1      0      0      0      0   \n",
       "4  3.000  ...  280.786      0      0      1      0      0      0      0   \n",
       "5  3.000  ...  399.224      0      0      0      0      0      0      1   \n",
       "\n",
       "   type_C  type_H  \n",
       "1       1       0  \n",
       "2       1       0  \n",
       "3       1       0  \n",
       "4       1       0  \n",
       "5       1       0  \n",
       "\n",
       "[5 rows x 23 columns]"
      ]
     },
     "execution_count": 460,
     "metadata": {},
     "output_type": "execute_result"
    }
   ],
   "source": [
    "df = df.astype({'calories':'float', 'protein':'float', 'fat':'float', 'sodium':'float', 'fiber':'float', 'carbo':'float',\n",
    "       'sugars':'float', 'potass':'float', 'vitamins':'float', 'shelf':'float', 'weight':'float', 'cups':'float', 'rating':'float'})\n",
    "df.head()"
   ]
  },
  {
   "cell_type": "code",
   "execution_count": 433,
   "id": "be564de3",
   "metadata": {},
   "outputs": [],
   "source": [
    "df['sodium2'] = df['sodium'].apply(lambda x:float(x*2) + np.random.normal(0,5,1))\n",
    "df['sodium2'] = df['sodium2'].astype(\"float\")"
   ]
  },
  {
   "cell_type": "code",
   "execution_count": 434,
   "id": "0473992f",
   "metadata": {},
   "outputs": [
    {
     "data": {
      "text/plain": [
       "Index(['mfr', 'type', 'calories', 'protein', 'fat', 'sodium', 'fiber', 'carbo',\n",
       "       'sugars', 'potass', 'vitamins', 'shelf', 'weight', 'cups', 'rating',\n",
       "       'sodium2'],\n",
       "      dtype='object')"
      ]
     },
     "execution_count": 434,
     "metadata": {},
     "output_type": "execute_result"
    }
   ],
   "source": [
    "columns = df.columns\n",
    "columns"
   ]
  },
  {
   "cell_type": "code",
   "execution_count": 435,
   "id": "38378c6f",
   "metadata": {},
   "outputs": [],
   "source": [
    "df = pd.get_dummies(df, columns=['mfr','type'])\n",
    "df.dropna(inplace=True)"
   ]
  },
  {
   "cell_type": "code",
   "execution_count": 436,
   "id": "8f6750b8",
   "metadata": {},
   "outputs": [],
   "source": [
    "X = df.drop([\"rating\"],axis=1,inplace=False)\n",
    "y = df[[\"rating\"]]"
   ]
  },
  {
   "cell_type": "code",
   "execution_count": 437,
   "id": "886990d0",
   "metadata": {},
   "outputs": [],
   "source": [
    "from sklearn.preprocessing import MinMaxScaler\n",
    "\n",
    "scaler = MinMaxScaler()\n",
    "\n",
    "X[['calories', 'protein', 'fat', 'sodium','sodium2','fiber', 'carbo', 'sugars',\n",
    "       'potass', 'vitamins', 'shelf', 'weight', 'cups',\n",
    "       'mfr_G', 'mfr_K', 'mfr_N', 'mfr_P', 'mfr_Q', 'mfr_R', 'type_C',\n",
    "       'type_H']] = scaler.fit_transform(\n",
    "    X[['calories', 'protein', 'fat', 'sodium','sodium2','fiber', 'carbo', 'sugars',\n",
    "       'potass', 'vitamins', 'shelf', 'weight', 'cups',\n",
    "       'mfr_G', 'mfr_K', 'mfr_N', 'mfr_P', 'mfr_Q', 'mfr_R', 'type_C',\n",
    "       'type_H']])"
   ]
  },
  {
   "cell_type": "code",
   "execution_count": 336,
   "id": "0b10fd2b",
   "metadata": {},
   "outputs": [
    {
     "data": {
      "text/plain": [
       "(77, 22)"
      ]
     },
     "execution_count": 336,
     "metadata": {},
     "output_type": "execute_result"
    }
   ],
   "source": [
    "X.shape"
   ]
  },
  {
   "cell_type": "code",
   "execution_count": 337,
   "id": "0d71a053",
   "metadata": {},
   "outputs": [],
   "source": [
    "from sklearn.model_selection import train_test_split\n",
    "\n",
    "X_train, X_test, y_train, y_test = train_test_split(X, y, test_size=0.20, random_state=1)"
   ]
  },
  {
   "cell_type": "code",
   "execution_count": 338,
   "id": "efb595b5",
   "metadata": {},
   "outputs": [
    {
     "data": {
      "text/plain": [
       "ElasticNet()"
      ]
     },
     "execution_count": 338,
     "metadata": {},
     "output_type": "execute_result"
    }
   ],
   "source": [
    "from sklearn.linear_model import LinearRegression,Lasso,Ridge,ElasticNet\n",
    "\n",
    "linear_model = LinearRegression()\n",
    "lasso_model = Lasso()\n",
    "ridge_model = Ridge()\n",
    "elasticnet_model = ElasticNet()\n",
    "\n",
    "linear_model.fit(X_train,y_train)\n",
    "lasso_model.fit(X_train,y_train)\n",
    "ridge_model.fit(X_train,y_train)\n",
    "elasticnet_model.fit(X_train,y_train)\n"
   ]
  },
  {
   "cell_type": "code",
   "execution_count": 339,
   "id": "5bcc148c",
   "metadata": {},
   "outputs": [
    {
     "data": {
      "text/plain": [
       "0.9999999999999993"
      ]
     },
     "execution_count": 339,
     "metadata": {},
     "output_type": "execute_result"
    }
   ],
   "source": [
    "linear_model.score(X_test,y_test)"
   ]
  },
  {
   "cell_type": "code",
   "execution_count": 340,
   "id": "35b9dc78",
   "metadata": {},
   "outputs": [
    {
     "data": {
      "text/plain": [
       "0.5174355596018481"
      ]
     },
     "execution_count": 340,
     "metadata": {},
     "output_type": "execute_result"
    }
   ],
   "source": [
    "lasso_model.score(X_test,y_test)"
   ]
  },
  {
   "cell_type": "code",
   "execution_count": 341,
   "id": "a2771054",
   "metadata": {},
   "outputs": [
    {
     "data": {
      "text/plain": [
       "0.8853665913978609"
      ]
     },
     "execution_count": 341,
     "metadata": {},
     "output_type": "execute_result"
    }
   ],
   "source": [
    "ridge_model.score(X_test,y_test)"
   ]
  },
  {
   "cell_type": "code",
   "execution_count": 342,
   "id": "0c13f523",
   "metadata": {},
   "outputs": [
    {
     "data": {
      "text/plain": [
       "0.3141443823614669"
      ]
     },
     "execution_count": 342,
     "metadata": {},
     "output_type": "execute_result"
    }
   ],
   "source": [
    "elasticnet_model.score(X_test,y_test)"
   ]
  },
  {
   "cell_type": "code",
   "execution_count": 457,
   "id": "2e9ef209",
   "metadata": {},
   "outputs": [],
   "source": [
    "from sklearn.pipeline import Pipeline\n",
    "\n",
    "ridge_model = GridSearchCV(Ridge(),{'alpha':[0.0001,0.0005,0.005,0.001,0.01,0.05,0.1,0.2,0.5,1]},\n",
    "                         cv=5, scoring='r2')"
   ]
  },
  {
   "cell_type": "code",
   "execution_count": 458,
   "id": "351598a1",
   "metadata": {},
   "outputs": [],
   "source": [
    "ridge_model.fit(X,y)\n",
    "df_score = pd.DataFrame(ridge_model.cv_results_).iloc[:,4:][['param_alpha','mean_test_score']]"
   ]
  },
  {
   "cell_type": "code",
   "execution_count": 459,
   "id": "4fc822cf",
   "metadata": {},
   "outputs": [
    {
     "data": {
      "text/plain": [
       "Text(0, 0.5, 'R2')"
      ]
     },
     "execution_count": 459,
     "metadata": {},
     "output_type": "execute_result"
    },
    {
     "data": {
      "image/png": "[encoded data removed]",
      "text/plain": [
       "<Figure size 432x288 with 1 Axes>"
      ]
     },
     "metadata": {
      "needs_background": "light"
     },
     "output_type": "display_data"
    }
   ],
   "source": [
    "plt.plot(df_score['param_alpha'],df_score['mean_test_score'])\n",
    "plt.xlabel(\"param_alpha\")\n",
    "plt.ylabel(\"R2\")"
   ]
  },
  {
   "cell_type": "markdown",
   "id": "ad63738f",
   "metadata": {},
   "source": [
    "# 3.3 Normal Equations"
   ]
  },
  {
   "cell_type": "code",
   "execution_count": 154,
   "id": "49641972",
   "metadata": {},
   "outputs": [],
   "source": [
    "theta = np.dot(np.linalg.inv(np.dot(X_train, X_train.T)), np.dot(X_train, y_train.T))"
   ]
  },
  {
   "cell_type": "code",
   "execution_count": 155,
   "id": "b0d2b440",
   "metadata": {},
   "outputs": [
    {
     "data": {
      "text/plain": [
       "array([[193273.24739475],\n",
       "       [519310.39717892],\n",
       "       [-54050.25770387]])"
      ]
     },
     "execution_count": 155,
     "metadata": {},
     "output_type": "execute_result"
    }
   ],
   "source": [
    "theta"
   ]
  },
  {
   "cell_type": "code",
   "execution_count": 159,
   "id": "082fcef5",
   "metadata": {},
   "outputs": [
    {
     "data": {
      "text/plain": [
       "array([8.56893278e+08])"
      ]
     },
     "execution_count": 159,
     "metadata": {},
     "output_type": "execute_result"
    }
   ],
   "source": [
    "np.dot(theta.T,np.array([1,1650,3]))"
   ]
  },
  {
   "cell_type": "code",
   "execution_count": null,
   "id": "dc88be31",
   "metadata": {},
   "outputs": [],
   "source": []
  },
  {
   "cell_type": "code",
   "execution_count": null,
   "id": "7e261328",
   "metadata": {},
   "outputs": [],
   "source": [
    "np.random.rand()"
   ]
  }
 ],
 "metadata": {
  "kernelspec": {
   "display_name": "Python 3 (ipykernel)",
   "language": "python",
   "name": "python3"
  },
  "language_info": {
   "codemirror_mode": {
    "name": "ipython",
    "version": 3
   },
   "file_extension": ".py",
   "mimetype": "text/x-python",
   "name": "python",
   "nbconvert_exporter": "python",
   "pygments_lexer": "ipython3",
   "version": "3.10.0"
  }
 },
 "nbformat": 4,
 "nbformat_minor": 5
}
