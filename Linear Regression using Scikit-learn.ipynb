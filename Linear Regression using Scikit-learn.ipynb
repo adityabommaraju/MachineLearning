{
 "cells": [
  {
   "cell_type": "code",
   "execution_count": 214,
   "id": "e7cf188d",
   "metadata": {},
   "outputs": [],
   "source": [
    "import pandas as pd\n",
    "import numpy as np\n",
    "import matplotlib.pyplot as plt\n",
    "from sklearn.preprocessing import MinMaxScaler\n",
    "%matplotlib inline\n",
    "pd.set_option('display.float_format', lambda x: '%.3f' % x)"
   ]
  },
  {
   "cell_type": "code",
   "execution_count": 215,
   "id": "327fa351",
   "metadata": {},
   "outputs": [],
   "source": [
    "df = pd.read_csv('housing.csv')"
   ]
  },
  {
   "cell_type": "code",
   "execution_count": 216,
   "id": "c1cba95a",
   "metadata": {},
   "outputs": [
    {
     "data": {
      "text/html": [
       "<div>\n",
       "<style scoped>\n",
       "    .dataframe tbody tr th:only-of-type {\n",
       "        vertical-align: middle;\n",
       "    }\n",
       "\n",
       "    .dataframe tbody tr th {\n",
       "        vertical-align: top;\n",
       "    }\n",
       "\n",
       "    .dataframe thead th {\n",
       "        text-align: right;\n",
       "    }\n",
       "</style>\n",
       "<table border=\"1\" class=\"dataframe\">\n",
       "  <thead>\n",
       "    <tr style=\"text-align: right;\">\n",
       "      <th></th>\n",
       "      <th>longitude</th>\n",
       "      <th>latitude</th>\n",
       "      <th>housing_median_age</th>\n",
       "      <th>total_rooms</th>\n",
       "      <th>total_bedrooms</th>\n",
       "      <th>population</th>\n",
       "      <th>households</th>\n",
       "      <th>median_income</th>\n",
       "      <th>median_house_value</th>\n",
       "      <th>ocean_proximity</th>\n",
       "    </tr>\n",
       "  </thead>\n",
       "  <tbody>\n",
       "    <tr>\n",
       "      <th>0</th>\n",
       "      <td>-122.230</td>\n",
       "      <td>37.880</td>\n",
       "      <td>41.000</td>\n",
       "      <td>880.000</td>\n",
       "      <td>129.000</td>\n",
       "      <td>322.000</td>\n",
       "      <td>126.000</td>\n",
       "      <td>8.325</td>\n",
       "      <td>452600.000</td>\n",
       "      <td>NEAR BAY</td>\n",
       "    </tr>\n",
       "    <tr>\n",
       "      <th>1</th>\n",
       "      <td>-122.220</td>\n",
       "      <td>37.860</td>\n",
       "      <td>21.000</td>\n",
       "      <td>7099.000</td>\n",
       "      <td>1106.000</td>\n",
       "      <td>2401.000</td>\n",
       "      <td>1138.000</td>\n",
       "      <td>8.301</td>\n",
       "      <td>358500.000</td>\n",
       "      <td>NEAR BAY</td>\n",
       "    </tr>\n",
       "    <tr>\n",
       "      <th>2</th>\n",
       "      <td>-122.240</td>\n",
       "      <td>37.850</td>\n",
       "      <td>52.000</td>\n",
       "      <td>1467.000</td>\n",
       "      <td>190.000</td>\n",
       "      <td>496.000</td>\n",
       "      <td>177.000</td>\n",
       "      <td>7.257</td>\n",
       "      <td>352100.000</td>\n",
       "      <td>NEAR BAY</td>\n",
       "    </tr>\n",
       "    <tr>\n",
       "      <th>3</th>\n",
       "      <td>-122.250</td>\n",
       "      <td>37.850</td>\n",
       "      <td>52.000</td>\n",
       "      <td>1274.000</td>\n",
       "      <td>235.000</td>\n",
       "      <td>558.000</td>\n",
       "      <td>219.000</td>\n",
       "      <td>5.643</td>\n",
       "      <td>341300.000</td>\n",
       "      <td>NEAR BAY</td>\n",
       "    </tr>\n",
       "    <tr>\n",
       "      <th>4</th>\n",
       "      <td>-122.250</td>\n",
       "      <td>37.850</td>\n",
       "      <td>52.000</td>\n",
       "      <td>1627.000</td>\n",
       "      <td>280.000</td>\n",
       "      <td>565.000</td>\n",
       "      <td>259.000</td>\n",
       "      <td>3.846</td>\n",
       "      <td>342200.000</td>\n",
       "      <td>NEAR BAY</td>\n",
       "    </tr>\n",
       "  </tbody>\n",
       "</table>\n",
       "</div>"
      ],
      "text/plain": [
       "   longitude  latitude  housing_median_age  total_rooms  total_bedrooms  \\\n",
       "0   -122.230    37.880              41.000      880.000         129.000   \n",
       "1   -122.220    37.860              21.000     7099.000        1106.000   \n",
       "2   -122.240    37.850              52.000     1467.000         190.000   \n",
       "3   -122.250    37.850              52.000     1274.000         235.000   \n",
       "4   -122.250    37.850              52.000     1627.000         280.000   \n",
       "\n",
       "   population  households  median_income  median_house_value ocean_proximity  \n",
       "0     322.000     126.000          8.325          452600.000        NEAR BAY  \n",
       "1    2401.000    1138.000          8.301          358500.000        NEAR BAY  \n",
       "2     496.000     177.000          7.257          352100.000        NEAR BAY  \n",
       "3     558.000     219.000          5.643          341300.000        NEAR BAY  \n",
       "4     565.000     259.000          3.846          342200.000        NEAR BAY  "
      ]
     },
     "execution_count": 216,
     "metadata": {},
     "output_type": "execute_result"
    }
   ],
   "source": [
    "df.head()"
   ]
  },
  {
   "cell_type": "code",
   "execution_count": 217,
   "id": "97e1b5bf",
   "metadata": {},
   "outputs": [
    {
     "data": {
      "text/plain": [
       "array(['NEAR BAY', '<1H OCEAN', 'INLAND', 'NEAR OCEAN', 'ISLAND'],\n",
       "      dtype=object)"
      ]
     },
     "execution_count": 217,
     "metadata": {},
     "output_type": "execute_result"
    }
   ],
   "source": [
    "df['ocean_proximity'].unique()"
   ]
  },
  {
   "cell_type": "code",
   "execution_count": 218,
   "id": "0bf5c2f2",
   "metadata": {},
   "outputs": [],
   "source": [
    "df = pd.get_dummies(df, columns=['ocean_proximity'])"
   ]
  },
  {
   "cell_type": "code",
   "execution_count": 219,
   "id": "4d8db6a3",
   "metadata": {},
   "outputs": [],
   "source": [
    "df = df.dropna()"
   ]
  },
  {
   "cell_type": "code",
   "execution_count": 220,
   "id": "e97dd785",
   "metadata": {},
   "outputs": [
    {
     "data": {
      "text/plain": [
       "Index(['longitude', 'latitude', 'housing_median_age', 'total_rooms',\n",
       "       'total_bedrooms', 'population', 'households', 'median_income',\n",
       "       'median_house_value', 'ocean_proximity_<1H OCEAN',\n",
       "       'ocean_proximity_INLAND', 'ocean_proximity_ISLAND',\n",
       "       'ocean_proximity_NEAR BAY', 'ocean_proximity_NEAR OCEAN'],\n",
       "      dtype='object')"
      ]
     },
     "execution_count": 220,
     "metadata": {},
     "output_type": "execute_result"
    }
   ],
   "source": [
    "df.columns"
   ]
  },
  {
   "cell_type": "code",
   "execution_count": 221,
   "id": "451b0540",
   "metadata": {},
   "outputs": [],
   "source": [
    "scaler = MinMaxScaler()\n",
    "\n",
    "df[['longitude', 'latitude', 'housing_median_age', 'total_rooms',\n",
    "       'total_bedrooms', 'population', 'households', 'median_income',\n",
    "       'median_house_value', 'ocean_proximity_<1H OCEAN',\n",
    "       'ocean_proximity_INLAND', 'ocean_proximity_ISLAND',\n",
    "       'ocean_proximity_NEAR BAY', 'ocean_proximity_NEAR OCEAN']] = scaler.fit_transform(\n",
    "    df[['longitude', 'latitude', 'housing_median_age', 'total_rooms',\n",
    "       'total_bedrooms', 'population', 'households', 'median_income',\n",
    "       'median_house_value', 'ocean_proximity_<1H OCEAN',\n",
    "       'ocean_proximity_INLAND', 'ocean_proximity_ISLAND',\n",
    "       'ocean_proximity_NEAR BAY', 'ocean_proximity_NEAR OCEAN']])"
   ]
  },
  {
   "cell_type": "code",
   "execution_count": 222,
   "id": "a4aa6fcd",
   "metadata": {},
   "outputs": [
    {
     "data": {
      "text/html": [
       "<div>\n",
       "<style scoped>\n",
       "    .dataframe tbody tr th:only-of-type {\n",
       "        vertical-align: middle;\n",
       "    }\n",
       "\n",
       "    .dataframe tbody tr th {\n",
       "        vertical-align: top;\n",
       "    }\n",
       "\n",
       "    .dataframe thead th {\n",
       "        text-align: right;\n",
       "    }\n",
       "</style>\n",
       "<table border=\"1\" class=\"dataframe\">\n",
       "  <thead>\n",
       "    <tr style=\"text-align: right;\">\n",
       "      <th></th>\n",
       "      <th>longitude</th>\n",
       "      <th>latitude</th>\n",
       "      <th>housing_median_age</th>\n",
       "      <th>total_rooms</th>\n",
       "      <th>total_bedrooms</th>\n",
       "      <th>population</th>\n",
       "      <th>households</th>\n",
       "      <th>median_income</th>\n",
       "      <th>median_house_value</th>\n",
       "      <th>ocean_proximity_&lt;1H OCEAN</th>\n",
       "      <th>ocean_proximity_INLAND</th>\n",
       "      <th>ocean_proximity_ISLAND</th>\n",
       "      <th>ocean_proximity_NEAR BAY</th>\n",
       "      <th>ocean_proximity_NEAR OCEAN</th>\n",
       "    </tr>\n",
       "  </thead>\n",
       "  <tbody>\n",
       "    <tr>\n",
       "      <th>0</th>\n",
       "      <td>0.211</td>\n",
       "      <td>0.567</td>\n",
       "      <td>0.784</td>\n",
       "      <td>0.022</td>\n",
       "      <td>0.020</td>\n",
       "      <td>0.009</td>\n",
       "      <td>0.021</td>\n",
       "      <td>0.540</td>\n",
       "      <td>0.902</td>\n",
       "      <td>0.000</td>\n",
       "      <td>0.000</td>\n",
       "      <td>0.000</td>\n",
       "      <td>1.000</td>\n",
       "      <td>0.000</td>\n",
       "    </tr>\n",
       "    <tr>\n",
       "      <th>1</th>\n",
       "      <td>0.212</td>\n",
       "      <td>0.565</td>\n",
       "      <td>0.392</td>\n",
       "      <td>0.181</td>\n",
       "      <td>0.171</td>\n",
       "      <td>0.067</td>\n",
       "      <td>0.187</td>\n",
       "      <td>0.538</td>\n",
       "      <td>0.708</td>\n",
       "      <td>0.000</td>\n",
       "      <td>0.000</td>\n",
       "      <td>0.000</td>\n",
       "      <td>1.000</td>\n",
       "      <td>0.000</td>\n",
       "    </tr>\n",
       "    <tr>\n",
       "      <th>2</th>\n",
       "      <td>0.210</td>\n",
       "      <td>0.564</td>\n",
       "      <td>1.000</td>\n",
       "      <td>0.037</td>\n",
       "      <td>0.029</td>\n",
       "      <td>0.014</td>\n",
       "      <td>0.029</td>\n",
       "      <td>0.466</td>\n",
       "      <td>0.695</td>\n",
       "      <td>0.000</td>\n",
       "      <td>0.000</td>\n",
       "      <td>0.000</td>\n",
       "      <td>1.000</td>\n",
       "      <td>0.000</td>\n",
       "    </tr>\n",
       "    <tr>\n",
       "      <th>3</th>\n",
       "      <td>0.209</td>\n",
       "      <td>0.564</td>\n",
       "      <td>1.000</td>\n",
       "      <td>0.032</td>\n",
       "      <td>0.036</td>\n",
       "      <td>0.016</td>\n",
       "      <td>0.036</td>\n",
       "      <td>0.355</td>\n",
       "      <td>0.673</td>\n",
       "      <td>0.000</td>\n",
       "      <td>0.000</td>\n",
       "      <td>0.000</td>\n",
       "      <td>1.000</td>\n",
       "      <td>0.000</td>\n",
       "    </tr>\n",
       "    <tr>\n",
       "      <th>4</th>\n",
       "      <td>0.209</td>\n",
       "      <td>0.564</td>\n",
       "      <td>1.000</td>\n",
       "      <td>0.041</td>\n",
       "      <td>0.043</td>\n",
       "      <td>0.016</td>\n",
       "      <td>0.042</td>\n",
       "      <td>0.231</td>\n",
       "      <td>0.675</td>\n",
       "      <td>0.000</td>\n",
       "      <td>0.000</td>\n",
       "      <td>0.000</td>\n",
       "      <td>1.000</td>\n",
       "      <td>0.000</td>\n",
       "    </tr>\n",
       "  </tbody>\n",
       "</table>\n",
       "</div>"
      ],
      "text/plain": [
       "   longitude  latitude  housing_median_age  total_rooms  total_bedrooms  \\\n",
       "0      0.211     0.567               0.784        0.022           0.020   \n",
       "1      0.212     0.565               0.392        0.181           0.171   \n",
       "2      0.210     0.564               1.000        0.037           0.029   \n",
       "3      0.209     0.564               1.000        0.032           0.036   \n",
       "4      0.209     0.564               1.000        0.041           0.043   \n",
       "\n",
       "   population  households  median_income  median_house_value  \\\n",
       "0       0.009       0.021          0.540               0.902   \n",
       "1       0.067       0.187          0.538               0.708   \n",
       "2       0.014       0.029          0.466               0.695   \n",
       "3       0.016       0.036          0.355               0.673   \n",
       "4       0.016       0.042          0.231               0.675   \n",
       "\n",
       "   ocean_proximity_<1H OCEAN  ocean_proximity_INLAND  ocean_proximity_ISLAND  \\\n",
       "0                      0.000                   0.000                   0.000   \n",
       "1                      0.000                   0.000                   0.000   \n",
       "2                      0.000                   0.000                   0.000   \n",
       "3                      0.000                   0.000                   0.000   \n",
       "4                      0.000                   0.000                   0.000   \n",
       "\n",
       "   ocean_proximity_NEAR BAY  ocean_proximity_NEAR OCEAN  \n",
       "0                     1.000                       0.000  \n",
       "1                     1.000                       0.000  \n",
       "2                     1.000                       0.000  \n",
       "3                     1.000                       0.000  \n",
       "4                     1.000                       0.000  "
      ]
     },
     "execution_count": 222,
     "metadata": {},
     "output_type": "execute_result"
    }
   ],
   "source": [
    "df.head()"
   ]
  },
  {
   "cell_type": "code",
   "execution_count": 223,
   "id": "4a48bd6b",
   "metadata": {},
   "outputs": [],
   "source": [
    "X = df[['longitude', 'latitude', 'housing_median_age', 'total_rooms',\n",
    "       'total_bedrooms', 'population', 'households', 'median_income','ocean_proximity_<1H OCEAN',\n",
    "       'ocean_proximity_INLAND', 'ocean_proximity_ISLAND',\n",
    "       'ocean_proximity_NEAR BAY', 'ocean_proximity_NEAR OCEAN']]\n",
    "y= df[['median_house_value']]"
   ]
  },
  {
   "cell_type": "code",
   "execution_count": 224,
   "id": "7185df03",
   "metadata": {},
   "outputs": [],
   "source": [
    "from sklearn.model_selection import train_test_split\n",
    "\n",
    "X_train, X_test, y_train, y_test = train_test_split(X, y, test_size=0.2, random_state=1)\n",
    "\n",
    "X_train, X_val, y_train, y_val = train_test_split(X_train, y_train, test_size=0.25, random_state=1) # 0.25 x 0.8 = 0.2"
   ]
  },
  {
   "cell_type": "code",
   "execution_count": 225,
   "id": "5c41c0fc",
   "metadata": {},
   "outputs": [
    {
     "data": {
      "text/plain": [
       "LinearRegression()"
      ]
     },
     "execution_count": 225,
     "metadata": {},
     "output_type": "execute_result"
    }
   ],
   "source": [
    "from sklearn.linear_model import LinearRegression\n",
    "\n",
    "regressor = LinearRegression()\n",
    "regressor.fit(X_train, y_train)"
   ]
  },
  {
   "cell_type": "code",
   "execution_count": 226,
   "id": "8c327fbd",
   "metadata": {},
   "outputs": [
    {
     "data": {
      "text/html": [
       "<div>\n",
       "<style scoped>\n",
       "    .dataframe tbody tr th:only-of-type {\n",
       "        vertical-align: middle;\n",
       "    }\n",
       "\n",
       "    .dataframe tbody tr th {\n",
       "        vertical-align: top;\n",
       "    }\n",
       "\n",
       "    .dataframe thead th {\n",
       "        text-align: right;\n",
       "    }\n",
       "</style>\n",
       "<table border=\"1\" class=\"dataframe\">\n",
       "  <thead>\n",
       "    <tr style=\"text-align: right;\">\n",
       "      <th></th>\n",
       "      <th>Coefficient</th>\n",
       "    </tr>\n",
       "  </thead>\n",
       "  <tbody>\n",
       "    <tr>\n",
       "      <th>longitude</th>\n",
       "      <td>-0.570</td>\n",
       "    </tr>\n",
       "    <tr>\n",
       "      <th>latitude</th>\n",
       "      <td>-0.516</td>\n",
       "    </tr>\n",
       "    <tr>\n",
       "      <th>housing_median_age</th>\n",
       "      <td>0.112</td>\n",
       "    </tr>\n",
       "    <tr>\n",
       "      <th>total_rooms</th>\n",
       "      <td>-0.354</td>\n",
       "    </tr>\n",
       "    <tr>\n",
       "      <th>total_bedrooms</th>\n",
       "      <td>1.168</td>\n",
       "    </tr>\n",
       "    <tr>\n",
       "      <th>population</th>\n",
       "      <td>-3.369</td>\n",
       "    </tr>\n",
       "    <tr>\n",
       "      <th>households</th>\n",
       "      <td>0.901</td>\n",
       "    </tr>\n",
       "    <tr>\n",
       "      <th>median_income</th>\n",
       "      <td>1.167</td>\n",
       "    </tr>\n",
       "    <tr>\n",
       "      <th>ocean_proximity_&lt;1H OCEAN</th>\n",
       "      <td>1394243721361.274</td>\n",
       "    </tr>\n",
       "    <tr>\n",
       "      <th>ocean_proximity_INLAND</th>\n",
       "      <td>1394243721361.197</td>\n",
       "    </tr>\n",
       "    <tr>\n",
       "      <th>ocean_proximity_ISLAND</th>\n",
       "      <td>1394243721361.561</td>\n",
       "    </tr>\n",
       "    <tr>\n",
       "      <th>ocean_proximity_NEAR BAY</th>\n",
       "      <td>1394243721361.267</td>\n",
       "    </tr>\n",
       "    <tr>\n",
       "      <th>ocean_proximity_NEAR OCEAN</th>\n",
       "      <td>1394243721361.283</td>\n",
       "    </tr>\n",
       "  </tbody>\n",
       "</table>\n",
       "</div>"
      ],
      "text/plain": [
       "                                 Coefficient\n",
       "longitude                             -0.570\n",
       "latitude                              -0.516\n",
       "housing_median_age                     0.112\n",
       "total_rooms                           -0.354\n",
       "total_bedrooms                         1.168\n",
       "population                            -3.369\n",
       "households                             0.901\n",
       "median_income                          1.167\n",
       "ocean_proximity_<1H OCEAN  1394243721361.274\n",
       "ocean_proximity_INLAND     1394243721361.197\n",
       "ocean_proximity_ISLAND     1394243721361.561\n",
       "ocean_proximity_NEAR BAY   1394243721361.267\n",
       "ocean_proximity_NEAR OCEAN 1394243721361.283"
      ]
     },
     "execution_count": 226,
     "metadata": {},
     "output_type": "execute_result"
    }
   ],
   "source": [
    "coeff_df = pd.DataFrame(np.transpose(regressor.coef_), X.columns, columns=['Coefficient'])\n",
    "coeff_df\n",
    "#np.transpose(regressor.coef_).shape"
   ]
  },
  {
   "cell_type": "code",
   "execution_count": 227,
   "id": "b661448a",
   "metadata": {},
   "outputs": [],
   "source": [
    "y_pred = regressor.predict(X_val)"
   ]
  },
  {
   "cell_type": "code",
   "execution_count": 228,
   "id": "5b0069cd",
   "metadata": {},
   "outputs": [
    {
     "data": {
      "text/plain": [
       "array([[0.32763672],\n",
       "       [0.23901367],\n",
       "       [0.31396484],\n",
       "       ...,\n",
       "       [0.45117188],\n",
       "       [0.16235352],\n",
       "       [0.48413086]])"
      ]
     },
     "execution_count": 228,
     "metadata": {},
     "output_type": "execute_result"
    }
   ],
   "source": [
    "y_pred"
   ]
  },
  {
   "cell_type": "code",
   "execution_count": 229,
   "id": "41271025",
   "metadata": {},
   "outputs": [
    {
     "data": {
      "text/html": [
       "<div>\n",
       "<style scoped>\n",
       "    .dataframe tbody tr th:only-of-type {\n",
       "        vertical-align: middle;\n",
       "    }\n",
       "\n",
       "    .dataframe tbody tr th {\n",
       "        vertical-align: top;\n",
       "    }\n",
       "\n",
       "    .dataframe thead th {\n",
       "        text-align: right;\n",
       "    }\n",
       "</style>\n",
       "<table border=\"1\" class=\"dataframe\">\n",
       "  <thead>\n",
       "    <tr style=\"text-align: right;\">\n",
       "      <th></th>\n",
       "      <th>0</th>\n",
       "      <th>1</th>\n",
       "    </tr>\n",
       "  </thead>\n",
       "  <tbody>\n",
       "    <tr>\n",
       "      <th>0</th>\n",
       "      <td>0.179</td>\n",
       "      <td>0.328</td>\n",
       "    </tr>\n",
       "    <tr>\n",
       "      <th>1</th>\n",
       "      <td>0.175</td>\n",
       "      <td>0.239</td>\n",
       "    </tr>\n",
       "    <tr>\n",
       "      <th>2</th>\n",
       "      <td>0.232</td>\n",
       "      <td>0.314</td>\n",
       "    </tr>\n",
       "    <tr>\n",
       "      <th>3</th>\n",
       "      <td>0.299</td>\n",
       "      <td>0.350</td>\n",
       "    </tr>\n",
       "    <tr>\n",
       "      <th>4</th>\n",
       "      <td>0.158</td>\n",
       "      <td>0.306</td>\n",
       "    </tr>\n",
       "    <tr>\n",
       "      <th>...</th>\n",
       "      <td>...</td>\n",
       "      <td>...</td>\n",
       "    </tr>\n",
       "    <tr>\n",
       "      <th>4082</th>\n",
       "      <td>0.162</td>\n",
       "      <td>0.184</td>\n",
       "    </tr>\n",
       "    <tr>\n",
       "      <th>4083</th>\n",
       "      <td>0.184</td>\n",
       "      <td>0.347</td>\n",
       "    </tr>\n",
       "    <tr>\n",
       "      <th>4084</th>\n",
       "      <td>0.684</td>\n",
       "      <td>0.451</td>\n",
       "    </tr>\n",
       "    <tr>\n",
       "      <th>4085</th>\n",
       "      <td>0.259</td>\n",
       "      <td>0.162</td>\n",
       "    </tr>\n",
       "    <tr>\n",
       "      <th>4086</th>\n",
       "      <td>0.299</td>\n",
       "      <td>0.484</td>\n",
       "    </tr>\n",
       "  </tbody>\n",
       "</table>\n",
       "<p>4087 rows × 2 columns</p>\n",
       "</div>"
      ],
      "text/plain": [
       "         0     1\n",
       "0    0.179 0.328\n",
       "1    0.175 0.239\n",
       "2    0.232 0.314\n",
       "3    0.299 0.350\n",
       "4    0.158 0.306\n",
       "...    ...   ...\n",
       "4082 0.162 0.184\n",
       "4083 0.184 0.347\n",
       "4084 0.684 0.451\n",
       "4085 0.259 0.162\n",
       "4086 0.299 0.484\n",
       "\n",
       "[4087 rows x 2 columns]"
      ]
     },
     "execution_count": 229,
     "metadata": {},
     "output_type": "execute_result"
    }
   ],
   "source": [
    "pd.DataFrame(np.hstack((y_val.to_numpy(), y_pred.reshape(-1, 1))))"
   ]
  },
  {
   "cell_type": "code",
   "execution_count": 230,
   "id": "cec3e274",
   "metadata": {},
   "outputs": [
    {
     "name": "stdout",
     "output_type": "stream",
     "text": [
      "Mean Absolute Error: 0.10572246480043591\n",
      "Mean Squared Error: 0.022465777030762482\n",
      "Root Mean Squared Error: 0.1498858800246457\n"
     ]
    }
   ],
   "source": [
    "from sklearn import metrics\n",
    "print('Mean Absolute Error:', metrics.mean_absolute_error(y_val, y_pred))\n",
    "print('Mean Squared Error:', metrics.mean_squared_error(y_val, y_pred))\n",
    "print('Root Mean Squared Error:', np.sqrt(metrics.mean_squared_error(y_val, y_pred)))"
   ]
  },
  {
   "cell_type": "code",
   "execution_count": 231,
   "id": "c6b7caf5",
   "metadata": {},
   "outputs": [
    {
     "data": {
      "text/plain": [
       "0.6147060255712351"
      ]
     },
     "execution_count": 231,
     "metadata": {},
     "output_type": "execute_result"
    }
   ],
   "source": [
    "regressor.score(X_val,y_val)"
   ]
  },
  {
   "cell_type": "code",
   "execution_count": null,
   "id": "9b356368",
   "metadata": {},
   "outputs": [],
   "source": []
  }
 ],
 "metadata": {
  "kernelspec": {
   "display_name": "Python 3 (ipykernel)",
   "language": "python",
   "name": "python3"
  },
  "language_info": {
   "codemirror_mode": {
    "name": "ipython",
    "version": 3
   },
   "file_extension": ".py",
   "mimetype": "text/x-python",
   "name": "python",
   "nbconvert_exporter": "python",
   "pygments_lexer": "ipython3",
   "version": "3.10.0"
  }
 },
 "nbformat": 4,
 "nbformat_minor": 5
}
